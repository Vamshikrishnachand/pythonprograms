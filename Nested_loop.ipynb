{
 "cells": [
  {
   "cell_type": "code",
   "execution_count": 9,
   "metadata": {},
   "outputs": [
    {
     "name": "stdout",
     "output_type": "stream",
     "text": [
      "1 2 3 \n",
      "1 2 3 \n",
      "1 2 3 \n"
     ]
    }
   ],
   "source": [
    "# Given a number N, write a program to print a Square of N rows using numbers starting from 1.\n",
    "N = int(input())\n",
    "for i in range(1,N+1):\n",
    "    pattern = \"\"\n",
    "    for j in range(1,N+1):\n",
    "        pattern = pattern + str(j) + \" \"\n",
    "    print(pattern)"
   ]
  },
  {
   "cell_type": "code",
   "execution_count": 10,
   "metadata": {},
   "outputs": [
    {
     "name": "stdout",
     "output_type": "stream",
     "text": [
      "1 \n",
      "1 2 \n",
      "1 2 3 \n"
     ]
    }
   ],
   "source": [
    "#Given a number N, write a program to print a Right Angled Triangle of N rows using numbers starting from 1.\n",
    "n = int(input())\n",
    "for i in range(1,n+1):\n",
    "    pattern = \"\" \n",
    "    for j in range(1,i+1):\n",
    "        pattern = pattern + str(j) + \" \"\n",
    "    print(pattern)"
   ]
  },
  {
   "cell_type": "code",
   "execution_count": 21,
   "metadata": {},
   "outputs": [
    {
     "name": "stdout",
     "output_type": "stream",
     "text": [
      "7 8 9 10 \n",
      "7 8 9 10 \n",
      "7 8 9 10 \n",
      "7 8 9 10 \n",
      "7 8 9 10 \n"
     ]
    }
   ],
   "source": [
    "#Given two numbers M and ,write a program to print a Rectangle of M rows and N columns using numbers starting from 7.\n",
    "M = int(input())\n",
    "N = int(input())\n",
    "start = 7\n",
    "for i in range(start,start+M):\n",
    "    pattern = \"\" \n",
    "    for j in range(N):\n",
    "        pattern += str(start+j) + \" \"\n",
    "    print(pattern)"
   ]
  },
  {
   "cell_type": "code",
   "execution_count": 1,
   "metadata": {},
   "outputs": [
    {
     "name": "stdout",
     "output_type": "stream",
     "text": [
      "    7 \n",
      "   7 8 \n",
      "  7 8 9 \n",
      " 7 8 9 10 \n",
      "7 8 9 10 11 \n"
     ]
    }
   ],
   "source": [
    "#Given two numbers s and n,write a program to print a pyramid of N roes using number starting from s.\n",
    "s = int(input())\n",
    "n = int(input())\n",
    "for i in range(n):\n",
    "    spaces = \" \" * (n-i-1)\n",
    "    print(spaces,end=\"\")\n",
    "    for j in range(i+1):\n",
    "        print(s+j,end=\" \")\n",
    "    print()"
   ]
  },
  {
   "cell_type": "code",
   "execution_count": 6,
   "metadata": {},
   "outputs": [
    {
     "name": "stdout",
     "output_type": "stream",
     "text": [
      "4 3 2 1 \n",
      "4 3 2 1 \n",
      "4 3 2 1 \n",
      "4 3 2 1 \n"
     ]
    }
   ],
   "source": [
    "#Given a number N,write a program to print the a Sqauare of N rows using numbers starting from N to 1.\n",
    "n = int(input())\n",
    "for i in range(1,n+1):\n",
    "    pattern = \"\" \n",
    "    for j in range(n,0,-1):\n",
    "        pattern += str(j) + \" \"\n",
    "    print(pattern)\n"
   ]
  },
  {
   "cell_type": "code",
   "execution_count": 13,
   "metadata": {},
   "outputs": [
    {
     "name": "stdout",
     "output_type": "stream",
     "text": [
      "      1 \n",
      "    2 1 \n",
      "  3 2 1 \n",
      "4 3 2 1 \n"
     ]
    }
   ],
   "source": [
    "#Given a number N,write a program to print a Right Angled Triangle of N rows using numbers starting from 1.\n",
    "n = int(input())\n",
    "for i in range(1,n+1):\n",
    "    spaces = \"  \" * (n-i)\n",
    "    pattern = \"\"\n",
    "    for j in range(1,i+1):\n",
    "        pattern = str(j) +\" \" + pattern \n",
    "    print(spaces+pattern) \n"
   ]
  },
  {
   "cell_type": "code",
   "execution_count": 26,
   "metadata": {},
   "outputs": [
    {
     "name": "stdout",
     "output_type": "stream",
     "text": [
      "1\n",
      "2\n",
      "3\n",
      "4\n",
      "5\n",
      "6\n",
      "7\n",
      "8\n",
      "9\n",
      "153\n"
     ]
    }
   ],
   "source": [
    "#Given a number N,write a program to print Armstrong numbers from 1 to N each on new line\n",
    "n = int(input())\n",
    "for i in range(1,n+1):\n",
    "    sum = 0 \n",
    "    num = str(i)\n",
    "    length = len(num)\n",
    "    for i in num:\n",
    "        single = int(i) ** length\n",
    "        sum += single\n",
    "    if sum == int(num):\n",
    "        print(num)"
   ]
  },
  {
   "cell_type": "code",
   "execution_count": 22,
   "metadata": {},
   "outputs": [
    {
     "name": "stdout",
     "output_type": "stream",
     "text": [
      "Armstrong Number\n"
     ]
    }
   ],
   "source": [
    "n = int(input())\n",
    "str_n = str(n)\n",
    "sum = 0 \n",
    "for i in str_n:\n",
    "    single = int(i) ** len(str_n)\n",
    "    sum += single\n",
    "if sum == n:\n",
    "    print(\"Armstrong Number\")\n",
    "else:\n",
    "    print(\"Not a Armstrong Number\")"
   ]
  },
  {
   "cell_type": "code",
   "execution_count": 33,
   "metadata": {},
   "outputs": [
    {
     "name": "stdout",
     "output_type": "stream",
     "text": [
      "2\n",
      "3\n",
      "5\n",
      "7\n",
      "11\n",
      "13\n",
      "17\n",
      "19\n",
      "23\n"
     ]
    }
   ],
   "source": [
    "#given a number N,write a program to print all the prime Numbers from 1 to N \n",
    "n = int(input())\n",
    "for i in range(2,n+1):\n",
    "    factors = 0 \n",
    "    for j in range(2,i):\n",
    "        if i % j == 0:\n",
    "            factors += 1\n",
    "    if factors == 0:\n",
    "        print(i)"
   ]
  },
  {
   "cell_type": "code",
   "execution_count": 42,
   "metadata": {},
   "outputs": [
    {
     "name": "stdout",
     "output_type": "stream",
     "text": [
      "No Prime Numbers Found\n"
     ]
    }
   ],
   "source": [
    "#Given two numbers M and N.Write a program to print all the Prime Numbers in the range from M to N.If no prime Numbers present in thegiven range print No prime Numbers Found.\n",
    "M = int(input())\n",
    "N = int(input())\n",
    "prime_Found = False\n",
    "for i in range(M,N+1):\n",
    "    factors = 0 \n",
    "    for j in range(2,i):\n",
    "        if i %j == 0:\n",
    "            factors += 1 \n",
    "            break\n",
    "    if (factors == 0) and i >1:\n",
    "        print(i,end=\" \")\n",
    "        prime_Found = True\n",
    "if not prime_Found:\n",
    "    print(\"No Prime Numbers Found\") "
   ]
  },
  {
   "cell_type": "code",
   "execution_count": 49,
   "metadata": {},
   "outputs": [
    {
     "name": "stdout",
     "output_type": "stream",
     "text": [
      "1 2 3 \n",
      "4 5 6 \n"
     ]
    }
   ],
   "source": [
    "#Given two number M and N,write a program to print a Rectangle of M rows and N columns using number starting from 1.\n",
    "M = int(input())\n",
    "N = int(input())\n",
    "num = 1\n",
    "for i in range(M):\n",
    "    pattern = \"\"\n",
    "    for j in range(N):\n",
    "        pattern += str(num) + \" \"\n",
    "        num += 1\n",
    "    print(pattern)"
   ]
  },
  {
   "cell_type": "code",
   "execution_count": 59,
   "metadata": {},
   "outputs": [
    {
     "name": "stdout",
     "output_type": "stream",
     "text": [
      "1 2 3 4 \n",
      "1 2 3 \n",
      "1 2 \n",
      "1 \n"
     ]
    }
   ],
   "source": [
    "# Given a number N, write a program to print an Inverted Right Angled Triangle of N rows using numbers starting from 1.\n",
    "n = int(input())\n",
    "for i in range(n):\n",
    "    pattern = \"\" \n",
    "    num = n - i \n",
    "    for j in range(1,num+1):\n",
    "        pattern += str(j) + \" \"\n",
    "    print(pattern)\n"
   ]
  },
  {
   "cell_type": "code",
   "execution_count": 60,
   "metadata": {},
   "outputs": [
    {
     "name": "stdout",
     "output_type": "stream",
     "text": [
      "1 \n",
      "2 3 \n",
      "4 5 6 \n",
      "7 8 9 10 \n"
     ]
    }
   ],
   "source": [
    "#write a program to print the numbers in the given N rows in the following half pyramid pattern.\n",
    "n = int(input())\n",
    "num = 1\n",
    "for i in range(1,n+1):\n",
    "    pattern = \"\" \n",
    "    for j in range(1,i+1):\n",
    "        pattern = pattern + str(num) + \" \"\n",
    "        num = num + 1 \n",
    "    print(pattern)"
   ]
  },
  {
   "cell_type": "code",
   "execution_count": 62,
   "metadata": {},
   "outputs": [
    {
     "name": "stdout",
     "output_type": "stream",
     "text": [
      "19\n",
      "23\n",
      "29\n",
      "31\n",
      "37\n"
     ]
    }
   ],
   "source": [
    "#Given two integers M and N,write a program to print all the prime numbers from M to N.\n",
    "M = int(input())\n",
    "N = int(input())\n",
    "for i in range(M,N+1):\n",
    "    factors = 0 \n",
    "    for j in range(2,i):\n",
    "        if i % j == 0:\n",
    "            factors += 1\n",
    "    if factors == 0:\n",
    "        print(i) "
   ]
  },
  {
   "cell_type": "code",
   "execution_count": 64,
   "metadata": {},
   "outputs": [
    {
     "name": "stdout",
     "output_type": "stream",
     "text": [
      "1 2 3 4 5 \n",
      "6 7 8 9 10 \n",
      "11 12 13 14 15 \n",
      "16 17 18 19 20 \n",
      "21 22 23 24 25 \n"
     ]
    }
   ],
   "source": [
    "#Given a number N,write a program to print a Square of N rows using numbers starting from 1.\n",
    "n = int(input())\n",
    "num = 1\n",
    "for i in range(1,n+1):\n",
    "    pattern = \"\" \n",
    "    for j in range(1,n+1):\n",
    "        pattern += str(num) + \" \"\n",
    "        num = num + 1\n",
    "    print(pattern) \n"
   ]
  },
  {
   "cell_type": "code",
   "execution_count": 68,
   "metadata": {},
   "outputs": [
    {
     "name": "stdout",
     "output_type": "stream",
     "text": [
      "10 \n",
      "11 12 \n",
      "13 14 15 \n",
      "16 17 18 19 \n",
      "20 21 22 23 24 \n"
     ]
    }
   ],
   "source": [
    "#Given two numbers S and N,write a program to print a Right Angled Traingle of N rows using numbers starting from S.\n",
    "S = int(input())\n",
    "N = int(input())\n",
    "num = S\n",
    "for i in range(N):\n",
    "    pattern = \"\" \n",
    "    for j in range(i+1):\n",
    "        pattern += str(num) + \" \"\n",
    "        num += 1 \n",
    "    print(pattern)"
   ]
  },
  {
   "cell_type": "code",
   "execution_count": 72,
   "metadata": {},
   "outputs": [
    {
     "name": "stdout",
     "output_type": "stream",
     "text": [
      "2 3 \n",
      "4 5 6 7 \n",
      "8 9 10 11 12 13 \n",
      "14 15 16 17 18 19 20 21 \n"
     ]
    }
   ],
   "source": [
    "#Given two numbers S and N,write a program to print a Right Angled Traingle of N rows using numbers starting from s.\n",
    "S = int(input())\n",
    "N = int(input())\n",
    "num = S \n",
    "for i in range(1,N+1):\n",
    "    pattern = \"\" \n",
    "    for j in range(2*i):\n",
    "        pattern += str(num) + \" \"\n",
    "        num += 1 \n",
    "    print(pattern)\n"
   ]
  },
  {
   "cell_type": "code",
   "execution_count": 73,
   "metadata": {},
   "outputs": [
    {
     "name": "stdout",
     "output_type": "stream",
     "text": [
      "30 29 28 27 26 \n",
      "25 24 23 22 21 \n",
      "20 19 18 17 16 \n",
      "15 14 13 12 11 \n",
      "10 9 8 7 6 \n",
      "5 4 3 2 1 \n"
     ]
    }
   ],
   "source": [
    "#Given two numbers M and N,write a program to print Rectangle of M rows and N columns that contains number starting from k in descending order.k is the count of numbers that can be printed in M rows and N columns of Recatangle.\n",
    "M = int(input())\n",
    "N = int(input())\n",
    "start = M*N \n",
    "for i in range(1,M+1):\n",
    "    pattern= \"\"\n",
    "    for j in range(1,N+1):\n",
    "        pattern += str(start) + \" \"\n",
    "        start -= 1 \n",
    "    print(pattern)"
   ]
  },
  {
   "cell_type": "code",
   "execution_count": 74,
   "metadata": {},
   "outputs": [
    {
     "name": "stdout",
     "output_type": "stream",
     "text": [
      "15 14 13 12 11 \n",
      "  10 9 8 7 \n",
      "    6 5 4 \n",
      "      3 2 \n",
      "        1 \n"
     ]
    }
   ],
   "source": [
    "# given a number, let's say N. Your task is to create an Inverted Right Angled Triangle with N rows. But there's a twist! The numbers you'll be using to form the triangle will start from a bigger number, K, and go down. How do we get K, you ask? It's simple. Just add all the numbers from 1 to N. \n",
    "# So, if N is 5, K will be 15 (5 + 4 + 3 + 2 + 1 = 15).\n",
    "\n",
    "n = int(input())\n",
    "\n",
    "start_number = 0\n",
    "for num in range(1, n + 1):\n",
    "    start_number = start_number + num\n",
    "    \n",
    "for row in range(n):\n",
    "    each_row = \"\"\n",
    "    left_spaces = \" \" * (2 * row)\n",
    "\n",
    "    for column in range(n - row):\n",
    "        each_row = each_row + str(start_number) + \" \"\n",
    "        start_number = start_number - 1\n",
    "        \n",
    "    each_row = left_spaces + each_row\n",
    "    print(each_row)"
   ]
  },
  {
   "cell_type": "code",
   "execution_count": 4,
   "metadata": {},
   "outputs": [
    {
     "name": "stdout",
     "output_type": "stream",
     "text": [
      "18 17 16 15 14 \n",
      "13 12 11 10 \n",
      "9 8 7 \n",
      "6 5 \n",
      "4 \n"
     ]
    }
   ],
   "source": [
    "#Given two numbers S and N,write a program to print an Inverted Right Angled Trainglee of N rows using numbers starting from k+s-1 and endign with s.\n",
    "# k is the count of numbes that printed in N rows of an Inverted Right Angled Triangle.\n",
    "S = int(input())\n",
    "N = int(input())\n",
    "\n",
    "# Calculate K as the sum of integers from 1 to N\n",
    "K = (N * (N + 1)) // 2\n",
    "\n",
    "# Calculate the start_num\n",
    "start_num = K + S - 1\n",
    "\n",
    "# Loop to iterate N times for each row\n",
    "for i in range(N):\n",
    "    row = \"\"  # Initialize an empty string to store the numbers for the current row\n",
    "    # Loop to iterate from 0 to N - i - 1 (to decrease the number of elements in each row)\n",
    "    for j in range(N - i):\n",
    "        row += str(start_num) + \" \"  # Add the current value of start_num to the row string followed by a space\n",
    "        start_num -= 1  # Decrease the value of start_num for the next iteration\n",
    "    print(row)\n"
   ]
  },
  {
   "cell_type": "code",
   "execution_count": 6,
   "metadata": {},
   "outputs": [
    {
     "name": "stdout",
     "output_type": "stream",
     "text": [
      "1 2 3 4 5 \n",
      " 1 2 3 4 \n",
      "  1 2 3 \n",
      "   1 2 \n",
      "    1 \n"
     ]
    }
   ],
   "source": [
    "#Given a number N,write a program to print an Inveted Pyramis of N rows using number starting from 1.\n",
    "n = int(input())\n",
    "for i in range(1,n+1):\n",
    "    spaces = \" \" * (i-1)\n",
    "    j = n - (i-1)\n",
    "    num = \"\"\n",
    "    for column in range(1,j+1):\n",
    "        num += (str(column)+\" \")\n",
    "    print(spaces+num)\n"
   ]
  },
  {
   "cell_type": "code",
   "execution_count": 11,
   "metadata": {},
   "outputs": [
    {
     "name": "stdout",
     "output_type": "stream",
     "text": [
      "    1 \n",
      "   1 2 \n",
      "  1 2 3 \n",
      " 1 2 3 4 \n",
      "1 2 3 4 5 \n",
      " 1 2 3 4 \n",
      "  1 2 3 \n",
      "   1 2 \n",
      "    1 \n"
     ]
    }
   ],
   "source": [
    "#  write a program that takes an integer N and prints a diamond shape consisting of 2 * N - 1 rows. The diamond is constructed using numbers starting from 1. The top half of the diamond increases in width up to N numbers, and the bottom half decreases back down to 1.\n",
    "n = int(input())\n",
    "for i in range(1,n+1):\n",
    "    left_spaces = \" \" * (n-i)\n",
    "    num = \"\" \n",
    "    for j in range(1,i+1):\n",
    "        num = num + (str(j) + \" \")\n",
    "    print(left_spaces+num)\n",
    "for k in range(n-1,0,-1):\n",
    "    pattern = \"\" \n",
    "    spaces = \" \" * (n-k)\n",
    "    for l in range(1,k+1):\n",
    "        pattern += str(l) + \" \"\n",
    "    print(spaces+pattern)"
   ]
  },
  {
   "cell_type": "code",
   "execution_count": 12,
   "metadata": {},
   "outputs": [
    {
     "name": "stdout",
     "output_type": "stream",
     "text": [
      "2\n"
     ]
    }
   ],
   "source": [
    "# write a program that calculates how many numbers from 1 to N are not divisible by any of the numbers in the set {2, 3, 4, 5, 6, 7, 8, 9, 10}. The program should output this count.\n",
    "n = int(input())\n",
    "count = 0 \n",
    "for i in range(1,n+1):\n",
    "    a = True \n",
    "    for j in range(2,11):\n",
    "        if (i%j) == 0:\n",
    "            a = False\n",
    "            break \n",
    "    if a == True:\n",
    "        count +=1 \n",
    "print(count)\n"
   ]
  },
  {
   "cell_type": "code",
   "execution_count": 15,
   "metadata": {},
   "outputs": [
    {
     "name": "stdout",
     "output_type": "stream",
     "text": [
      "4\n"
     ]
    }
   ],
   "source": [
    "# The program aims to find and print all composite numbers within a given range, from M to N. \n",
    "\n",
    "# Composite numbers are defined as those which have more than two factors, unlike prime numbers which have only two factors (1 and themselves).\n",
    "# The number 1 is a special case, as it is neither prime nor composite.\n",
    "M = int(input())\n",
    "N = int(input())\n",
    "for i in range(M,N+1):\n",
    "    factors = 0 \n",
    "    for j in range(2,i):\n",
    "        if i % j == 0:\n",
    "            factors += 1 \n",
    "    if factors != 0:\n",
    "        print(i)"
   ]
  },
  {
   "cell_type": "code",
   "execution_count": 21,
   "metadata": {},
   "outputs": [
    {
     "name": "stdout",
     "output_type": "stream",
     "text": [
      "1 2 3 "
     ]
    }
   ],
   "source": [
    "# write a program that identifies and prints all Armstrong Numbers within a given range, from M to N. An Armstrong Number is a special number that equals the sum of its own digits each raised to the power of the number of digits in the number.\n",
    "M = int(input())\n",
    "N = int(input())\n",
    "for i in range(M,N+1):\n",
    "    str_i = str(i)\n",
    "    sum = 0 \n",
    "    length_of_i = len(str_i)\n",
    "    for j in str_i:\n",
    "        single = int(j) ** length_of_i \n",
    "        sum += single \n",
    "    if sum == int(i):\n",
    "        print(i,end=\" \")"
   ]
  },
  {
   "cell_type": "code",
   "execution_count": 23,
   "metadata": {},
   "outputs": [
    {
     "name": "stdout",
     "output_type": "stream",
     "text": [
      "24 \n",
      "23 22 \n",
      "21 20 19 \n",
      "18 17 16 15 \n",
      "14 13 12 11 10 \n"
     ]
    }
   ],
   "source": [
    "#Given an integer N as a starting number and K as input,write a program to print a number pyramid of k rows as show below.\n",
    "n = int(input())\n",
    "k = int(input())\n",
    "num = n + int((k*(k+1))/2)-1\n",
    "for i in range(1,k+1):\n",
    "    pattern = \"\"\n",
    "    for j in range(1,i+1):\n",
    "        pattern += str(num) + \" \"\n",
    "        num -= 1 \n",
    "    print(pattern)"
   ]
  },
  {
   "cell_type": "code",
   "execution_count": 31,
   "metadata": {},
   "outputs": [
    {
     "name": "stdout",
     "output_type": "stream",
     "text": [
      "1 2 3 4 \n",
      "1     4 \n",
      "1     4 \n",
      "1 2 3 4 \n"
     ]
    }
   ],
   "source": [
    "# Given a number N, write a program to print a Hollow Square of N rows and N columns using numbers starting from 1.\n",
    "rows = int(input())\n",
    "for row in range(1,rows+1):\n",
    "    pattern = \"\"\n",
    "    for column in range(1,rows+1):\n",
    "        if row == 1 or row == rows:\n",
    "            pattern += str(column) + \" \"\n",
    "        else:\n",
    "            if column == 1 or column == rows:\n",
    "                pattern += str(column) + \" \"\n",
    "            else:\n",
    "                pattern += \"  \"\n",
    "    print(pattern)"
   ]
  },
  {
   "cell_type": "code",
   "execution_count": 37,
   "metadata": {},
   "outputs": [
    {
     "name": "stdout",
     "output_type": "stream",
     "text": [
      "1 \n",
      "1 2 \n",
      "1   3 \n",
      "1 2 3 4 \n"
     ]
    }
   ],
   "source": [
    "# Given a number N, write a program to print a Hollow triangle of N rows and N columns using numbers starting from 1.\n",
    "rows = int(input())\n",
    "for row in range(1,rows+1):\n",
    "    if(row>2) and (row<n):\n",
    "        spaces = \"  \" * (row-2)\n",
    "        numbers  = \"1 \" + spaces + str(row) + \" \"\n",
    "        print(numbers)\n",
    "    else:\n",
    "        pattern = \"\"\n",
    "        for j in range(1,row+1):\n",
    "            pattern += str(j) + \" \"\n",
    "        print(pattern)"
   ]
  },
  {
   "cell_type": "code",
   "execution_count": 44,
   "metadata": {},
   "outputs": [
    {
     "name": "stdout",
     "output_type": "stream",
     "text": [
      "2 3 4 \n",
      "5   7\n",
      "8 9 10 \n"
     ]
    }
   ],
   "source": [
    "# Given two numbers S and N, your task is to create a Hollow Square of N rows and N columns with numbers beginning from S. \n",
    "S = int(input())\n",
    "N = int(input())\n",
    "spaces = 2 * N - 3\n",
    "for i in range(1,N+1):\n",
    "    pattern = \"\"\n",
    "    for j in range(1,N+1):\n",
    "        if i == 1 or i == N:\n",
    "            pattern += str(S) + \" \"\n",
    "        else: \n",
    "            pattern = str(S-N+1) + \" \" * spaces + str(S)\n",
    "        S += 1 \n",
    "    print(pattern)\n"
   ]
  },
  {
   "cell_type": "code",
   "execution_count": 46,
   "metadata": {},
   "outputs": [
    {
     "name": "stdout",
     "output_type": "stream",
     "text": [
      "7 \n",
      "8 9 \n",
      "10   11 \n",
      "12 13 14 15 \n"
     ]
    }
   ],
   "source": [
    "# Given two numbers S and N, write a program to print a Hollow Right Angled Triangle of N rows using numbers staring from S.\n",
    "S = int(input())\n",
    "N = int(input())\n",
    "for i in range(1,n+1):\n",
    "    if i == n:\n",
    "        last_row = \"\"\n",
    "        for j in range(n):\n",
    "            S += 1 \n",
    "            last_row += str(S) + \" \"\n",
    "        print(last_row)\n",
    "    elif i == 1:\n",
    "        first_row = str(S) + \" \"\n",
    "        print(first_row)\n",
    "    else:\n",
    "        S += 1 \n",
    "        each_row = str(S) + \" \"\n",
    "        hollow_spaces = \"  \" * (i-2)\n",
    "        each_row += hollow_spaces \n",
    "        S += 1 \n",
    "        each_row += str(S) + \" \"\n",
    "        print(each_row) "
   ]
  },
  {
   "cell_type": "code",
   "execution_count": 51,
   "metadata": {},
   "outputs": [
    {
     "name": "stdout",
     "output_type": "stream",
     "text": [
      "18 17 16 15 14 13 \n",
      "12         7\n",
      "6 5 4 3 2 1 \n"
     ]
    }
   ],
   "source": [
    "#  create a hollow rectangle of M rows and N columns using numbers starting from K in descending order. Let's break it down into simple steps.\n",
    "m = int(input())\n",
    "n = int(input())\n",
    "first_num = m * n \n",
    "hollow_spaces = (n-2)\n",
    "for i in range(m):\n",
    "    each_row = \"\" \n",
    "    if i == 0 or i == m-1:\n",
    "        for j in range(n):\n",
    "            each_row += str(first_num) + \" \"\n",
    "            first_num -= 1 \n",
    "    else:\n",
    "        each_row = str(first_num) + \" \"\n",
    "        first_num = first_num - hollow_spaces - 1 \n",
    "        each_row += \"  \" * hollow_spaces + str(first_num)\n",
    "        first_num -= 1 \n",
    "    print(each_row)\n"
   ]
  },
  {
   "cell_type": "code",
   "execution_count": 52,
   "metadata": {},
   "outputs": [
    {
     "name": "stdout",
     "output_type": "stream",
     "text": [
      "1\n",
      "4\n",
      "153\n"
     ]
    }
   ],
   "source": [
    "# write a program that reads N inputs and prints the Armstrong Numbers in the given inputs.\n",
    "n = int(input())\n",
    "for i in range(n):\n",
    "    num = int(input())\n",
    "    str_num = str(num)\n",
    "    length = len(str_num)\n",
    "    total = 0 \n",
    "    for i in str_num:\n",
    "        total += int(i) ** length \n",
    "    if total == num:\n",
    "        print(num)\n",
    "        "
   ]
  },
  {
   "cell_type": "code",
   "execution_count": null,
   "metadata": {},
   "outputs": [],
   "source": [
    "# write a program that prints the sum of prime numbers between two numbers M and N. \n",
    "M = int(input())\n",
    "N = int(input())\n",
    "sum = 0\n",
    "for i in range(M,N+1):\n",
    "    factors = 0\n",
    "    for j in range(2,i):\n",
    "        if i % j == 0:\n",
    "            factors += 1 \n",
    "    if factors == 0:\n",
    "        sum += i \n",
    "print(sum)"
   ]
  },
  {
   "cell_type": "code",
   "execution_count": 5,
   "metadata": {},
   "outputs": [
    {
     "name": "stdout",
     "output_type": "stream",
     "text": [
      "11 10 9 8 \n",
      "  7   5 \n",
      "    4 3 \n",
      "      2 \n"
     ]
    }
   ],
   "source": [
    "# Given two numbers s and n,write a program to print a hollow inverted right angled triangle of n rows using numbers.\n",
    "# The numbers start from s on nth row and incresed by 1 untill the 1st row\n",
    "S = int(input())\n",
    "N = int(input())\n",
    "start_num = S - 1 \n",
    "for i in range(1,N+1):\n",
    "    start_num += i \n",
    "for row in range(N):\n",
    "    pattern = \"\"\n",
    "    left_spaces = \" \" * (2*row)\n",
    "    hollow_spaces = \"  \" * (N-row-2)\n",
    "    if row == 0 or row == N-1:\n",
    "        for column in range(N-row):\n",
    "            pattern += str(start_num-column) + \" \"\n",
    "    else:\n",
    "        pattern += str(start_num) + \" \"\n",
    "        pattern += hollow_spaces\n",
    "        pattern += str(start_num-(N-row-1)) + \" \"\n",
    "    start_num -= (N-row)\n",
    "    print(left_spaces+pattern)\n",
    "    "
   ]
  },
  {
   "cell_type": "code",
   "execution_count": 6,
   "metadata": {},
   "outputs": [
    {
     "name": "stdout",
     "output_type": "stream",
     "text": [
      "3 4 5 6 \n",
      " 7   9 \n",
      "  10 11 \n",
      "   12 \n"
     ]
    }
   ],
   "source": [
    "#Given two numbers s and n,write a program to print an Inverted Hollow Pyramid of N rows using numbers sarting from s.\n",
    "s = int(input())\n",
    "n = int(input())\n",
    "pattern = \"\"\n",
    "for i in range(n):\n",
    "    for j in range(n-i):\n",
    "        if i == 0:\n",
    "            pattern += str(s) + \" \" \n",
    "        print(pattern)\n"
   ]
  },
  {
   "cell_type": "code",
   "execution_count": 7,
   "metadata": {},
   "outputs": [
    {
     "name": "stdout",
     "output_type": "stream",
     "text": [
      "   1\n",
      "  1 2\n",
      " 1   3\n",
      "1     4\n",
      " 1   3\n",
      "  1 2\n",
      "   1\n"
     ]
    }
   ],
   "source": [
    "# Given a number N, you need to print a Hollow Diamond of 2 * N - 1 rows using numbers starting from 1. Each row contains numbers with spaces, forming a Hollow Diamond pattern.\n",
    "N = int(input())\n",
    "\n",
    "# Check if N is 1\n",
    "if N == 1:\n",
    "    print(1)\n",
    "else:\n",
    "    # Print upper part\n",
    "    for i in range(1, N + 1):\n",
    "        if i == 1:\n",
    "            print(\" \" * (N - 1) + \"1\")  # First row\n",
    "        else:\n",
    "            left_spaces = \" \" * (N - i)\n",
    "            hollow_spaces = \" \" * (2 * i - 3)\n",
    "            print(left_spaces + \"1\" + hollow_spaces + str(i))\n",
    "    \n",
    "    # Print lower part\n",
    "    hollow_spaces = N - 2\n",
    "    number = N - 1\n",
    "    for i in range(1, N - 1):\n",
    "        left_spaces = \" \" * i\n",
    "        hollow_spaces_count = \"  \" * (hollow_spaces-1)\n",
    "        print(left_spaces + \"1 \" + hollow_spaces_count + str(number))\n",
    "        number -= 1\n",
    "        hollow_spaces -= 1\n",
    "    \n",
    "    # Print last row\n",
    "    print(\" \" * (N - 1) + \"1\")\n"
   ]
  },
  {
   "cell_type": "code",
   "execution_count": 8,
   "metadata": {},
   "outputs": [
    {
     "name": "stdout",
     "output_type": "stream",
     "text": [
      "10\n"
     ]
    }
   ],
   "source": [
    "# write a program that sums up the prime numbers from a given list of numbers. A prime number is a positive integer greater than 1 that has no factors other than 1 and itself. \n",
    "n = int(input())\n",
    "sum = 0 \n",
    "for i in range(n):\n",
    "    num = int(input())\n",
    "    if num > 1:\n",
    "        factors = 0\n",
    "    for j in range(2,num):\n",
    "        if num % j == 0:\n",
    "            factors += 1\n",
    "    if factors == 0:\n",
    "        sum += num \n",
    "print(sum) "
   ]
  },
  {
   "cell_type": "code",
   "execution_count": 8,
   "metadata": {},
   "outputs": [
    {
     "name": "stdout",
     "output_type": "stream",
     "text": [
      "* \n",
      "* * \n",
      "* * * \n",
      "* * * * \n",
      "* * * \n",
      "* * \n",
      "* \n",
      "\n"
     ]
    }
   ],
   "source": [
    "#Given an integer N,write a program to print the solid half diamond pattern in(2*N-1) rows and N columns,simmilar to the pattern shown below.\n",
    "n = int(input())\n",
    "for i in range(1,n+1):\n",
    "    print(\"* \" *i)\n",
    "for i in range(1,n+1):\n",
    "    print(\"* \" *(n-i))"
   ]
  },
  {
   "cell_type": "code",
   "execution_count": 12,
   "metadata": {},
   "outputs": [
    {
     "name": "stdout",
     "output_type": "stream",
     "text": [
      "*             * \n",
      "* *         * * \n",
      "* * *     * * * \n",
      "* * * * * * * * \n",
      "* * *     * * * \n",
      "* *         * * \n",
      "*             * \n",
      "                \n"
     ]
    }
   ],
   "source": [
    "#given a number n,write a program to print a butterfly of 2*N rows using stars(*)\n",
    "N = int(input())\n",
    "for i in range(1,n+1):\n",
    "    pattern = \"* \" * i \n",
    "    middle_Spaces = \"  \" * 2*(n-i)\n",
    "    print(pattern+middle_Spaces+pattern)\n",
    "for j in range(1,n+1):\n",
    "    pattern = \"* \" * (n-j)\n",
    "    middle_Spaces = \"  \" * 2*j\n",
    "    print(pattern+middle_Spaces+pattern)"
   ]
  },
  {
   "cell_type": "code",
   "execution_count": 17,
   "metadata": {},
   "outputs": [
    {
     "name": "stdout",
     "output_type": "stream",
     "text": [
      "0 0 0 1 0 0 0 \n",
      "0 0 1 1 1 0 0 \n",
      "0 1 1 1 1 1 0 \n"
     ]
    }
   ],
   "source": [
    "#Given a number N,write a program to print a Pyramid inside a rectangle of n rows uisng ones (1)to represent the pyramid and zeros(0) in the remaning places of the rectangle.\n",
    "N = int(input())\n",
    "for i in range(1,N+1):\n",
    "    zeros = \"0 \" * (N-i)\n",
    "    ones = \"1 \" * (2*i-1) \n",
    "    print(zeros+ones+zeros)"
   ]
  },
  {
   "cell_type": "code",
   "execution_count": 18,
   "metadata": {},
   "outputs": [
    {
     "name": "stdout",
     "output_type": "stream",
     "text": [
      "      * * \n",
      "    * * * * \n",
      "  * * * * * * \n",
      "* * * * * * * * \n"
     ]
    }
   ],
   "source": [
    "#Given a number n,write a program to print a Pyramid of N rows using stars(*).\n",
    "N = int(input())\n",
    "for i in range(1,n+1):\n",
    "    spaces = \"  \" * (n-i)\n",
    "    stars = \"* \" * 2*i \n",
    "    print(spaces+stars)"
   ]
  },
  {
   "cell_type": "code",
   "execution_count": 19,
   "metadata": {},
   "outputs": [
    {
     "name": "stdout",
     "output_type": "stream",
     "text": [
      "* * * *\n",
      "*\n",
      "*\n",
      "* * * *\n",
      "*     *\n",
      "*     *\n",
      "* * * *\n"
     ]
    }
   ],
   "source": [
    "#Given a number N,write a program to print the 6 digit in 2*N-1 rows using stars(*)\n",
    "n = int(input())\n",
    "\n",
    "# Printing upper part of 6\n",
    "for i in range(1, n + 1):\n",
    "    if i == 1 or i == n:\n",
    "        print(\"* \" * (n - 1) + \"*\")\n",
    "    else:\n",
    "        print(\"*\")\n",
    "\n",
    "# Printing lower part of 6 with hollow spaces\n",
    "for i in range(1, n):\n",
    "    if i == n - 1:\n",
    "        print(\"* \" * (n - 1) + \"*\")\n",
    "    else:\n",
    "        print(\"* \" + \"  \" * (n - 2) + \"*\")\n"
   ]
  },
  {
   "cell_type": "code",
   "execution_count": 21,
   "metadata": {},
   "outputs": [
    {
     "name": "stdout",
     "output_type": "stream",
     "text": [
      "* * * * \n",
      "      *\n",
      "      *\n",
      "* * * * \n",
      "*\n",
      "*\n",
      "* * * * \n"
     ]
    }
   ],
   "source": [
    "#Given a number N,write a program to print the 2 digit in 2*N-1 rows using stars(*)\n",
    "n = int(input())\n",
    "for i in range(1,n+1):\n",
    "    if i == 1 or i == n:\n",
    "        print(\"* \" * n)\n",
    "    else:\n",
    "        left_spaces = \"  \" * (n-1)\n",
    "        print(left_spaces+\"*\")\n",
    "for j in range(1,n):\n",
    "    if j == n-1:\n",
    "        print(\"* \" * n)\n",
    "    else:\n",
    "        print(\"*\")\n"
   ]
  },
  {
   "cell_type": "code",
   "execution_count": 26,
   "metadata": {},
   "outputs": [
    {
     "name": "stdout",
     "output_type": "stream",
     "text": [
      "A B C D \n",
      "A B C D \n",
      "A B C D \n",
      "A B C D \n"
     ]
    }
   ],
   "source": [
    "#Given a number N,write a program to print a Square of N rows using letters.\n",
    "N = int(input())\n",
    "start = ord('A')\n",
    "pattern = \"\"\n",
    "for i in range(1,N+1):\n",
    "    pattern += chr(start) + \" \"\n",
    "    start += 1 \n",
    "for i in range(1,n+1):\n",
    "    print(pattern) "
   ]
  },
  {
   "cell_type": "code",
   "execution_count": 30,
   "metadata": {},
   "outputs": [
    {
     "name": "stdout",
     "output_type": "stream",
     "text": [
      "A B C D \n",
      "A B C \n",
      "A B \n",
      "A \n"
     ]
    }
   ],
   "source": [
    "#Given a number N,write a program to print an Inverted Right Angled Triangle of N rows using letters.\n",
    "n = int(input())\n",
    "start = ord('A')\n",
    "for i in range(n,0,-1):\n",
    "    pattern = \"\" \n",
    "    for j in range(i):\n",
    "        pattern += chr(start+j) + \" \" \n",
    "    print(pattern)\n"
   ]
  },
  {
   "cell_type": "code",
   "execution_count": 33,
   "metadata": {},
   "outputs": [
    {
     "name": "stdout",
     "output_type": "stream",
     "text": [
      "* * * * \n",
      "*     *\n",
      "*     *\n",
      "* * * * \n",
      "*     *\n",
      "*     *\n",
      "*     *\n",
      "* * * * \n"
     ]
    }
   ],
   "source": [
    "#Given a number N,write a program to print the 8 digit in 2*N-1 rows using stars(*)\n",
    "n = int(input())\n",
    "for i in range(1,2*n+1):\n",
    "    if i == 1 or i == n or i == 2*n:\n",
    "        print(\"* \" * n)\n",
    "    else:\n",
    "        spaces = \"  \" * (n-2)\n",
    "        print(\"* \" + spaces + \"*\")"
   ]
  },
  {
   "cell_type": "code",
   "execution_count": 35,
   "metadata": {},
   "outputs": [
    {
     "name": "stdout",
     "output_type": "stream",
     "text": [
      "4\n"
     ]
    }
   ],
   "source": [
    "#Given a number N,write a program to print the largest factor of N that is less than the number N.\n",
    "N = int(input())\n",
    "for i in range(2,N):\n",
    "    if n % i == 0:\n",
    "        largest = i \n",
    "print(largest)"
   ]
  },
  {
   "cell_type": "code",
   "execution_count": 38,
   "metadata": {},
   "outputs": [
    {
     "name": "stdout",
     "output_type": "stream",
     "text": [
      "* * * * \n",
      "*     *\n",
      "*     *\n",
      "* * * * \n",
      "      *\n",
      "      *\n",
      "* * * * \n"
     ]
    }
   ],
   "source": [
    "#Given a number N,write a program to print the 9 digit in 2*N-1 rows using stars(*)\n",
    "n = int(input())\n",
    "for i in range(1,n+1):\n",
    "    if i == 1 or i == n:\n",
    "        print(\"* \" * n)\n",
    "    else:\n",
    "        spaces = \"  \" * (n-2)\n",
    "        print(\"* \" + spaces + \"*\")\n",
    "for j in range(1,n):\n",
    "    if j == n-1:\n",
    "        print(\"* \" * n)\n",
    "    else:\n",
    "        spaces = \"  \" * (n-1)\n",
    "        print(spaces+\"*\")"
   ]
  },
  {
   "cell_type": "code",
   "execution_count": 43,
   "metadata": {},
   "outputs": [
    {
     "name": "stdout",
     "output_type": "stream",
     "text": [
      ". . . 0 . . . \n",
      ". . 0 0 0 . . \n",
      ". 0 0 0 0 0 . \n",
      "0 0 0 0 0 0 0 \n"
     ]
    }
   ],
   "source": [
    "# Given a number N, write a program to print a Pyramid inside a rectangle of N rows using zeroes (0) to represent the pyramid and dots (.) in the remaining places of the rectangle.\n",
    "n  = int(input())\n",
    "for i in range(1,n+1):\n",
    "    dots = \". \" * (n-i)\n",
    "    zeros = \"0 \" * (2*i-1)\n",
    "    print(dots+zeros+dots)"
   ]
  },
  {
   "cell_type": "code",
   "execution_count": 45,
   "metadata": {},
   "outputs": [
    {
     "name": "stdout",
     "output_type": "stream",
     "text": [
      "* * * * * \n",
      "        *\n",
      "        *\n",
      "        *\n",
      "* * * * * \n",
      "        *\n",
      "        *\n",
      "        *\n",
      "* * * * * \n"
     ]
    }
   ],
   "source": [
    "#Given a number N,write a program to print the 3 digit in 2*N-1 rows using stars(*)\n",
    "n = int(input())\n",
    "for i in range(1,2*n):\n",
    "    if i == 1 or i == n or i == 2*n-1:\n",
    "        print(\"* \" * n)\n",
    "    else:\n",
    "        spaces = \"  \" * (n-1)\n",
    "        print(spaces+\"*\")"
   ]
  },
  {
   "cell_type": "code",
   "execution_count": 52,
   "metadata": {},
   "outputs": [
    {
     "name": "stdout",
     "output_type": "stream",
     "text": [
      "* * * * \n",
      "*\n",
      "*\n",
      "* * * * \n",
      "      *\n",
      "      *\n",
      "* * * * \n"
     ]
    }
   ],
   "source": [
    "#Given a number N,write a program to print the 5 digit in 2*N-1 rows using stars(*)\n",
    "n = int(input())\n",
    "for i in range(1,n+1):\n",
    "    if i == 1 or i == n:\n",
    "        print(\"* \" * n)\n",
    "    else:\n",
    "        print(\"*\")\n",
    "for j in range(1,n):\n",
    "    if j == n-1:\n",
    "        print(\"* \" * n)\n",
    "    else:\n",
    "        spaces = \"  \" * (n-1)\n",
    "        print(spaces+\"*\")"
   ]
  },
  {
   "cell_type": "code",
   "execution_count": 56,
   "metadata": {},
   "outputs": [
    {
     "name": "stdout",
     "output_type": "stream",
     "text": [
      "A B C D E F \n",
      "G         L\n",
      "M         R\n",
      "S T U V W X \n"
     ]
    }
   ],
   "source": [
    "#Given two number M and N,write a program to print a Hollow Rectangle of m rows and n columns using letters.\n",
    "rows = int(input())\n",
    "columns = int(input())\n",
    "spaces = 2 * columns - 3 \n",
    "alphabets = \"ABCDEFGHIJKLMNOPQRSTUVWXYZ\"\n",
    "\n",
    "current_index = 0 \n",
    "for row in range(rows):\n",
    "    each_row = \"\" \n",
    "    for column in range(columns):\n",
    "        if row == 0 or row == rows - 1:\n",
    "            each_row = each_row + alphabets[current_index] + \" \"\n",
    "        elif column == 0:\n",
    "            each_row = each_row + alphabets[current_index] + \" \" * spaces + alphabets[columns + current_index - 1]\n",
    "        current_index += 1 \n",
    "    print(each_row)"
   ]
  },
  {
   "cell_type": "code",
   "execution_count": 31,
   "metadata": {},
   "outputs": [
    {
     "name": "stdout",
     "output_type": "stream",
     "text": [
      "A \n",
      "A B \n",
      "A B C \n",
      "A B C D \n",
      "A B C D E \n"
     ]
    }
   ],
   "source": [
    "n = int(input())\n",
    "start = ord('A')\n",
    "pattern = \"\"\n",
    "for i in range(1,n+1):\n",
    "    pattern += chr(start) + \" \"\n",
    "    start += 1\n",
    "    print(pattern)"
   ]
  },
  {
   "cell_type": "code",
   "execution_count": 4,
   "metadata": {},
   "outputs": [
    {
     "name": "stdout",
     "output_type": "stream",
     "text": [
      "13 14 15 16 17 18 \n",
      " 19       23 \n",
      "  24     27 \n",
      "   28   30 \n",
      "    31 32 \n",
      "     33 \n"
     ]
    }
   ],
   "source": [
    "start_number = int(input())\n",
    "n = int(input())\n",
    "\n",
    "for row in range(1, n + 1):\n",
    "    initial_spaces = \"  \" * (row - 1)\n",
    "\n",
    "    if row == 1:\n",
    "        first_row = \"\"\n",
    "\n",
    "        for column in range(n):        \n",
    "            first_row += str(start_number)+ \" \"\n",
    "            start_number += 1\n",
    "        print(initial_spaces + first_row)\n",
    "    \n",
    "    elif row == n:\n",
    "        last_row = str(start_number) + \" \"\n",
    "        print(initial_spaces + last_row)\n",
    "    \n",
    "    else:\n",
    "        each_row = str(start_number) + \" \"\n",
    "        hollow_spaces = \"  \" * (n - row - 1)\n",
    "        each_row += hollow_spaces\n",
    "        start_number += 1\n",
    "        each_row += str(start_number) + \" \"\n",
    "        start_number += 1\n",
    "        print(initial_spaces + each_row)"
   ]
  },
  {
   "cell_type": "code",
   "execution_count": 22,
   "metadata": {},
   "outputs": [
    {
     "name": "stdout",
     "output_type": "stream",
     "text": [
      "OEver Jn a NiLLion ZeARs \n"
     ]
    }
   ],
   "source": [
    "sentence = input().split()\n",
    "word = \"\"\n",
    "for i in sentence:\n",
    "    is_first_char = True\n",
    "    for j in i:\n",
    "        if j.isupper() and is_first_char:\n",
    "            word += chr((ord(j) - ord('A') + 1) % 26 + ord('A'))\n",
    "            is_first_char = False\n",
    "        else:\n",
    "            word += j\n",
    "            is_first_char = False\n",
    "    word += \" \"  # Add a space after each word\n",
    "print(word)\n"
   ]
  },
  {
   "cell_type": "code",
   "execution_count": 23,
   "metadata": {},
   "outputs": [
    {
     "name": "stdout",
     "output_type": "stream",
     "text": [
      "OFver Jn a NiMMion ZeBSs\n"
     ]
    }
   ],
   "source": [
    "sentence = input().split()\n",
    "output_sentence = []\n",
    "\n",
    "for word in sentence:\n",
    "    new_word = ''\n",
    "    for char in word:\n",
    "        if char.isupper():\n",
    "            new_char = chr((ord(char) - ord('A') + 1) % 26 + ord('A'))\n",
    "            new_word += new_char\n",
    "        else:\n",
    "            new_word += char\n",
    "    output_sentence.append(new_word)\n",
    "\n",
    "print(' '.join(output_sentence))"
   ]
  },
  {
   "cell_type": "code",
   "execution_count": 24,
   "metadata": {},
   "outputs": [
    {
     "name": "stdout",
     "output_type": "stream",
     "text": [
      "DPOM BT B DVCUNCFS \n"
     ]
    }
   ],
   "source": [
    "sentence = input().split()\n",
    "word = \"\"\n",
    "for i in sentence:\n",
    "    seen_chars = set()\n",
    "    for j in i:\n",
    "        if j not in seen_chars:\n",
    "            word += chr(ord(j) + 1) \n",
    "            seen_chars.add(j)\n",
    "        else:\n",
    "            word += j\n",
    "    word += \" \"\n",
    "print(word)\n"
   ]
  },
  {
   "cell_type": "code",
   "execution_count": 25,
   "metadata": {},
   "outputs": [
    {
     "name": "stdout",
     "output_type": "stream",
     "text": [
      "DOOL BS B DUCUMBER\n"
     ]
    }
   ],
   "source": [
    "# Read the input sentence\n",
    "sentence = input()\n",
    "\n",
    "# Split the sentence into words\n",
    "words = sentence.split()\n",
    "\n",
    "# Initialize an empty list to store modified words\n",
    "modified_words = []\n",
    "\n",
    "# Iterate through each word in the sentence\n",
    "for word in words:\n",
    "    # Get the first character of the word\n",
    "    first_char = word[0]\n",
    "    \n",
    "    # Calculate the Unicode value of the next character\n",
    "    next_char_unicode = ord(first_char) + 1\n",
    "    \n",
    "    # Replace the first character of the word with the next character\n",
    "    modified_word = chr(next_char_unicode) + word[1:]\n",
    "    \n",
    "    # Add the modified word to the list\n",
    "    modified_words.append(modified_word)\n",
    "\n",
    "# Join the modified words to form the modified sentence\n",
    "modified_sentence = ' '.join(modified_words)\n",
    "\n",
    "# Print the modified sentence\n",
    "print(modified_sentence)\n"
   ]
  }
 ],
 "metadata": {
  "kernelspec": {
   "display_name": "Python 3",
   "language": "python",
   "name": "python3"
  },
  "language_info": {
   "codemirror_mode": {
    "name": "ipython",
    "version": 3
   },
   "file_extension": ".py",
   "mimetype": "text/x-python",
   "name": "python",
   "nbconvert_exporter": "python",
   "pygments_lexer": "ipython3",
   "version": "3.12.2"
  }
 },
 "nbformat": 4,
 "nbformat_minor": 2
}
