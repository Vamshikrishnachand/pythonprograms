{
 "cells": [
  {
   "cell_type": "code",
   "execution_count": 25,
   "metadata": {},
   "outputs": [
    {
     "name": "stdout",
     "output_type": "stream",
     "text": [
      "10\n"
     ]
    }
   ],
   "source": [
    "# Write a program to recursively compute the sum of the numbers from 1 to N.\n",
    "def sum_of_number(n):\n",
    "    if n == 1:\n",
    "        return n \n",
    "    return n + sum_of_number(n-1)\n",
    "n= int(input())\n",
    "result = sum_of_number(n)\n",
    "print(result)"
   ]
  },
  {
   "cell_type": "code",
   "execution_count": null,
   "metadata": {},
   "outputs": [
    {
     "name": "stdout",
     "output_type": "stream",
     "text": [
      "14\n"
     ]
    }
   ],
   "source": [
    "#write a program that returns the sum of the numbers in the list using Recursion\n",
    "def sum_of_number(numbers):\n",
    "    each_number = int(numbers[0])\n",
    "    if len(numbers) == 1:\n",
    "        return each_number\n",
    "    return each_number + sum_of_number(numbers[1:])\n",
    "numbers = input().split()\n",
    "print(sum_of_number(numbers))"
   ]
  },
  {
   "cell_type": "code",
   "execution_count": null,
   "metadata": {},
   "outputs": [
    {
     "name": "stdout",
     "output_type": "stream",
     "text": [
      "720\n"
     ]
    }
   ],
   "source": [
    "#write a program to print the factorial of N.Factorial is the product of all postive integers less than or equal to N\n",
    "def factorial(n):\n",
    "    if n == 1 or n == 1:\n",
    "        return 1  \n",
    "    return n * factorial(n-1)\n",
    "n= int(input())\n",
    "print(factorial(n))"
   ]
  },
  {
   "cell_type": "code",
   "execution_count": null,
   "metadata": {},
   "outputs": [
    {
     "name": "stdout",
     "output_type": "stream",
     "text": [
      "45\n"
     ]
    }
   ],
   "source": [
    "#Write a program that returns the sum of squares of the numbers in the list L using Recursion\n",
    "def square_root(n):\n",
    "    return (int(n) ** 2)\n",
    "\n",
    "def sum_of_squares(numbers):\n",
    "    sum_of_numbers = 0 \n",
    "    for i in numbers:\n",
    "        sum_of_numbers += square_root(i)\n",
    "    return sum_of_numbers\n",
    "\n",
    "numbers = input().split()\n",
    "print(sum_of_squares(numbers))    "
   ]
  },
  {
   "cell_type": "code",
   "execution_count": null,
   "metadata": {},
   "outputs": [
    {
     "name": "stdout",
     "output_type": "stream",
     "text": [
      "36\n"
     ]
    }
   ],
   "source": [
    "#Write a program to find  the largest of squares of the numbers in the list L using Recursion\n",
    "def square_root(n):\n",
    "    return (int(n) ** 2)\n",
    "\n",
    "def sum_of_squares(numbers):\n",
    "    list_a = []\n",
    "    for i in numbers:\n",
    "        list_a+= [square_root(i)]\n",
    "    return max(list_a)\n",
    "\n",
    "numbers = input().split()\n",
    "print(sum_of_squares(numbers))    "
   ]
  },
  {
   "cell_type": "code",
   "execution_count": null,
   "metadata": {},
   "outputs": [
    {
     "name": "stdout",
     "output_type": "stream",
     "text": [
      "3\n"
     ]
    }
   ],
   "source": [
    "#write a program to recusively compute the sum of the digits in the given number N.\n",
    "def sum_of_digits(numbers):\n",
    "    if numbers < 10:\n",
    "        return numbers\n",
    "    return (numbers%10) + sum_of_digits(numbers//10)\n",
    "n = int(input())\n",
    "result = sum_of_digits(n)\n",
    "print(result)"
   ]
  },
  {
   "cell_type": "code",
   "execution_count": null,
   "metadata": {},
   "outputs": [
    {
     "name": "stdout",
     "output_type": "stream",
     "text": [
      "3\n"
     ]
    }
   ],
   "source": [
    "# write a program to recursively compute the values of A raised to the power B.\n",
    "def calculate_power(x,y):\n",
    "    if y == 1:\n",
    "        return x \n",
    "    return x ** y \n",
    "x = int(input())\n",
    "y = int(input())\n",
    "print(calculate_power(x,y))"
   ]
  },
  {
   "cell_type": "code",
   "execution_count": null,
   "metadata": {},
   "outputs": [
    {
     "name": "stdout",
     "output_type": "stream",
     "text": [
      "tcaer\n"
     ]
    }
   ],
   "source": [
    "# Write a program that returns the reverse of the given string S using Recursion\n",
    "def reseve_string(string):\n",
    "    if len(string)==1:\n",
    "        return string\n",
    "    return string[::-1]\n",
    "\n",
    "string = input()\n",
    "print(reseve_string(string))"
   ]
  },
  {
   "cell_type": "code",
   "execution_count": null,
   "metadata": {},
   "outputs": [
    {
     "name": "stdout",
     "output_type": "stream",
     "text": [
      "18\n"
     ]
    }
   ],
   "source": [
    "# Write a program that returns the sum of the given series up to N terms using Recursion\n",
    "def get_Sum_of_Series(number,number_of_terms):\n",
    "    if number_of_terms == 0:\n",
    "        return 0 \n",
    "    current_term = number - 2*(number_of_terms-1)\n",
    "    return current_term + get_Sum_of_Series(number,number_of_terms-1)\n",
    "\n",
    "number = int(input())\n",
    "number_of_terms = int(input())\n",
    "\n",
    "series_sum = get_Sum_of_Series(number,number_of_terms)\n",
    "print(series_sum)"
   ]
  },
  {
   "cell_type": "code",
   "execution_count": null,
   "metadata": {},
   "outputs": [
    {
     "name": "stdout",
     "output_type": "stream",
     "text": [
      "1.83\n"
     ]
    }
   ],
   "source": [
    "# write a program that returns the sum of the given series upto N terms using Recursion the sum should be rounded up to 2 decimals.\n",
    "def sum_of_series(number):\n",
    "    if number == 1:\n",
    "        return 1 \n",
    "    else:\n",
    "        return 1/number + sum_of_series(number-1)\n",
    "    \n",
    "def get_series_sum(number):\n",
    "    sum_series = sum_of_series(number)\n",
    "    return round(sum_series,2)\n",
    "\n",
    "number = int(input())\n",
    "series_sum = get_series_sum(number)\n",
    "print(series_sum)"
   ]
  },
  {
   "cell_type": "code",
   "execution_count": null,
   "metadata": {},
   "outputs": [],
   "source": [
    "#write a program that returns the index of the first occurence of the given number N in the List using recursion\n",
    "def get_index(numbers_list, number,current_index = 0):\n",
    "    if current_index > len(numbers_list):\n",
    "        return -1 \n",
    "    if int(numbers_list[current_index]) == number:\n",
    "        return current_index\n",
    "    return get_index(numbers_list,number,current_index+1)\n",
    "        \n",
    "numbers_list = input().split()\n",
    "number = int(input())\n",
    "number_index = get_index(numbers_list,number)\n",
    "print(number_index)"
   ]
  },
  {
   "cell_type": "code",
   "execution_count": null,
   "metadata": {},
   "outputs": [
    {
     "name": "stdout",
     "output_type": "stream",
     "text": [
      "True\n"
     ]
    }
   ],
   "source": [
    "# write a program that checks if S is a Palindrome using recursion Return True if S is a Palindrome.Otherwise,return False.\n",
    "def is_palindrome(string):\n",
    "    if len(string) == 1:\n",
    "        return string\n",
    "    else:\n",
    "        string = string.lower()\n",
    "        reverse = string[::-1]\n",
    "    if reverse == string:\n",
    "        return True\n",
    "    else:\n",
    "        return False\n",
    "    \n",
    "string = input()\n",
    "is_true = is_palindrome(string)\n",
    "\n",
    "print(is_true)"
   ]
  },
  {
   "cell_type": "code",
   "execution_count": null,
   "metadata": {},
   "outputs": [
    {
     "name": "stdout",
     "output_type": "stream",
     "text": [
      "['Cricket', 'Hockey', 'Football', 'Badminton', 'Golf']\n"
     ]
    }
   ],
   "source": [
    "# write a program that adds a given sport to the end of the list and then prints the updated list.\n",
    "sports_list = ['Cricket', 'Hockey', 'Football', 'Badminton']\n",
    "sport = input()\n",
    "sports_list.append(sport)\n",
    "print(sports_list)"
   ]
  },
  {
   "cell_type": "code",
   "execution_count": null,
   "metadata": {},
   "outputs": [
    {
     "name": "stdout",
     "output_type": "stream",
     "text": [
      "['5', '7', 'Rohit', 'Virat', 'Dhoni', 'Surya', 'Rahul', 'Ishan', 'Gill']\n"
     ]
    }
   ],
   "source": [
    "#A List L is given in the prefilled code \n",
    "# Write a program that reads spaces-separted string and prints a list obtained by adding given space-separated string to end of the list L.\n",
    "L = [\"5\",\"7\",\"Rohit\",\"Virat\",\"Dhoni\"]\n",
    "word = input().split()\n",
    "list_a = []\n",
    "for i in word:\n",
    "    list_a += [i]\n",
    "L.extend(list_a)\n",
    "print(L)"
   ]
  },
  {
   "cell_type": "code",
   "execution_count": null,
   "metadata": {},
   "outputs": [
    {
     "name": "stdout",
     "output_type": "stream",
     "text": [
      "[10, 20, 30, 40, 50, 60]\n"
     ]
    }
   ],
   "source": [
    "#For this problem the prefilled code will contain a list.write a program to insert a number(N) at the given index(I) location in the list.\n",
    "nums_list = [10, 20, 40, 50, 60]\n",
    "value = int(input())\n",
    "index = int(input())\n",
    "nums_list.insert(index,value)\n",
    "print(nums_list)"
   ]
  },
  {
   "cell_type": "code",
   "execution_count": null,
   "metadata": {},
   "outputs": [
    {
     "name": "stdout",
     "output_type": "stream",
     "text": [
      "['Python', 'C', 'Java', 'Ruby', 'C++', 'CSS', 'HTML', 'Bash', 'Perl', 'R', 'Swift']\n"
     ]
    }
   ],
   "source": [
    "# you are given a list of programming languages. Your task is to remove the last N items from the list. The input will be a single line containing an integer (N), and the output should be a single line containing the list without the last N items.\n",
    "programming_languages = ['Python', 'C', 'Java', 'Ruby', 'C++', 'CSS', 'HTML', 'Bash', 'Perl', 'R', 'Swift', 'SQL', 'PHP', 'JavaScript']\n",
    "last_item = int(input())\n",
    "for i in range(last_item):\n",
    "    programming_languages.pop()\n",
    "print(programming_languages)"
   ]
  },
  {
   "cell_type": "code",
   "execution_count": null,
   "metadata": {},
   "outputs": [
    {
     "name": "stdout",
     "output_type": "stream",
     "text": [
      "2\n"
     ]
    }
   ],
   "source": [
    "#write a program to count all the occurrences of the given number(N) in the list.\n",
    "nums_list = [5, 10, 20, 35, 5, 50, 20, 100, 200, 10, 150, 100, 100, 20,20]\n",
    "numbers = int(input())\n",
    "count = nums_list.count(numbers)\n",
    "print(count)"
   ]
  },
  {
   "cell_type": "code",
   "execution_count": null,
   "metadata": {},
   "outputs": [
    {
     "name": "stdout",
     "output_type": "stream",
     "text": [
      "4\n"
     ]
    }
   ],
   "source": [
    "#write a progam that reads a number N and prints the index of the given number N int the list L.If there are multople occurence of N,print all indices seperated by a space.\n",
    "list_a = [5, 4, 10, 2, 3, 2, 5, 15, 4, 4]\n",
    "number = int(input())\n",
    "indices = []\n",
    "for i in range(len(list_a)):\n",
    "    if list_a[i] == number:\n",
    "        indices.append(i)\n",
    "print(\" \".join(map(str,indices)))"
   ]
  },
  {
   "cell_type": "code",
   "execution_count": null,
   "metadata": {},
   "outputs": [],
   "source": [
    "#write a program to remove all the occurence of the given number(N) in a list\n",
    "nums_list = [5, 10, 20, 35, 5, 50, 20, 100, 200, 10, 150, 100, 100]\n",
    "number = int(input())\n",
    "count_occurence = numbers_list.count(number)\n",
    "for i in range(nums_list):\n",
    "    nums_list.remove(number)\n",
    "print(nums_list)"
   ]
  },
  {
   "cell_type": "code",
   "execution_count": null,
   "metadata": {},
   "outputs": [
    {
     "name": "stdout",
     "output_type": "stream",
     "text": [
      "21\n"
     ]
    }
   ],
   "source": [
    "#Write a progam to recursively find the Nth term in the Fibonacci series.\n",
    "def fabonacci(n):\n",
    "    if n <= 1:\n",
    "        return n \n",
    "    else:\n",
    "        return fabonacci(n-1) + fabonacci(n-2)\n",
    "n = int(input())\n",
    "res = fabonacci(n)\n",
    "print(res)"
   ]
  },
  {
   "cell_type": "code",
   "execution_count": null,
   "metadata": {},
   "outputs": [
    {
     "name": "stdout",
     "output_type": "stream",
     "text": [
      "[0, 1, 1, 2]\n"
     ]
    }
   ],
   "source": [
    "#write a program to recursively create a list of N fibonacci terms\n",
    "def fabonacci(n):\n",
    "    if n<=1:\n",
    "        return n \n",
    "    else:\n",
    "        return fabonacci(n-1) + fabonacci(n-2)\n",
    "\n",
    "def fabonacci_Series(n):\n",
    "    fabonacci_list = []\n",
    "    for i in range(n):\n",
    "        term = fabonacci(i)\n",
    "        fabonacci_list.append(term)\n",
    "    return fabonacci_list\n",
    "\n",
    "n = int(input())\n",
    "res = fabonacci_Series(n)\n",
    "print(res)"
   ]
  },
  {
   "cell_type": "code",
   "execution_count": null,
   "metadata": {},
   "outputs": [
    {
     "name": "stdout",
     "output_type": "stream",
     "text": [
      "[1, 2, 5]\n"
     ]
    }
   ],
   "source": [
    "# In this coding question, you are given a list nums_list = []. Your task is to write a program that performs various commands on the list. The commands are:\n",
    "# insert I E\n",
    "# insert the integer E at index I\n",
    "# append E\n",
    "# insert integer E at the end of the list\n",
    "# pop\n",
    "# remove the last element\n",
    "# remove E\n",
    "# remove the first occurrence of integer E\n",
    "# sort\n",
    "# sort the list in ascending order\n",
    "# print\n",
    "# print the list\n",
    "# You will be given an integer N, followed by N lines of commands. For each command of type print, print the list on a new line.\n",
    "n = int(input())\n",
    "nums_list = []\n",
    "for i in range(n):\n",
    "    command = input().split()\n",
    "    if command[0] == \"insert\":\n",
    "        value = int(command[1])\n",
    "        index = int(command[2])\n",
    "        nums_list.insert(value,index)\n",
    "    elif command[0] == \"append\":\n",
    "        value = int(command[1])\n",
    "        nums_list.append(value)\n",
    "    elif command[0] == \"pop\":\n",
    "        nums_list.pop()\n",
    "    elif command[0] == \"remove\":\n",
    "        value = int(command[1])\n",
    "        nums_list.remove(value)\n",
    "    elif command[0] == \"sort\":\n",
    "        nums_list.sort()\n",
    "    elif command[0] == \"print\":\n",
    "        print(nums_list)"
   ]
  },
  {
   "cell_type": "code",
   "execution_count": null,
   "metadata": {},
   "outputs": [
    {
     "name": "stdout",
     "output_type": "stream",
     "text": [
      "5\n"
     ]
    }
   ],
   "source": [
    "#Given comma-separated numbers,write a program to find the Mode of the given numbers.\n",
    "numbers = input().split(\",\")\n",
    "length = len(numbers)\n",
    "occurence = []\n",
    "for num in range(len(numbers)):\n",
    "    count_check = numbers.count(numbers[num])\n",
    "    occurence += [count_check]\n",
    "find_number = (occurence.index(max(occurence)))\n",
    "print(numbers[find_number]) "
   ]
  },
  {
   "cell_type": "code",
   "execution_count": null,
   "metadata": {},
   "outputs": [
    {
     "name": "stdout",
     "output_type": "stream",
     "text": [
      "[6, 8]\n",
      "[1, 3, 5, 7]\n"
     ]
    }
   ],
   "source": [
    "# writing a program that separates a given set of numbers into even and odd categories, sorts each category in ascending order, and prints them out as separate lists. \n",
    "numbers = input().split()\n",
    "even_numbers = []\n",
    "odd_numbers = []\n",
    "for i in numbers:\n",
    "    if int(i) % 2 == 0:\n",
    "        even_numbers += [int(i)]\n",
    "    else:\n",
    "        odd_numbers += [int(i)]\n",
    "print(sorted(even_numbers))\n",
    "print(sorted(odd_numbers))"
   ]
  },
  {
   "cell_type": "code",
   "execution_count": 14,
   "metadata": {},
   "outputs": [
    {
     "name": "stdout",
     "output_type": "stream",
     "text": [
      "['1', '2', '3', '6', '8', '7']\n"
     ]
    }
   ],
   "source": [
    "#Given a number N,write a pogram that reads an lines of input containg space-seperated strings and prints a list ofall strings on lines sorted in ascending order.\n",
    "n = int(input())\n",
    "list_a = []\n",
    "for i in range(n):\n",
    "    numbers = input().split()\n",
    "    list_a.extend(numbers)\n",
    "print(list_a)"
   ]
  },
  {
   "cell_type": "code",
   "execution_count": 18,
   "metadata": {},
   "outputs": [
    {
     "name": "stdout",
     "output_type": "stream",
     "text": [
      "['Apple', 'kiwi', 'mango', 'gapes', 'jackfurit', 'peach']\n"
     ]
    }
   ],
   "source": [
    "#Given list A and B of spaces-seperated elements,each on new line of the same length.Write a program to insert the elements of list B into list A at odd indices.\n",
    "list_a = input().split()\n",
    "list_b = input().split()\n",
    "list_c = []\n",
    "for i in range(min(len(list_a),len(list_b))):\n",
    "    list_c.append(list_a[i])\n",
    "    list_c.append(list_b[i])\n",
    "print(list_c)"
   ]
  },
  {
   "cell_type": "code",
   "execution_count": 19,
   "metadata": {},
   "outputs": [
    {
     "name": "stdout",
     "output_type": "stream",
     "text": [
      "['The', 'favorite', 'dish', 'of', 'was', 'pie']\n"
     ]
    }
   ],
   "source": [
    "#Given a sentences S that contains space-seperated words,write a program to print a list of words that do not start with lowercase letter a\n",
    "word = input().split()\n",
    "list_word = []\n",
    "for i in word:\n",
    "    if i.startswith('a'):\n",
    "        continue\n",
    "    list_word.append(i)\n",
    "print(list_word)"
   ]
  },
  {
   "cell_type": "code",
   "execution_count": 24,
   "metadata": {},
   "outputs": [
    {
     "name": "stdout",
     "output_type": "stream",
     "text": [
      "[3, 10]\n"
     ]
    }
   ],
   "source": [
    "#Given spaces-sepeated numbers,write a program to print the list of numbers that occur an odd number of times\n",
    "# print the numbers in sorted order.\n",
    "n  = input().split()\n",
    "count_dict = {}\n",
    "for number in n:\n",
    "    if number in count_dict:\n",
    "        count_dict[number] += 1 \n",
    "    else:\n",
    "        count_dict[number] = 1 \n",
    "odd_count_number = []\n",
    "for number,count in count_dict.items():\n",
    "    if count % 2 != 0:\n",
    "        odd_count_number.append(int(number))\n",
    "odd_count_number.sort()\n",
    "print(odd_count_number)"
   ]
  },
  {
   "cell_type": "code",
   "execution_count": null,
   "metadata": {},
   "outputs": [],
   "source": []
  }
 ],
 "metadata": {
  "kernelspec": {
   "display_name": "Python 3",
   "language": "python",
   "name": "python3"
  },
  "language_info": {
   "codemirror_mode": {
    "name": "ipython",
    "version": 3
   },
   "file_extension": ".py",
   "mimetype": "text/x-python",
   "name": "python",
   "nbconvert_exporter": "python",
   "pygments_lexer": "ipython3",
   "version": "3.12.2"
  }
 },
 "nbformat": 4,
 "nbformat_minor": 2
}
