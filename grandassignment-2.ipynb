{
 "cells": [
  {
   "cell_type": "code",
   "execution_count": 3,
   "metadata": {},
   "outputs": [
    {
     "name": "stdout",
     "output_type": "stream",
     "text": [
      "7\n",
      "6\n"
     ]
    }
   ],
   "source": [
    "#Write a program to count even and odd numbers in the given range[M,N].Both M,N are inclusive in [M,N]\n",
    "M = int(input())\n",
    "N = int(input())\n",
    "odd_count = 0\n",
    "even_count = 0\n",
    "for i in range(M,N+1):\n",
    "    if i % 2 == 0:\n",
    "        even_count += 1 \n",
    "    else:\n",
    "        odd_count += 1\n",
    "print(odd_count) \n",
    "print(even_count)\n"
   ]
  },
  {
   "cell_type": "code",
   "execution_count": 4,
   "metadata": {},
   "outputs": [
    {
     "name": "stdout",
     "output_type": "stream",
     "text": [
      "4\n",
      "8\n"
     ]
    }
   ],
   "source": [
    "#Write a program to count the vowels and consonants in string \n",
    "word = input()\n",
    "vowels_count = 0 \n",
    "consonants_count = 0\n",
    "for i in word:\n",
    "    if i in 'AEIOUaeiou':\n",
    "        vowels_count += 1\n",
    "    elif i == \" \":\n",
    "        continue \n",
    "    else:\n",
    "        consonants_count += 1 \n",
    "print(vowels_count)\n",
    "print(consonants_count)"
   ]
  },
  {
   "cell_type": "code",
   "execution_count": null,
   "metadata": {},
   "outputs": [],
   "source": [
    "#Given a string of length n,made up of only uppercase charcters 'R' and 'G',where 'R' stands for Red 'G' stands for Green.Find out the minimum number of character you need to cahnge to make the whole string of the same color.\n",
    "word = input()\n",
    "count = 0 \n",
    "w1 = word.count('R')\n",
    "w2 = word.count('G')\n",
    "if w1 > w2:\n",
    "    count = w2 \n",
    "else:\n",
    "    count = w1\n",
    "print(count)"
   ]
  },
  {
   "cell_type": "code",
   "execution_count": 16,
   "metadata": {},
   "outputs": [
    {
     "name": "stdout",
     "output_type": "stream",
     "text": [
      "A \n",
      "A B \n",
      "A B C \n",
      "A B C D \n"
     ]
    }
   ],
   "source": [
    "#write a program to print the right alphabetic triangle up to the given N rows.\n",
    "N = int(input())\n",
    "for i in range(1,N+1):\n",
    "    for j in range(1,i+1):\n",
    "        print(chr(ord('A')+j-1),end=\" \")\n",
    "    print(\"\")\n"
   ]
  },
  {
   "cell_type": "code",
   "execution_count": 21,
   "metadata": {},
   "outputs": [
    {
     "name": "stdout",
     "output_type": "stream",
     "text": [
      "1\n",
      "121\n",
      "12321\n",
      "1234321\n"
     ]
    }
   ],
   "source": [
    "#Given a number N,write a program to print a triangular pattern of N lines with numbers as shown below.\n",
    "N = int(input())\n",
    "for i in range(1,N+1):\n",
    "    for j in range(1,i+1):\n",
    "        print(j,end=\"\")\n",
    "    for j in range(i-1,0,-1):\n",
    "        print(j,end=\"\")\n",
    "    print()\n"
   ]
  },
  {
   "cell_type": "code",
   "execution_count": 24,
   "metadata": {},
   "outputs": [
    {
     "name": "stdout",
     "output_type": "stream",
     "text": [
      "python_learning\n"
     ]
    }
   ],
   "source": [
    "#Given a string in camel case,write a python program to convert the given string from camel case to snake case\n",
    "word = input()\n",
    "res = \"\"\n",
    "for i in word:\n",
    "    if i.isupper():\n",
    "        res += '_'+i.lower()\n",
    "    else:\n",
    "        res += i \n",
    "print(res[1:])\n"
   ]
  },
  {
   "cell_type": "code",
   "execution_count": 31,
   "metadata": {},
   "outputs": [
    {
     "name": "stdout",
     "output_type": "stream",
     "text": [
      "178\n"
     ]
    }
   ],
   "source": [
    "#write a program to print the sum of non-primes in the given N numbers.the numbers which are not primes are considered as non-primes.\n",
    "N = int(input())\n",
    "sum = 0 \n",
    "for i in range(N):\n",
    "    num = int(input())\n",
    "    count = 0\n",
    "    for i in range(2,num):\n",
    "        if num % i == 0:\n",
    "            count += 1 \n",
    "    if count >=1:\n",
    "        sum += num\n",
    "print(sum)"
   ]
  },
  {
   "cell_type": "code",
   "execution_count": 2,
   "metadata": {},
   "outputs": [
    {
     "name": "stdout",
     "output_type": "stream",
     "text": [
      "* * * * \n",
      " * * * \n",
      "  * * \n",
      "   * \n",
      "  * * \n",
      " * * * \n",
      "* * * * \n"
     ]
    }
   ],
   "source": [
    "#Given an integer N,write a program to print the sandglass star pattern,similar to the print show below.\n",
    "n = int(input())\n",
    "for i in range(n):\n",
    "    for j in range(i):\n",
    "        print(\" \",end=\"\")\n",
    "    print(\"* \"*(n-i))\n",
    "for i in range(2,n+1):\n",
    "    print(\" \"*(n-i),end=\"\")\n",
    "    print(\"* \"*i)"
   ]
  }
 ],
 "metadata": {
  "kernelspec": {
   "display_name": "Python 3",
   "language": "python",
   "name": "python3"
  },
  "language_info": {
   "codemirror_mode": {
    "name": "ipython",
    "version": 3
   },
   "file_extension": ".py",
   "mimetype": "text/x-python",
   "name": "python",
   "nbconvert_exporter": "python",
   "pygments_lexer": "ipython3",
   "version": "3.12.2"
  }
 },
 "nbformat": 4,
 "nbformat_minor": 2
}
