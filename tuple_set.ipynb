{
 "cells": [
  {
   "cell_type": "code",
   "execution_count": 1,
   "metadata": {},
   "outputs": [
    {
     "name": "stdout",
     "output_type": "stream",
     "text": [
      "[(10, 20, 40), (1, 40), (5, 10, 15, 40)]\n"
     ]
    }
   ],
   "source": [
    "#write a program to replace the last number of each tuple in the list with the given number\n",
    "num_list = [(10, 20, 30), (1, 2), (5, 10, 15, 45)]\n",
    "n = int(input())\n",
    "new_list = [] \n",
    "for i in num_list:\n",
    "    update = i[:-1] + (n,)\n",
    "    new_list.append(update)\n",
    "print(new_list)\n"
   ]
  },
  {
   "cell_type": "code",
   "execution_count": 10,
   "metadata": {},
   "outputs": [
    {
     "name": "stdout",
     "output_type": "stream",
     "text": [
      "[10, 20]\n"
     ]
    }
   ],
   "source": [
    "# write a program to remove duplicate numbers in the list.\n",
    "numbers = input().split()\n",
    "list_a = []\n",
    "# for i in numbers:\n",
    "#     num = int(i)\n",
    "#     if num not in list_a:\n",
    "#     \tlist_a.append(num)\n",
    "# print(list_a)\n",
    "for i in numbers:\n",
    "    num = int(i)\n",
    "    list_a.append(num)\n",
    "new_set = set(list_a)\n",
    "list_a = list(new_set)\n",
    "list_a.sort()\n",
    "print(list_a)"
   ]
  },
  {
   "cell_type": "code",
   "execution_count": 12,
   "metadata": {},
   "outputs": [
    {
     "name": "stdout",
     "output_type": "stream",
     "text": [
      "[10, 40, 50, 60, 70, 80, 100]\n"
     ]
    }
   ],
   "source": [
    "#Write a program to remove a list of numbers id present in the set.\n",
    "num_set = {10, 20, 30, 40, 50, 60, 70, 80, 90, 100}\n",
    "# Write your code here\n",
    "n = input().split()\n",
    "new_list = []\n",
    "for i in n:\n",
    "    num = int(i)\n",
    "    num_set.discard(num)\n",
    "num_list = list(num_set)\n",
    "num_list.sort()\n",
    "print(num_list)"
   ]
  },
  {
   "cell_type": "code",
   "execution_count": 15,
   "metadata": {},
   "outputs": [
    {
     "data": {
      "text/plain": [
       "[1, 2, 3, 4, 5]"
      ]
     },
     "execution_count": 15,
     "metadata": {},
     "output_type": "execute_result"
    }
   ],
   "source": [
    "# Write a program to print the numbers that are present in both the lines.\n",
    "def convert_into_int(numbers):\n",
    "    new_list = []\n",
    "    for i in numbers:\n",
    "        num = int(i)\n",
    "        new_list.append(num)\n",
    "    return new_list\n",
    "num1 = input().split(\",\")\n",
    "num2 = input().split(\",\")\n",
    "list_a = convert_into_int(num1)\n",
    "list_b = convert_into_int(num2)\n",
    "list_a = set(list_a)\n",
    "list_b = set(list_b)\n",
    "common_element = list_a.intersection(list_b)\n",
    "common_element = list(common_element)\n",
    "common_element.sort()\n",
    "print(common_element)"
   ]
  },
  {
   "cell_type": "code",
   "execution_count": 19,
   "metadata": {},
   "outputs": [
    {
     "name": "stdout",
     "output_type": "stream",
     "text": [
      "[2, 4, 8, 10]\n",
      "[2, 3, 4, 8, 9, 10, 12, 15]\n"
     ]
    }
   ],
   "source": [
    "#Given an integer N,Write a program to create two sets with n multiples of 2 and 3 and print the following \n",
    "# All the multiples of 2  but not the multiples of 3 \n",
    "# Uncommon multiples of 2 and 3 \n",
    "n = int(input())\n",
    "multiple_of_2 = set()\n",
    "multiple_of_3 = set()\n",
    "for i in range(1,n+1):\n",
    "    multiple_of_2.add(2*i)\n",
    "    multiple_of_3.add(3*i)\n",
    "diff = multiple_of_2.difference(multiple_of_3)\n",
    "symmertic_diff = multiple_of_2.symmetric_difference(multiple_of_3)\n",
    "diff = list(diff)\n",
    "symmertic_diff = list(symmertic_diff)\n",
    "diff.sort()\n",
    "symmertic_diff.sort()\n",
    "print(diff)\n",
    "print(symmertic_diff)"
   ]
  },
  {
   "cell_type": "code",
   "execution_count": 18,
   "metadata": {},
   "outputs": [
    {
     "data": {
      "text/plain": [
       "{1, 2, 3, 6, 7, 8}"
      ]
     },
     "execution_count": 18,
     "metadata": {},
     "output_type": "execute_result"
    }
   ],
   "source": [
    "a = {1,2,3,4,5}\n",
    "b ={4,5,6,7,8}\n",
    "# a.difference(b)\n",
    "a.symmetric_difference(b)"
   ]
  },
  {
   "cell_type": "code",
   "execution_count": 22,
   "metadata": {},
   "outputs": [
    {
     "name": "stdout",
     "output_type": "stream",
     "text": [
      "(5, 10, 15, 20)\n"
     ]
    }
   ],
   "source": [
    "#write a program to convert a list into tuple\n",
    "str_a = input()\n",
    "a = str_a.split(\",\")\n",
    "i = 0 \n",
    "for item in a:\n",
    "    a[i] = int(item)\n",
    "    i += 1 \n",
    "print(tuple(a)) "
   ]
  },
  {
   "cell_type": "code",
   "execution_count": 23,
   "metadata": {},
   "outputs": [
    {
     "name": "stdout",
     "output_type": "stream",
     "text": [
      "['Pen', 'Pencil']\n"
     ]
    }
   ],
   "source": [
    "#write a program to add an word W to the set\n",
    "set_a = {\"Pencil\"}\n",
    "word = input()\n",
    "set_a.update([word])\n",
    "list_a = list(set_a)\n",
    "list_a.sort()\n",
    "print(list_a)"
   ]
  },
  {
   "cell_type": "code",
   "execution_count": 29,
   "metadata": {},
   "outputs": [
    {
     "name": "stdout",
     "output_type": "stream",
     "text": [
      "[20, 30]\n"
     ]
    }
   ],
   "source": [
    "#write a program to check if all the elements in a given list are same\n",
    "def convert_numbers_to_list(numbers):\n",
    "    list_number = []\n",
    "    for i in numbers:\n",
    "        num = int(i)\n",
    "        list_number.append(num)\n",
    "    return list_number\n",
    "\n",
    "num = input().split()\n",
    "num_list = convert_into_int(num)\n",
    "num_Set = set(num_list)\n",
    "if len(num_Set) == 1:\n",
    "    print(\"True\")\n",
    "else:\n",
    "    num_list = list(num_Set)\n",
    "    num_list.sort()\n",
    "    print(num_list)"
   ]
  },
  {
   "cell_type": "code",
   "execution_count": 31,
   "metadata": {},
   "outputs": [
    {
     "name": "stdout",
     "output_type": "stream",
     "text": [
      "[1, 2, 5, 3]\n"
     ]
    }
   ],
   "source": [
    "#write a program to remove the elements other than numbers in the list.\n",
    "list_a = input().split()\n",
    "empty_list = []\n",
    "for i in list_a:\n",
    "    is_digit = i.isdigit()\n",
    "    if is_digit:\n",
    "        num = int(i)\n",
    "        empty_list.append(num)\n",
    "print(empty_list)"
   ]
  },
  {
   "cell_type": "code",
   "execution_count": 37,
   "metadata": {},
   "outputs": [
    {
     "name": "stdout",
     "output_type": "stream",
     "text": [
      "[4]\n"
     ]
    }
   ],
   "source": [
    "#write a program to find the missing number from 1 to the maximum number in the list\n",
    "def convert_numbers_to_list(numbers):\n",
    "    list_number = []\n",
    "    for i in numbers:\n",
    "        num = int(i)\n",
    "        list_number.append(num)\n",
    "    return list_number\n",
    "\n",
    "num = input().split()\n",
    "num_list = convert_numbers_to_list(num)\n",
    "maxium = max(num_list)\n",
    "num_set = set(num_list)\n",
    "\n",
    "first_n_num_Set = set(range(1,maxium+1))\n",
    "missing_numbers = first_n_num_Set.difference(num_set)\n",
    "missing_numbers_list = list(missing_numbers)\n",
    "missing_numbers_list.sort()\n",
    "print(missing_numbers_list)"
   ]
  },
  {
   "cell_type": "code",
   "execution_count": 42,
   "metadata": {},
   "outputs": [
    {
     "name": "stdout",
     "output_type": "stream",
     "text": [
      "Superset\n"
     ]
    }
   ],
   "source": [
    "#Write a program to check the following realtions with the given set.\n",
    "# Superset\n",
    "# subset\n",
    "# Disjoint set\n",
    "def convert_numbers_to_list(numbers):\n",
    "    list_number = []\n",
    "    for i in numbers:\n",
    "        num = int(i)\n",
    "        list_number.append(num)\n",
    "    return list_number\n",
    "\n",
    "num_set = {1,2,3,4,5,6,7,8,9}\n",
    "\n",
    "num_list = input().split()\n",
    "num_list = convert_numbers_to_list(num_list)\n",
    "set_a = set(num_list)\n",
    "\n",
    "if num_set.issuperset(set_a):\n",
    "    print(\"Superset\")\n",
    "elif num_set.issubset(set_a):\n",
    "    print(\"Subset\")\n",
    "elif num_set.isdisjoint(set_a):\n",
    "    print(\"Disjoint Set\")"
   ]
  },
  {
   "cell_type": "code",
   "execution_count": 6,
   "metadata": {},
   "outputs": [
    {
     "name": "stdout",
     "output_type": "stream",
     "text": [
      "[10]\n"
     ]
    }
   ],
   "source": [
    "#write a program to find the common elements in the three sets.\n",
    "def convert_numbers_to_list(numbers):\n",
    "    num_list = []\n",
    "    for i in numbers:\n",
    "        num = int(i)\n",
    "        num_list.append(num)\n",
    "    return num_list\n",
    "new_list = []\n",
    "for i in range(3):\n",
    "    values_list = input().split()\n",
    "    values_list = convert_numbers_to_list(values_list)\n",
    "    values_set = set(values_list)\n",
    "    new_list.append(values_set)\n",
    "\n",
    "inseration_a = num_list[0].intersection(num_list[1])\n",
    "inseration_b = inseration_a.intersection(num_list[2])\n",
    "result = list(inseration_b)\n",
    "result.sort()\n",
    "print(result)"
   ]
  },
  {
   "cell_type": "code",
   "execution_count": 8,
   "metadata": {},
   "outputs": [
    {
     "name": "stdout",
     "output_type": "stream",
     "text": [
      "[4, 10, 12]\n"
     ]
    }
   ],
   "source": [
    "#write a program to find the common elements in the N sets.\n",
    "def convert_numbers_to_list(numbers):\n",
    "    list_number = []\n",
    "    for i in numbers:\n",
    "        num = int(i)\n",
    "        list_number.append(num)\n",
    "    return list_number\n",
    "def inseration_of_n_sets(num_set_list):\n",
    "    result = num_set_list[0]\n",
    "    for num_Set in num_set_list:\n",
    "        result = result.intersection(num_Set)\n",
    "    return result\n",
    "n = int(input())\n",
    "num_Set_list = []\n",
    "for i in range(n):\n",
    "    values_list = input().split()\n",
    "    values_list = convert_numbers_to_list(values_list)\n",
    "    values_set = set(values_list)\n",
    "    num_Set_list.append(values_set)\n",
    "\n",
    "result_set = inseration_of_n_sets(num_Set_list)\n",
    "result_list = list(result_set)\n",
    "result_list.sort()\n",
    "print(result_list)"
   ]
  },
  {
   "cell_type": "code",
   "execution_count": 12,
   "metadata": {},
   "outputs": [
    {
     "name": "stdout",
     "output_type": "stream",
     "text": [
      "(3, 9)\n",
      "(5, 7)\n"
     ]
    }
   ],
   "source": [
    "# Write a program that reads comma-separated numbers and the number K and then finds all the unique pairs in the given numbers whose sum is equal to K.\n",
    "def unique_pair(int_list,pair_sum):\n",
    "    stop_index = len(int_list)-1 \n",
    "    unique_pair = set()\n",
    "    for cur_index in range(stop_index):\n",
    "        num1 = int_list[cur_index]\n",
    "        num2 = pair_sum - num1\n",
    "        remaining_list = int_list[cur_index+1:]\n",
    "        if num2 in remaining_list:\n",
    "            pair = (num1,num2)\n",
    "            sorted_pair = tuple(sorted(pair))\n",
    "            unique_pair.add(sorted_pair)\n",
    "    return unique_pair\n",
    "def convert_numbers_to_list(numbers):\n",
    "    list_number = []\n",
    "    for i in numbers:\n",
    "        num = int(i)\n",
    "        list_number.append(num)\n",
    "    return list_number\n",
    "int_list = input().split(\",\")\n",
    "pair_sum = int(input())\n",
    "int_list = convert_numbers_to_list(int_list)\n",
    "unique_pairs = unique_pair(int_list,pair_sum)\n",
    "unique_pairs = list(unique_pairs)\n",
    "unique_pairs.sort()\n",
    "for pair in unique_pairs:\n",
    "    print(pair)"
   ]
  },
  {
   "cell_type": "code",
   "execution_count": 1,
   "metadata": {},
   "outputs": [
    {
     "name": "stdout",
     "output_type": "stream",
     "text": [
      "[3, 4, 5, 1, 2]\n"
     ]
    }
   ],
   "source": [
    "#Write a program that reads the comma-separated integer and a postive integer D,then rotates the numbers D times to left,and prints rotated list.\n",
    "def convert_numbers_to_list(numbers):\n",
    "    list_number = []\n",
    "    for i in numbers:\n",
    "        num = int(i)\n",
    "        list_number.append(num)\n",
    "    return list_number\n",
    "numbers = input().split(\",\")\n",
    "rotate_times = int(input())\n",
    "\n",
    "int_list = convert_numbers_to_list(numbers)\n",
    "len_of_list = len(int_list)\n",
    "val = rotate_times % len_of_list\n",
    "\n",
    "first_part = int_list[0:val]\n",
    "second_part = int_list[val:]\n",
    "second_part.extend(first_part)\n",
    "print(second_part)\n",
    "# print(val)"
   ]
  },
  {
   "cell_type": "code",
   "execution_count": 3,
   "metadata": {},
   "outputs": [
    {
     "name": "stdout",
     "output_type": "stream",
     "text": [
      "8 20\n"
     ]
    }
   ],
   "source": [
    "#write a program to print N greatest numbers in a list.\n",
    "list_a = [5, 20, 3, 7, 6, 8]\n",
    "k = int(input())\n",
    "list_a = sorted(list_a)\n",
    "list_len = len(list_a)\n",
    "res = list_a[list_len-k:]\n",
    "for i in range(k):\n",
    "    res[i] = str(res[i])\n",
    "print(\" \".join(res))"
   ]
  },
  {
   "cell_type": "code",
   "execution_count": 7,
   "metadata": {},
   "outputs": [
    {
     "name": "stdout",
     "output_type": "stream",
     "text": [
      "[[1, 2, 3, 4], [10, 20, 30], [5, 10, 15, 20]]\n"
     ]
    }
   ],
   "source": [
    "#write a program to read N lines of inputs and create a nested list with each lines as a list.\n",
    "def converted_into_list(list_a):\n",
    "    num_list = []\n",
    "    for i in list_a:\n",
    "        num = int(i)\n",
    "        num_list.append(num)\n",
    "    return num_list \n",
    "n = int(input())\n",
    "new_list = []\n",
    "for i in range(n):\n",
    "    list_a = input().split()\n",
    "    list_a = convert_numbers_to_list(list_a)\n",
    "    new_list.append(list_a)\n",
    "print(new_list)"
   ]
  },
  {
   "cell_type": "code",
   "execution_count": 9,
   "metadata": {},
   "outputs": [
    {
     "name": "stdout",
     "output_type": "stream",
     "text": [
      "[4, 30, 20]\n"
     ]
    }
   ],
   "source": [
    "#write a program to create a list with maxium values in each list.\n",
    "def converted_into_list(list_a):\n",
    "    num_list = []\n",
    "    for i in list_a:\n",
    "        num = int(i)\n",
    "        num_list.append(num)\n",
    "    return num_list \n",
    "n = int(input())\n",
    "max_list = []\n",
    "for i in range(n):\n",
    "    list_a = input().split()\n",
    "    list_a = convert_numbers_to_list(list_a)\n",
    "    max_num = max(list_a)\n",
    "    max_list.append(max_num)\n",
    "print(max_list)\n"
   ]
  },
  {
   "cell_type": "code",
   "execution_count": 13,
   "metadata": {},
   "outputs": [
    {
     "name": "stdout",
     "output_type": "stream",
     "text": [
      "[(1, 2, 3, 4), (10,), (5, 10, 15, 20)]\n"
     ]
    }
   ],
   "source": [
    "#write a program to convert the list of lists to a list of tuples\n",
    "def convert_list_to_tuples(nested_list):\n",
    "    tuple_list = []\n",
    "    for i in nested_list:\n",
    "        tuple_a = tuple(i)\n",
    "        tuple_list.append(tuple_a)\n",
    "    return tuple_list\n",
    "\n",
    "def convert_into_list(list_a):\n",
    "    new_list = []\n",
    "    for i in list_a:\n",
    "        num = int(i)\n",
    "        new_list.append(num)\n",
    "    return new_list\n",
    "\n",
    "n = int(input())\n",
    "list_tuples = []\n",
    "for i in range(n):\n",
    "    list_a = input().split()\n",
    "    list_a = convert_into_list(list_a)\n",
    "    list_tuples.append(list_a)\n",
    "tuples_list = convert_list_to_tuples(list_tuples)\n",
    "print(tuples_list)"
   ]
  },
  {
   "cell_type": "code",
   "execution_count": 21,
   "metadata": {},
   "outputs": [
    {
     "name": "stdout",
     "output_type": "stream",
     "text": [
      "0 1\n"
     ]
    }
   ],
   "source": [
    "#write a program to print the index of the given number N in the list of tuples.\n",
    "num_list = [(2, 4, 6, 8), (5, 15, 25, 35), (7, 14, 21)]\n",
    "n = int(input())\n",
    "for i in num_list:\n",
    "    is_contain = n in i\n",
    "    if is_contain:\n",
    "        num_index = num_list.index(i)\n",
    "        num_element = i.index(n)\n",
    "        print(str(num_index) + \" \" + str(num_element))\n",
    "        # break"
   ]
  },
  {
   "cell_type": "code",
   "execution_count": 22,
   "metadata": {},
   "outputs": [
    {
     "name": "stdout",
     "output_type": "stream",
     "text": [
      "['hockey', 'grapes', 'banana']\n"
     ]
    }
   ],
   "source": [
    "#Write a program to create a list with the values at the given indexes.\n",
    "list_a = [('apple', 'banana', 'orange', 'grapes'), ('cricket', 'football', 'hockey'), ('car', 'bicycle', 'bus')]\n",
    "n = int(input())\n",
    "new_list = []\n",
    "for i in range(n):\n",
    "    index = input().split()\n",
    "    tuple_index = int(index[0])\n",
    "    value_index = int(index[1])\n",
    "    value = list_a[tuple_index][value_index]\n",
    "    new_list.append(value)\n",
    "print(new_list)"
   ]
  },
  {
   "cell_type": "code",
   "execution_count": 32,
   "metadata": {},
   "outputs": [
    {
     "name": "stdout",
     "output_type": "stream",
     "text": [
      "[(1, 2, 4, 5, 6), (2, 4, 6, 8), (1, 5, 7)]\n"
     ]
    }
   ],
   "source": [
    "#write a program to remove the given number N in all the tuples if it present\n",
    "num_list = [(1, 2, 3, 4, 5, 6), (2, 4, 6, 8), (1, 3, 5, 7)]\n",
    "n = int(input())\n",
    "new_list = []\n",
    "for i in num_list:\n",
    "    new_tuple = i \n",
    "    if n in i:\n",
    "        n_index = i.index(n)\n",
    "        new_tuple = i[:n_index] + i[n_index+1:]\n",
    "    new_list.append(new_tuple)\n",
    "print(new_list)"
   ]
  },
  {
   "cell_type": "code",
   "execution_count": 37,
   "metadata": {},
   "outputs": [
    {
     "name": "stdout",
     "output_type": "stream",
     "text": [
      "(5, 1)\n",
      "(8, 2)\n"
     ]
    }
   ],
   "source": [
    "#Write a program to print the maxium and minimum of all the values at index zero and index one in the list of tuples.\n",
    "n = int(input())\n",
    "num_list = []\n",
    "zero_index_list = []\n",
    "first_index_list = []\n",
    "for i in range(n):\n",
    "    value_list = input().split()\n",
    "    first_value = int(value_list[0])\n",
    "    zero_index_list.append(first_value)\n",
    "    second_value = int(value_list[1])\n",
    "    first_index_list.append(second_value)\n",
    "zero_index_min_max_tuple = (max(zero_index_list),min(zero_index_list))\n",
    "first_index_min_max_tuple = (max(first_index_list),min(first_index_list))\n",
    "print(zero_index_min_max_tuple)\n",
    "print(first_index_min_max_tuple)"
   ]
  },
  {
   "cell_type": "code",
   "execution_count": 44,
   "metadata": {},
   "outputs": [
    {
     "name": "stdout",
     "output_type": "stream",
     "text": [
      "[[1, 2, 3, 4], [5, 10, 15, 20]]\n"
     ]
    }
   ],
   "source": [
    "#Write a program to print the lists which contain the unique elements in the given list of lists.\n",
    "def convert_into_list(list_a):\n",
    "    new_list = []\n",
    "    for i in list_a:\n",
    "        num = int(i)\n",
    "        new_list.append(num)\n",
    "    return new_list\n",
    "\n",
    "n = int(input())\n",
    "num_list = []\n",
    "for i in range(n):\n",
    "    values_list = input().split()\n",
    "    values_list = convert_into_list(values_list)\n",
    "    values_set = set(values_list)\n",
    "    is_equal = len(values_set) == len(values_list)\n",
    "    if is_equal:\n",
    "        num_list.append(values_list)\n",
    "print(num_list)"
   ]
  },
  {
   "cell_type": "code",
   "execution_count": 51,
   "metadata": {},
   "outputs": [
    {
     "data": {
      "text/plain": [
       "['a', 'h', 'i', 'k', 'm', 'n', 'r', 's', 'v']"
      ]
     },
     "execution_count": 51,
     "metadata": {},
     "output_type": "execute_result"
    }
   ],
   "source": [
    "#write a program to compute the frequency of characters other than space.\n",
    "def print_frequency(string_a):\n",
    "    string_a = string_a.lower()\n",
    "    unique_char = set(string_a)\n",
    "    unique_char.discard(\" \")\n",
    "    for char in sorted(unique_char):\n",
    "        print(\"{}:{}\".format(char,string_a.count(char)))\n",
    "string_a = input()\n",
    "print_frequency(string_a)"
   ]
  },
  {
   "cell_type": "code",
   "execution_count": 52,
   "metadata": {},
   "outputs": [
    {
     "name": "stdout",
     "output_type": "stream",
     "text": [
      "Vamshi  is playing Cricket\n"
     ]
    }
   ],
   "source": [
    "#Write a program using string foramtting to concatenate the name followed by the message \"is playing\" and followed by the sport.\n",
    "str_1 = input()\n",
    "str_2 = input()\n",
    "message = \"{arg_1} is playing {arg_2}\"\n",
    "print(message.format(arg_1=str_1,arg_2=str_2))"
   ]
  },
  {
   "cell_type": "code",
   "execution_count": null,
   "metadata": {},
   "outputs": [],
   "source": [
    "#Wrie "
   ]
  }
 ],
 "metadata": {
  "kernelspec": {
   "display_name": "Python 3",
   "language": "python",
   "name": "python3"
  },
  "language_info": {
   "codemirror_mode": {
    "name": "ipython",
    "version": 3
   },
   "file_extension": ".py",
   "mimetype": "text/x-python",
   "name": "python",
   "nbconvert_exporter": "python",
   "pygments_lexer": "ipython3",
   "version": "3.12.2"
  }
 },
 "nbformat": 4,
 "nbformat_minor": 2
}
