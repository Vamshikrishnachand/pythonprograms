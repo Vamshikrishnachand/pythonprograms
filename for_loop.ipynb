{
 "cells": [
  {
   "cell_type": "code",
   "execution_count": 3,
   "metadata": {},
   "outputs": [
    {
     "name": "stdout",
     "output_type": "stream",
     "text": [
      "q\n",
      "q\n",
      "q\n",
      "q\n",
      "q\n"
     ]
    }
   ],
   "source": [
    "#write a program that reads a stirng and prints the first character at index 0 of the given string on N lines where N is the length of the given string\n",
    "word = input()\n",
    "for i in word:\n",
    "    print(word[0])\n"
   ]
  },
  {
   "cell_type": "code",
   "execution_count": 5,
   "metadata": {},
   "outputs": [
    {
     "name": "stdout",
     "output_type": "stream",
     "text": [
      "V\n",
      "a\n",
      "m\n",
      "s\n",
      "h\n",
      "i\n"
     ]
    }
   ],
   "source": [
    "#write a program that reads a string and print each character of the given string on an new line\n",
    "word = input()\n",
    "for i in range(0,len(word)):\n",
    "    print(word[i])"
   ]
  },
  {
   "cell_type": "code",
   "execution_count": 6,
   "metadata": {},
   "outputs": [
    {
     "name": "stdout",
     "output_type": "stream",
     "text": [
      "1\n",
      "2\n",
      "3\n"
     ]
    }
   ],
   "source": [
    "#write a program that reads a Number N and prints numbers from 1 to N.\n",
    "num = int(input())\n",
    "for i in range(1,num+1):\n",
    "    print(i)"
   ]
  },
  {
   "cell_type": "code",
   "execution_count": 7,
   "metadata": {},
   "outputs": [
    {
     "name": "stdout",
     "output_type": "stream",
     "text": [
      "1\n",
      "2\n",
      "3\n",
      "4\n",
      "5\n",
      "6\n",
      "7\n"
     ]
    }
   ],
   "source": [
    "#write a program that reads a Number N and prints Natural numbers from 1 to N.\n",
    "num = int(input())\n",
    "for i in range(1,num+1):\n",
    "    print(i)"
   ]
  },
  {
   "cell_type": "code",
   "execution_count": 8,
   "metadata": {},
   "outputs": [
    {
     "name": "stdout",
     "output_type": "stream",
     "text": [
      "21\n"
     ]
    }
   ],
   "source": [
    "#write a program that reads a Number N and prints the sum of Natural Numbers  from 1 to N.\n",
    "num = int(input())\n",
    "sum = 0\n",
    "for i in range(1,num+1):\n",
    "    sum += i \n",
    "print(sum)"
   ]
  },
  {
   "cell_type": "code",
   "execution_count": 10,
   "metadata": {},
   "outputs": [
    {
     "name": "stdout",
     "output_type": "stream",
     "text": [
      "4.5\n"
     ]
    }
   ],
   "source": [
    "#write a program that reads a Number N and prints the average of Natural Numbers  from 1 to N.\n",
    "num = int(input())\n",
    "sum = 0\n",
    "for i in range(1,num+1):\n",
    "    sum += i \n",
    "    avg = sum/num\n",
    "print(avg)"
   ]
  },
  {
   "cell_type": "code",
   "execution_count": 14,
   "metadata": {},
   "outputs": [
    {
     "name": "stdout",
     "output_type": "stream",
     "text": [
      "1\n",
      "8\n",
      "27\n"
     ]
    }
   ],
   "source": [
    "#write a program that reads a Number N and prints the cube  of Numbers from 1 to N.\n",
    "num = int(input())\n",
    "for i in range(1,num+1):\n",
    "    print(i ** 3)"
   ]
  },
  {
   "cell_type": "code",
   "execution_count": 15,
   "metadata": {},
   "outputs": [
    {
     "name": "stdout",
     "output_type": "stream",
     "text": [
      "8\n",
      "11\n",
      "25\n"
     ]
    }
   ],
   "source": [
    "#Given an integer N,write a program which reds N inputs and print them\n",
    "N = int(input())\n",
    "for i in range(N):\n",
    "    num = int(input())\n",
    "    print(num)"
   ]
  },
  {
   "cell_type": "code",
   "execution_count": 16,
   "metadata": {},
   "outputs": [
    {
     "name": "stdout",
     "output_type": "stream",
     "text": [
      "42\n"
     ]
    }
   ],
   "source": [
    "#Given an integer N,write a program which reds N inputs and print the product of the given inputs\n",
    "N = int(input())\n",
    "product = 1\n",
    "for i in range(N):\n",
    "    num = int(input())\n",
    "    product *= num\n",
    "print(product)"
   ]
  },
  {
   "cell_type": "code",
   "execution_count": 17,
   "metadata": {},
   "outputs": [
    {
     "name": "stdout",
     "output_type": "stream",
     "text": [
      "* * * \n",
      "* * * \n"
     ]
    }
   ],
   "source": [
    "#Given two integers M and N,write a program to print a soild rectangle pattern of M rows and N columns using the asterisk character(*)\n",
    "rows = int(input())\n",
    "column = int(input())\n",
    "for i in range(rows):\n",
    "    print(\"* \" * column)"
   ]
  },
  {
   "cell_type": "code",
   "execution_count": 19,
   "metadata": {},
   "outputs": [
    {
     "name": "stdout",
     "output_type": "stream",
     "text": [
      "* \n",
      "* * \n",
      "* * * \n"
     ]
    }
   ],
   "source": [
    "#Given two integers M and N,write a program to print right-angled triangular pattern of N lines  using the asterisk character(*)\n",
    "N = int(input())\n",
    "for i in range(1,N+1):\n",
    "    print(\"* \" * i)"
   ]
  },
  {
   "cell_type": "code",
   "execution_count": 20,
   "metadata": {},
   "outputs": [
    {
     "name": "stdout",
     "output_type": "stream",
     "text": [
      "44\n"
     ]
    }
   ],
   "source": [
    "#Given an integer N,write a program which reds N inputs and print the sum of the given inputs\n",
    "N = int(input())\n",
    "sum = 0\n",
    "for i in range(N):\n",
    "    num = int(input())\n",
    "    sum += num\n",
    "print(sum)"
   ]
  },
  {
   "cell_type": "code",
   "execution_count": 27,
   "metadata": {},
   "outputs": [
    {
     "name": "stdout",
     "output_type": "stream",
     "text": [
      "V-a-m-s-h-i\n"
     ]
    }
   ],
   "source": [
    "#write a program that prints the individual characters of the given word separared with hyphens(\"-\")\n",
    "word = input()\n",
    "len_of_word = len(word)\n",
    "res = word[0]\n",
    "for i in range(1,len(word)):\n",
    "    res = res + \"-\" + word[i]\n",
    "print(res)\n"
   ]
  },
  {
   "cell_type": "code",
   "execution_count": 29,
   "metadata": {},
   "outputs": [
    {
     "name": "stdout",
     "output_type": "stream",
     "text": [
      "4\n",
      "5\n",
      "6\n",
      "7\n",
      "8\n",
      "9\n",
      "10\n",
      "11\n",
      "12\n",
      "13\n",
      "14\n"
     ]
    }
   ],
   "source": [
    "#write a program that reads a number N and prints 10 numbers after N\n",
    "n = int(input())\n",
    "for i in range(n,n+11):\n",
    "    print(i)"
   ]
  },
  {
   "cell_type": "code",
   "execution_count": 31,
   "metadata": {},
   "outputs": [
    {
     "name": "stdout",
     "output_type": "stream",
     "text": [
      "-2\n",
      "-1\n",
      "0\n",
      "1\n",
      "2\n"
     ]
    }
   ],
   "source": [
    "#Given two integer numbers M and N,write a program to print the integers from M to N\n",
    "M = int(input())\n",
    "N = int(input())\n",
    "for i in range(M,N+1):\n",
    "    print(i)"
   ]
  },
  {
   "cell_type": "code",
   "execution_count": 32,
   "metadata": {},
   "outputs": [
    {
     "name": "stdout",
     "output_type": "stream",
     "text": [
      "20\n"
     ]
    }
   ],
   "source": [
    "#Given two integer numbers M and N,write a program to print the sum of the numbers from M to N\n",
    "M = int(input())\n",
    "N = int(input())\n",
    "sum = 0\n",
    "for i in range(M,N+1):\n",
    "    sum += i\n",
    "print(sum)"
   ]
  },
  {
   "cell_type": "code",
   "execution_count": 33,
   "metadata": {},
   "outputs": [
    {
     "name": "stdout",
     "output_type": "stream",
     "text": [
      "* * * * \n",
      "* * * * \n",
      "* * * * \n",
      "* * * * \n"
     ]
    }
   ],
   "source": [
    "#write a program that reads a number N and print a Square of N rows and N columns using stars(*)\n",
    "n = int(input())\n",
    "for i in range(n):\n",
    "    print(\"* \" * n) "
   ]
  },
  {
   "cell_type": "code",
   "execution_count": 34,
   "metadata": {},
   "outputs": [
    {
     "name": "stdout",
     "output_type": "stream",
     "text": [
      "1111\n",
      "2222\n",
      "3333\n",
      "4444\n"
     ]
    }
   ],
   "source": [
    "#write a program that reads a number M and prints a Square of M rows and M columns using numbers\n",
    "n = int(input())\n",
    "for i in range(1,n+1):\n",
    "    print(str(i) * n) "
   ]
  },
  {
   "cell_type": "code",
   "execution_count": 36,
   "metadata": {},
   "outputs": [
    {
     "name": "stdout",
     "output_type": "stream",
     "text": [
      "***\n",
      "***\n",
      "***\n"
     ]
    }
   ],
   "source": [
    "#write a program that reads two number M and N and print a Rectangle of M rows and N columns using stars(*)\n",
    "rows  = int(input())\n",
    "columns = int(input())\n",
    "for i in range(rows):\n",
    "    print(\"*\" * column) "
   ]
  },
  {
   "cell_type": "code",
   "execution_count": 37,
   "metadata": {},
   "outputs": [
    {
     "name": "stdout",
     "output_type": "stream",
     "text": [
      "*\n",
      "**\n",
      "***\n",
      "****\n"
     ]
    }
   ],
   "source": [
    "#write a program that reads a numbers N and prints a Right Angled Triangle of N rows using stars (*)\n",
    "num = int(input())\n",
    "for i in range(1,num+1):\n",
    "    print(\"*\"*i)"
   ]
  },
  {
   "cell_type": "code",
   "execution_count": 39,
   "metadata": {},
   "outputs": [
    {
     "name": "stdout",
     "output_type": "stream",
     "text": [
      "1 \n",
      "2 2 \n",
      "3 3 3 \n",
      "4 4 4 4 \n"
     ]
    }
   ],
   "source": [
    "#write a program that reads a numbers N and prints a Right Angled Triangle of N rows using numbers\n",
    "num = int(input())\n",
    "for i in range(1,num+1):\n",
    "    pattern = str(i) + \" \" \n",
    "    print(pattern*i)"
   ]
  },
  {
   "cell_type": "code",
   "execution_count": 43,
   "metadata": {},
   "outputs": [
    {
     "name": "stdout",
     "output_type": "stream",
     "text": [
      "* \n",
      "* * \n",
      "* * * \n",
      "+ + + + \n"
     ]
    }
   ],
   "source": [
    "#write a program that reads a numbers N and prints a Right Angled Triangle of N rows using stars (*) and plus(+)\n",
    "# The first N-1 rows contains starts(*) and the Nth rows contains pluses(+)\n",
    "num = int(input())\n",
    "for i in range(1,num):\n",
    "    print(\"* \" *  i)\n",
    "print(\"+ \" * num)"
   ]
  },
  {
   "cell_type": "code",
   "execution_count": 47,
   "metadata": {},
   "outputs": [
    {
     "name": "stdout",
     "output_type": "stream",
     "text": [
      "1 \n",
      "2 2 \n",
      "1 \n",
      "2 2 \n"
     ]
    }
   ],
   "source": [
    "#write a program that reads a numbers N and prints two Right Angled Triangle of N rows using numbers staring from 1.\n",
    "num = int(input())\n",
    "for i in range(1,num+1):\n",
    "    pattern = str(i) + \" \" \n",
    "    print(pattern*i)\n",
    "for i in range(1,num+1):\n",
    "    pattern = str(i) + \" \" \n",
    "    print(pattern*i)"
   ]
  },
  {
   "cell_type": "code",
   "execution_count": 49,
   "metadata": {},
   "outputs": [
    {
     "name": "stdout",
     "output_type": "stream",
     "text": [
      "1 1 1 1 \n",
      "2 2 2 2 \n",
      "3 3 3 3 \n",
      "4 4 4 4 \n",
      "5 5 5 5 \n"
     ]
    }
   ],
   "source": [
    "#write a program that reads two numbers m and n and prints a Rectangle of M rows and N columns using numbers\n",
    "rows = int(input())\n",
    "column = int(input())\n",
    "for i in range(1,rows+1):\n",
    "    pattern = str(i) + \" \"\n",
    "    print(pattern * column) "
   ]
  },
  {
   "cell_type": "code",
   "execution_count": 52,
   "metadata": {},
   "outputs": [
    {
     "name": "stdout",
     "output_type": "stream",
     "text": [
      "0\n",
      "1\n",
      "2\n",
      "3\n",
      "4\n",
      "5\n",
      "6\n",
      "7\n"
     ]
    }
   ],
   "source": [
    "#write a program that reads a number N and prints the numbers from 0 to N.\n",
    "n = int(input())\n",
    "for i in range(n+1):\n",
    "    print(i)"
   ]
  },
  {
   "cell_type": "code",
   "execution_count": 53,
   "metadata": {},
   "outputs": [
    {
     "name": "stdout",
     "output_type": "stream",
     "text": [
      "5.0\n"
     ]
    }
   ],
   "source": [
    "#Given a number N,write a program that reads N inputs and pritns the average of the given N inputs\n",
    "N = int(input())\n",
    "sum = 0\n",
    "for i in range(N):\n",
    "    num = int(input())\n",
    "    sum += num\n",
    "    avg = sum/N \n",
    "print(avg)"
   ]
  },
  {
   "cell_type": "code",
   "execution_count": 54,
   "metadata": {},
   "outputs": [
    {
     "name": "stdout",
     "output_type": "stream",
     "text": [
      "* \n",
      "* * \n",
      "* * * \n",
      "* * * * \n",
      "* \n",
      "* * \n",
      "* * * \n",
      "* * * * \n"
     ]
    }
   ],
   "source": [
    "#write a progrma that reads a number N and pritns two Right Angled Triangles of N rows using stars(*)\n",
    "n = int(input())\n",
    "for i in range(1,n+1):\n",
    "    print(\"* \" * i)\n",
    "for i in range(1,n+1):\n",
    "    print(\"* \" * i)"
   ]
  },
  {
   "cell_type": "code",
   "execution_count": 55,
   "metadata": {},
   "outputs": [
    {
     "name": "stdout",
     "output_type": "stream",
     "text": [
      "210\n"
     ]
    }
   ],
   "source": [
    "#write a program that reads two numbers M and N and prints the product of numbers from M to N.\n",
    "M = int(input())\n",
    "N = int(input())\n",
    "product = 1\n",
    "for i in range(M,N+1):\n",
    "    product *= i \n",
    "print(product)\n"
   ]
  },
  {
   "cell_type": "code",
   "execution_count": 56,
   "metadata": {},
   "outputs": [
    {
     "name": "stdout",
     "output_type": "stream",
     "text": [
      "91\n"
     ]
    }
   ],
   "source": [
    "#write a program to print the sum of the squares of thr first N natural numbers\n",
    "N = int(input())\n",
    "sum = 0\n",
    "for i in range(1,N+1):\n",
    "    square = i ** 2 \n",
    "    sum += square \n",
    "print(sum)"
   ]
  },
  {
   "cell_type": "code",
   "execution_count": 58,
   "metadata": {},
   "outputs": [
    {
     "name": "stdout",
     "output_type": "stream",
     "text": [
      "5\n",
      "4\n",
      "3\n",
      "2\n",
      "1\n"
     ]
    }
   ],
   "source": [
    "#you are given an integer N as input.Write a program to print integer from N to 1.\n",
    "N = int(input())\n",
    "for i in range(N,0,-1):\n",
    "    print(i)"
   ]
  },
  {
   "cell_type": "code",
   "execution_count": 61,
   "metadata": {},
   "outputs": [
    {
     "name": "stdout",
     "output_type": "stream",
     "text": [
      "+ + + + + \n",
      "+ + + + + \n",
      "+ + + + + \n"
     ]
    }
   ],
   "source": [
    "#write a program that reads two number M rows and N column using the plus character(+)\n",
    "rows  = int(input())\n",
    "columns = int(input())\n",
    "for i in range(rows):\n",
    "    print(\"+ \" * columns) "
   ]
  },
  {
   "cell_type": "code",
   "execution_count": 63,
   "metadata": {},
   "outputs": [
    {
     "name": "stdout",
     "output_type": "stream",
     "text": [
      "* \n",
      "* * \n",
      "* * * \n",
      "* * * * \n",
      "* \n",
      "* * \n",
      "* * * \n",
      "* * * * \n"
     ]
    }
   ],
   "source": [
    "#Given an integer number N as input.Write a program to print the double ttriangular pattern of N lines using an asterisk (*) character\n",
    "N = int(input())\n",
    "for i in range(1,n+1):\n",
    "    print(\"* \" * i)\n",
    "for i in range(1,n+1):\n",
    "    print(\"* \" * i)"
   ]
  },
  {
   "cell_type": "code",
   "execution_count": 4,
   "metadata": {},
   "outputs": [
    {
     "name": "stdout",
     "output_type": "stream",
     "text": [
      "1 6 5 "
     ]
    }
   ],
   "source": [
    "#write a program that reads a number and prints all the digits of the given number sepaareted by a space.\n",
    "num = int(input())\n",
    "str_num = str(num)\n",
    "for i in range(len(str_num)):\n",
    "    pattern = str_num[i] + \" \"\n",
    "    print(pattern,end=\"\")"
   ]
  },
  {
   "cell_type": "code",
   "execution_count": 5,
   "metadata": {},
   "outputs": [
    {
     "name": "stdout",
     "output_type": "stream",
     "text": [
      "27\n"
     ]
    }
   ],
   "source": [
    "#write a program  to print the sum of all the digits in the the given number\n",
    "num = int(input())\n",
    "str_num = str(num)\n",
    "sum = 0\n",
    "for i in str_num:\n",
    "    sum += int(i)\n",
    "print(sum)"
   ]
  },
  {
   "cell_type": "code",
   "execution_count": 11,
   "metadata": {},
   "outputs": [
    {
     "name": "stdout",
     "output_type": "stream",
     "text": [
      "5040\n"
     ]
    }
   ],
   "source": [
    "#write a program to print the factorial of N,Fatorial is the product of all postive integers less than or equal to N.\n",
    "num = int(input())\n",
    "product = 1\n",
    "for i in range(1,num+1):\n",
    "    product *= i \n",
    "print(product)"
   ]
  },
  {
   "cell_type": "code",
   "execution_count": 13,
   "metadata": {},
   "outputs": [
    {
     "name": "stdout",
     "output_type": "stream",
     "text": [
      "36\n"
     ]
    }
   ],
   "source": [
    "#write a program that reads a number N,and prints the sum of the cubes of number from 1 to N.\n",
    "num = int(input())\n",
    "sum = 0\n",
    "for i in range(1,num+1):\n",
    "    sum += i **3 \n",
    "print(sum)"
   ]
  },
  {
   "cell_type": "code",
   "execution_count": 17,
   "metadata": {},
   "outputs": [
    {
     "name": "stdout",
     "output_type": "stream",
     "text": [
      "230\n",
      "23.0\n"
     ]
    }
   ],
   "source": [
    "#write a program that reads 10 inputs and prints the sum and average of the given 10 inputs\n",
    "sum = 0\n",
    "for i in range(10):\n",
    "    num = int(input())\n",
    "    sum += num \n",
    "    avg = sum/10\n",
    "print(sum)\n",
    "print(avg)"
   ]
  },
  {
   "cell_type": "code",
   "execution_count": 19,
   "metadata": {},
   "outputs": [
    {
     "name": "stdout",
     "output_type": "stream",
     "text": [
      "199\n"
     ]
    }
   ],
   "source": [
    "#Write a program that reads two number M and N and prints the sum of squares of numbers from M to N\n",
    "M = int(input())\n",
    "N = int(input())\n",
    "sum = 0\n",
    "for i in range(M,N+1):\n",
    "    sum += i ** 2\n",
    "print(sum)"
   ]
  },
  {
   "cell_type": "code",
   "execution_count": 21,
   "metadata": {},
   "outputs": [
    {
     "name": "stdout",
     "output_type": "stream",
     "text": [
      "2\n",
      "4\n",
      "6\n",
      "8\n",
      "10\n"
     ]
    }
   ],
   "source": [
    "#write a program that reads a number N and prints even from 1 to N\n",
    "num = int(input())\n",
    "for i in range(1,num+1):\n",
    "    if (i % 2) == 0:\n",
    "        print(i)"
   ]
  },
  {
   "cell_type": "code",
   "execution_count": null,
   "metadata": {},
   "outputs": [],
   "source": [
    "#write a program that reads a number N and prints odd from 1 to N\n",
    "num = int(input())\n",
    "for i in range(1,num+1):\n",
    "    if (i % 2) != 0:\n",
    "        print(i)"
   ]
  },
  {
   "cell_type": "code",
   "execution_count": 25,
   "metadata": {},
   "outputs": [
    {
     "name": "stdout",
     "output_type": "stream",
     "text": [
      "12\n"
     ]
    }
   ],
   "source": [
    "#write a program that reads a number N and prints the sum of the even numbers 1 to N\n",
    "num = int(input())\n",
    "sum = 0\n",
    "for i in range(1,num+1):\n",
    "    if (i % 2) == 0:\n",
    "        sum += i \n",
    "print(sum) "
   ]
  },
  {
   "cell_type": "code",
   "execution_count": 26,
   "metadata": {},
   "outputs": [
    {
     "name": "stdout",
     "output_type": "stream",
     "text": [
      "9\n"
     ]
    }
   ],
   "source": [
    "#write a program that reads a number N and prints the sum of the odd numbers 1 to N\n",
    "num = int(input())\n",
    "sum = 0\n",
    "for i in range(1,num+1):\n",
    "    if (i % 2) != 0:\n",
    "        sum += i \n",
    "print(sum) "
   ]
  },
  {
   "cell_type": "code",
   "execution_count": 27,
   "metadata": {},
   "outputs": [
    {
     "name": "stdout",
     "output_type": "stream",
     "text": [
      "12\n"
     ]
    }
   ],
   "source": [
    "#write a program that reads two number M and N and prints the sum of the even number from M to N\n",
    "M = int(input())\n",
    "N = int(input())\n",
    "sum = 0\n",
    "for i in range(M,N+1):\n",
    "    if i % 2 == 0:\n",
    "        sum += i \n",
    "print(sum)"
   ]
  },
  {
   "cell_type": "code",
   "execution_count": 29,
   "metadata": {},
   "outputs": [
    {
     "name": "stdout",
     "output_type": "stream",
     "text": [
      "105\n"
     ]
    }
   ],
   "source": [
    "#write a program that reads two number M and N and prints the product of the odd number from M to N\n",
    "M = int(input())\n",
    "N = int(input())\n",
    "product = 1\n",
    "for i in range(M,N+1):\n",
    "    if i % 2 != 0:\n",
    "        product *= i \n",
    "print(product)"
   ]
  },
  {
   "cell_type": "code",
   "execution_count": 30,
   "metadata": {},
   "outputs": [
    {
     "name": "stdout",
     "output_type": "stream",
     "text": [
      "45\n"
     ]
    }
   ],
   "source": [
    "#write a program that reads two number M and N and prints the sum of the odd number from M to N\n",
    "M = int(input())\n",
    "N = int(input())\n",
    "sum = 0\n",
    "for i in range(M,N+1):\n",
    "    if i % 2 != 0:\n",
    "        sum += i \n",
    "print(sum)"
   ]
  },
  {
   "cell_type": "code",
   "execution_count": 2,
   "metadata": {},
   "outputs": [
    {
     "name": "stdout",
     "output_type": "stream",
     "text": [
      "5\n",
      "10\n",
      "15\n",
      "20\n"
     ]
    }
   ],
   "source": [
    "#write a progrm that reads two numbers N and T and prints all the numbers from 1 to n that are divisible by T.\n",
    "N = int(input())\n",
    "divisible_number = int(input())\n",
    "for i in range(1,N+1):\n",
    "    if i % divisible_number == 0:\n",
    "        print(i)"
   ]
  },
  {
   "cell_type": "code",
   "execution_count": 4,
   "metadata": {},
   "outputs": [
    {
     "name": "stdout",
     "output_type": "stream",
     "text": [
      "2090\n"
     ]
    }
   ],
   "source": [
    "#Given three integers,write a program to print the sum of the numbers divisible by the given number T from M to N.\n",
    "T = int(input())\n",
    "M = int(input())\n",
    "N = int(input())\n",
    "sum = 0\n",
    "for i in range(M,N+1):\n",
    "    if i % T == 0:\n",
    "        sum += i \n",
    "print(sum)\n"
   ]
  },
  {
   "cell_type": "code",
   "execution_count": 7,
   "metadata": {},
   "outputs": [
    {
     "name": "stdout",
     "output_type": "stream",
     "text": [
      "5\n"
     ]
    }
   ],
   "source": [
    "#Write a program that reads two numbers N and T and prints the count of numbers from 1 to N that are divisble by T\n",
    "N = int(input())\n",
    "T = int(input())\n",
    "count = 0\n",
    "for i in range(1,N+1):\n",
    "    if i % T == 0:\n",
    "        count += 1\n",
    "print(count)"
   ]
  },
  {
   "cell_type": "code",
   "execution_count": 9,
   "metadata": {},
   "outputs": [
    {
     "name": "stdout",
     "output_type": "stream",
     "text": [
      "6\n"
     ]
    }
   ],
   "source": [
    "#write a program that reads a number N and prints all the numbers from 1 to N that are divisble by both 2 and 3.\n",
    "N = int(input())\n",
    "for i in range(1,N+1):\n",
    "    if i % 2 ==0 and i % 3 == 0:\n",
    "        print(i)"
   ]
  },
  {
   "cell_type": "code",
   "execution_count": 11,
   "metadata": {},
   "outputs": [
    {
     "name": "stdout",
     "output_type": "stream",
     "text": [
      "3\n"
     ]
    }
   ],
   "source": [
    "#write a program that reads a number N and prints all the count of  numbers from 1 to N that are divisble by both 2 and 3.\n",
    "N = int(input())\n",
    "count = 0\n",
    "for i in range(1,N+1):\n",
    "    if i % 2 ==0 and i % 3 == 0:\n",
    "        count +=1 \n",
    "print(count)"
   ]
  },
  {
   "cell_type": "code",
   "execution_count": 13,
   "metadata": {},
   "outputs": [
    {
     "name": "stdout",
     "output_type": "stream",
     "text": [
      "z\n",
      "a\n"
     ]
    }
   ],
   "source": [
    "#write a program that reads a string and prints the a and z characters in the string\n",
    "word = input()\n",
    "for i in word:\n",
    "    if i == 'a' or i == 'z':\n",
    "        print(i)"
   ]
  },
  {
   "cell_type": "code",
   "execution_count": 15,
   "metadata": {},
   "outputs": [
    {
     "name": "stdout",
     "output_type": "stream",
     "text": [
      "a\n",
      "e\n"
     ]
    }
   ],
   "source": [
    "#Write a program that reads a string and print the owels in the string\n",
    "word = input()\n",
    "for i in word:\n",
    "    if i in 'AEIOUaeiou':\n",
    "        print(i)"
   ]
  },
  {
   "cell_type": "code",
   "execution_count": 16,
   "metadata": {},
   "outputs": [
    {
     "name": "stdout",
     "output_type": "stream",
     "text": [
      "2\n"
     ]
    }
   ],
   "source": [
    "#write a program that reads a string and prints the count of the vowels in the string\n",
    "word = input()\n",
    "count = 0 \n",
    "for i in word:\n",
    "    if i in 'AEIOUaeiou':\n",
    "        count += 1 \n",
    "print(count)"
   ]
  },
  {
   "cell_type": "code",
   "execution_count": 18,
   "metadata": {},
   "outputs": [
    {
     "name": "stdout",
     "output_type": "stream",
     "text": [
      "3\n",
      "2\n",
      "1\n"
     ]
    }
   ],
   "source": [
    "#write a program that reads a number N and print the numbers from N to 1.\n",
    "N = int(input())\n",
    "for i in range(N,0,-1):\n",
    "    print(i)"
   ]
  },
  {
   "cell_type": "code",
   "execution_count": 22,
   "metadata": {},
   "outputs": [
    {
     "name": "stdout",
     "output_type": "stream",
     "text": [
      "5\n",
      "4\n",
      "3\n",
      "2\n"
     ]
    }
   ],
   "source": [
    "#write a progrma that reads two number M and N and prints the number from N to M\n",
    "N = int(input())\n",
    "M = int(input())\n",
    "for i in range(M,N-1,-1):\n",
    "    print(i)"
   ]
  },
  {
   "cell_type": "code",
   "execution_count": 27,
   "metadata": {},
   "outputs": [
    {
     "name": "stdout",
     "output_type": "stream",
     "text": [
      "e\n",
      "l\n",
      "a\n",
      "c\n",
      "s\n"
     ]
    }
   ],
   "source": [
    "#write a program that reads a string and prints the charcters of a sting in reverse order\n",
    "word = input() \n",
    "for i in range(len(word)-1,-1,-1):\n",
    "    print(word[i])"
   ]
  },
  {
   "cell_type": "code",
   "execution_count": 30,
   "metadata": {},
   "outputs": [
    {
     "name": "stdout",
     "output_type": "stream",
     "text": [
      "9 7 5 3 1 \n"
     ]
    }
   ],
   "source": [
    "#write a program that reds two numbers M and N and print the odd numbers from N to M separated by a space.\n",
    "num = int(input())\n",
    "num1 = int(input())\n",
    "res = \"\"\n",
    "for i in range(num,num1):\n",
    "    if i % 2 != 0:\n",
    "        res = str(i) + \" \" + res \n",
    "print(res)"
   ]
  },
  {
   "cell_type": "code",
   "execution_count": 33,
   "metadata": {},
   "outputs": [
    {
     "name": "stdout",
     "output_type": "stream",
     "text": [
      "* * * * \n",
      "* * * \n",
      "* * \n",
      "* \n",
      "\n"
     ]
    }
   ],
   "source": [
    "#write a program that reads a number N and prints an Inverted Right Angled Triangle of N rows using stars(*)\n",
    "n = int(input())\n",
    "for i in range(1,n+1):\n",
    "    print(\"* \" * (n-i))\n"
   ]
  },
  {
   "cell_type": "code",
   "execution_count": 1,
   "metadata": {},
   "outputs": [
    {
     "name": "stdout",
     "output_type": "stream",
     "text": [
      "4 4 4 4 \n",
      "3 3 3 \n",
      "2 2 \n",
      "1 \n"
     ]
    }
   ],
   "source": [
    "#write a program that reads a number N and prints an Inverted Right Angled Triangle of N rows using number\n",
    "num = int(input())\n",
    "for i in range(num):\n",
    "    number = num - i\n",
    "    pattern = (str(number) + \" \") * number\n",
    "    print(pattern)"
   ]
  },
  {
   "cell_type": "code",
   "execution_count": 3,
   "metadata": {},
   "outputs": [
    {
     "name": "stdout",
     "output_type": "stream",
     "text": [
      "1\n"
     ]
    }
   ],
   "source": [
    "#write a program that reads two numbers M and N and finds the product of the numbers from M to N that are divisible by 3.\n",
    "n = int(input())\n",
    "m = int(input())\n",
    "product = 1\n",
    "for i in range(n,m+1):\n",
    "    if i % 3 == 0:\n",
    "        product *= i \n",
    "print(product)"
   ]
  },
  {
   "cell_type": "code",
   "execution_count": 5,
   "metadata": {},
   "outputs": [
    {
     "name": "stdout",
     "output_type": "stream",
     "text": [
      "257\n"
     ]
    }
   ],
   "source": [
    "#write a program that reads two numbers N and K and prints the sum of the kth power of all numbers from 1 to N.\n",
    "n = int(input())\n",
    "m = int(input())\n",
    "sum = 0\n",
    "for i in range(1,n+1):\n",
    "    sum += i ** m \n",
    "print(sum)\n"
   ]
  },
  {
   "cell_type": "code",
   "execution_count": 8,
   "metadata": {},
   "outputs": [
    {
     "name": "stdout",
     "output_type": "stream",
     "text": [
      "7\n"
     ]
    }
   ],
   "source": [
    "#Write a program that reads a number N and prints the count of numbers from 1 to n that are divisible  by 6 and 8 \n",
    "N  = int(input())\n",
    "count = 0\n",
    "for i in range(1,N+1):\n",
    "    if i % 6 == 0 and i % 8 == 0:\n",
    "        count += 1\n",
    "print(count)"
   ]
  },
  {
   "cell_type": "code",
   "execution_count": 17,
   "metadata": {},
   "outputs": [
    {
     "name": "stdout",
     "output_type": "stream",
     "text": [
      "* * * * \n",
      "+ + + \n",
      "+ + \n",
      "+ \n"
     ]
    }
   ],
   "source": [
    "#Write a program that reads a number N and print an Inverted Right Angled Triangle of N rows using stars(*) and pluses(+)\n",
    "n = int(input())\n",
    "for i in range(1,n+1):\n",
    "    if i == 1:\n",
    "        print(\"* \" * n)\n",
    "    elif(i<=n):\n",
    "        print(\"+ \" * (n-i+1))"
   ]
  },
  {
   "cell_type": "code",
   "execution_count": 23,
   "metadata": {},
   "outputs": [
    {
     "name": "stdout",
     "output_type": "stream",
     "text": [
      "* \n",
      "* * \n",
      "* * * \n",
      "* * * \n",
      "* * \n",
      "* \n"
     ]
    }
   ],
   "source": [
    "#write a progrma that reads a number N and prints a Right Angled triangle of N rows an Inverted Right Angled Traingle of n rows using stars(*)\n",
    "n = int(input())\n",
    "for i in range(1,n+1):\n",
    "    print(\"* \" * i)\n",
    "for i in range(1,n+1):\n",
    "    print(\"* \" * (n-i+1))"
   ]
  },
  {
   "cell_type": "code",
   "execution_count": 25,
   "metadata": {},
   "outputs": [
    {
     "name": "stdout",
     "output_type": "stream",
     "text": [
      "196\n"
     ]
    }
   ],
   "source": [
    "#Given an integer N and exponent M as input,write a program to calculate N power M without using the power operator(**)\n",
    "N = int(input())\n",
    "M = int(input())\n",
    "p = 1\n",
    "for i in range(1,M+1):\n",
    "    p = p*N \n",
    "print(p)\n"
   ]
  },
  {
   "cell_type": "code",
   "execution_count": 27,
   "metadata": {},
   "outputs": [
    {
     "name": "stdout",
     "output_type": "stream",
     "text": [
      "24\n"
     ]
    }
   ],
   "source": [
    "#Given two integers M,N.Write a program to print the product of number in the range M and N (inclusive of M and N)\n",
    "n = int(input())\n",
    "m = int(input())\n",
    "product = 1\n",
    "for i in range(n,m+1):\n",
    "    product *= i \n",
    "print(product)"
   ]
  },
  {
   "cell_type": "code",
   "execution_count": 6,
   "metadata": {},
   "outputs": [
    {
     "name": "stdout",
     "output_type": "stream",
     "text": [
      "2 X 1 = 2\n",
      "2 X 2 = 4\n",
      "2 X 3 = 6\n",
      "2 X 4 = 8\n",
      "2 X 5 = 10\n",
      "2 X 6 = 12\n",
      "2 X 7 = 14\n",
      "2 X 8 = 16\n",
      "2 X 9 = 18\n",
      "2 X 10 = 20\n"
     ]
    }
   ],
   "source": [
    "#Write a program to print the multiplication table of the given number(N) up to ten multiples in the fromat \"N X i = M\"\n",
    "table = int(input())\n",
    "for i in range(1,11):\n",
    "    print(str(table) + \" X \" +  str(i)  + \" = \" + str(table*i))"
   ]
  },
  {
   "cell_type": "code",
   "execution_count": 9,
   "metadata": {},
   "outputs": [
    {
     "name": "stdout",
     "output_type": "stream",
     "text": [
      "oaie\n"
     ]
    }
   ],
   "source": [
    "#Given a sting S,write a program to find the vowels in the given string S.\n",
    "string = input()\n",
    "res = \"\"\n",
    "for i in string:\n",
    "    if i in 'AEIOUaeiou':\n",
    "        res += i \n",
    "print(res)"
   ]
  },
  {
   "cell_type": "code",
   "execution_count": 18,
   "metadata": {},
   "outputs": [
    {
     "name": "stdout",
     "output_type": "stream",
     "text": [
      "ihsmaV\n"
     ]
    }
   ],
   "source": [
    "#write a progrmto print the reverse of a string\n",
    "# first way \n",
    "# word = input()\n",
    "# res = \"\"\n",
    "# for i in range(len(word)-1,-1,-1):\n",
    "#     res += word[i] \n",
    "# print(res)\n",
    "#Second Way\n",
    "word = input()\n",
    "res = \"\"\n",
    "for i in word:\n",
    "    res =  i + res\n",
    "print(res) \n"
   ]
  },
  {
   "cell_type": "code",
   "execution_count": 21,
   "metadata": {},
   "outputs": [
    {
     "name": "stdout",
     "output_type": "stream",
     "text": [
      "21231\n"
     ]
    }
   ],
   "source": [
    "#Given a number N,write a program to print the sum of the kth power of all the digits in the given number.\n",
    "num = int(input())\n",
    "str_number = str(num)\n",
    "sum = 0\n",
    "for i in str_number:\n",
    "    sum += int(i) ** len(str_number)\n",
    "print(sum)"
   ]
  },
  {
   "cell_type": "code",
   "execution_count": 40,
   "metadata": {},
   "outputs": [
    {
     "name": "stdout",
     "output_type": "stream",
     "text": [
      "Armstrong Number\n"
     ]
    }
   ],
   "source": [
    "#write a program that reads a number N and checks if N is an Armstong number\n",
    "n = int(input())\n",
    "str_n = str(n)\n",
    "length_of_n = len(str_n)\n",
    "sum = 0\n",
    "for i in str_n:\n",
    "    res = int(i) ** length_of_n\n",
    "    sum += res \n",
    "if sum == n:\n",
    "    print(\"Armstrong Number\")\n",
    "else:\n",
    "    print(\"Not a Armstrong Number\")"
   ]
  },
  {
   "cell_type": "code",
   "execution_count": 44,
   "metadata": {},
   "outputs": [
    {
     "name": "stdout",
     "output_type": "stream",
     "text": [
      "1\n",
      "2\n",
      "3\n",
      "6\n"
     ]
    }
   ],
   "source": [
    "#Given a number N,write a program to print the factors of a Number\n",
    "N = int(input())\n",
    "for i in range(1,N+1):\n",
    "    if N % i == 0:\n",
    "        print(i)"
   ]
  },
  {
   "cell_type": "code",
   "execution_count": 45,
   "metadata": {},
   "outputs": [
    {
     "name": "stdout",
     "output_type": "stream",
     "text": [
      "1 3 5 15 "
     ]
    }
   ],
   "source": [
    "#Given a number N,write a program to print the factors of a N sepeated by a space\n",
    "N = int(input())\n",
    "for i in range(1,N+1):\n",
    "    if N % i == 0:\n",
    "        print(i,end= \" \")"
   ]
  },
  {
   "cell_type": "code",
   "execution_count": 47,
   "metadata": {},
   "outputs": [
    {
     "name": "stdout",
     "output_type": "stream",
     "text": [
      "28\n"
     ]
    }
   ],
   "source": [
    "#Given a number N,write a program to print sum of the factors of a Number\n",
    "N = int(input())\n",
    "sum = 0\n",
    "for i in range(1,N+1):\n",
    "    if N % i == 0:\n",
    "        sum += i\n",
    "print(sum)"
   ]
  },
  {
   "cell_type": "code",
   "execution_count": 54,
   "metadata": {},
   "outputs": [
    {
     "name": "stdout",
     "output_type": "stream",
     "text": [
      "96\n"
     ]
    }
   ],
   "source": [
    "#Given a number N,write a program that reads N inputs and pritns the greates number among the given inputs\n",
    "N = int(input())\n",
    "first_number = int(input())\n",
    "greatest = first_number\n",
    "for i in range(N-1):\n",
    "    num = int(input())\n",
    "    if num > greatest:\n",
    "        greatest = num \n",
    "print(greatest)"
   ]
  },
  {
   "cell_type": "code",
   "execution_count": 56,
   "metadata": {},
   "outputs": [
    {
     "name": "stdout",
     "output_type": "stream",
     "text": [
      "Not a perfect Number\n"
     ]
    }
   ],
   "source": [
    "#Write a program to chek the given number is a perfect number or not\n",
    "n = int(input())\n",
    "sum = 0 \n",
    "for i in range(1,n):\n",
    "    if n % i == 0:\n",
    "        sum += i \n",
    "if(n==sum):\n",
    "    print(\"perfect number\")\n",
    "else:\n",
    "    print(\"Not a perfect Number\")"
   ]
  },
  {
   "cell_type": "code",
   "execution_count": 4,
   "metadata": {},
   "outputs": [
    {
     "name": "stdout",
     "output_type": "stream",
     "text": [
      "14\n"
     ]
    }
   ],
   "source": [
    "#Given two numbers M and N,write a program to print the count of the total number of the digits from M to N\n",
    "M = int(input())\n",
    "N = int(input())\n",
    "count = 0\n",
    "for i in range(M,N+1):\n",
    "    count += len(str(i))\n",
    "    # if len(str(i)) == 1:\n",
    "    #     count += 1 \n",
    "    # elif len(str(i)) == 2:\n",
    "    #     count += 2 \n",
    "print(count) "
   ]
  },
  {
   "cell_type": "code",
   "execution_count": 9,
   "metadata": {},
   "outputs": [
    {
     "name": "stdout",
     "output_type": "stream",
     "text": [
      "6 12 18 "
     ]
    }
   ],
   "source": [
    "#Given two numbers M and N,write a program to find the count of numbers from M to N that are divisible by 6.\n",
    "n= int(input())\n",
    "m = int(input())\n",
    "count = 0 \n",
    "for i in range(n,m+1):\n",
    "    if i % 6 == 0:\n",
    "        print(str(i),end=\" \")\n",
    "        count +=1\n",
    "if count == 0:\n",
    "    print(\"No Number Found\")"
   ]
  },
  {
   "cell_type": "code",
   "execution_count": 12,
   "metadata": {},
   "outputs": [
    {
     "name": "stdout",
     "output_type": "stream",
     "text": [
      "String doesn't have more than two vowels\n"
     ]
    }
   ],
   "source": [
    "#Given a string,write a program to find the count of VOwels in the string\n",
    "word = input()\n",
    "count = 0 \n",
    "for i in word:\n",
    "    if i in \"AEIOUaeiou\":\n",
    "        count+=1 \n",
    "if count>2:\n",
    "    print(\"String has more than two vowels\")\n",
    "else:\n",
    "    print(\"String doesn't have more than two vowels\")"
   ]
  },
  {
   "cell_type": "code",
   "execution_count": 21,
   "metadata": {},
   "outputs": [
    {
     "name": "stdout",
     "output_type": "stream",
     "text": [
      "Indivisible Number\n"
     ]
    }
   ],
   "source": [
    "#Given a number N,write a program that checks if N is not divisble by any number from 2 to 9\n",
    "num = int(input())\n",
    "count = 0\n",
    "for i in range(2,9):\n",
    "    if num % i == 0:\n",
    "        count += 1 \n",
    "if count >=1:\n",
    "    print(\"Divisible Number\")\n",
    "else:\n",
    "    print(\"Indivisible Number\")"
   ]
  },
  {
   "cell_type": "code",
   "execution_count": 25,
   "metadata": {},
   "outputs": [
    {
     "name": "stdout",
     "output_type": "stream",
     "text": [
      "96\n"
     ]
    }
   ],
   "source": [
    "#write a program to print the smallestamong the numbers\n",
    "num = int(input())\n",
    "smallest = int(input())\n",
    "for i in range(num-1):\n",
    "    number = int(input())\n",
    "    if number < smallest:\n",
    "        smallest = number \n",
    "print(smallest) "
   ]
  },
  {
   "cell_type": "code",
   "execution_count": 30,
   "metadata": {},
   "outputs": [
    {
     "name": "stdout",
     "output_type": "stream",
     "text": [
      "9 18 "
     ]
    }
   ],
   "source": [
    "#Given two numbers M and N,write a program to find the count of numbers from m to n that are divisible by 9.\n",
    "M = int(input())\n",
    "N = int(input())\n",
    "count = 0\n",
    "for i in range(M,N+1):\n",
    "    if i % 9 == 0:\n",
    "        print(str(i),end=\" \")\n",
    "        count +=1\n",
    "if count == 0:\n",
    "    print(\"No Number found\")\n",
    "        "
   ]
  },
  {
   "cell_type": "code",
   "execution_count": 33,
   "metadata": {},
   "outputs": [
    {
     "name": "stdout",
     "output_type": "stream",
     "text": [
      "2\n",
      "22\n",
      "222\n"
     ]
    }
   ],
   "source": [
    "#Given a number N,write a program to print the N terms in the given series,each on a new line.\n",
    "N = int(input())\n",
    "for i in range(1,N+1):\n",
    "    print(str(\"2\")*i)"
   ]
  },
  {
   "cell_type": "code",
   "execution_count": 37,
   "metadata": {},
   "outputs": [
    {
     "name": "stdout",
     "output_type": "stream",
     "text": [
      "24691356\n"
     ]
    }
   ],
   "source": [
    "#Given an integer N,write a program to print the sum of N termsin the given series.\n",
    "n = int(input())\n",
    "sum = 0\n",
    "for i in range(1,n+1):\n",
    "    series = \"2\" * i\n",
    "    sum += int(series) \n",
    "print(sum)"
   ]
  },
  {
   "cell_type": "code",
   "execution_count": 43,
   "metadata": {},
   "outputs": [
    {
     "name": "stdout",
     "output_type": "stream",
     "text": [
      "1234567900\n"
     ]
    }
   ],
   "source": [
    "#Given an integer N,write a program to print the sum of N terms in the given series\n",
    "num = int(input())\n",
    "sum = 0\n",
    "for i in range(1,num+1):\n",
    "    series = \"1\" * i \n",
    "    sum += int(series)\n",
    "print(sum)"
   ]
  },
  {
   "cell_type": "code",
   "execution_count": 45,
   "metadata": {},
   "outputs": [
    {
     "name": "stdout",
     "output_type": "stream",
     "text": [
      "8638\n"
     ]
    }
   ],
   "source": [
    "#Given two numbers X and N,write a program to print the sum of N terms in the given series.\n",
    "X = int(input())\n",
    "N = int(input())\n",
    "sum = 0\n",
    "for i in range(1,N+1):\n",
    "    series = str(X) * i \n",
    "    sum += int(series)\n",
    "print(sum)"
   ]
  },
  {
   "cell_type": "code",
   "execution_count": 53,
   "metadata": {},
   "outputs": [
    {
     "name": "stdout",
     "output_type": "stream",
     "text": [
      "199088\n"
     ]
    }
   ],
   "source": [
    "#Given two numbers X and N,write a program to print the sum of N terms in the given series.\n",
    "X = int(input())\n",
    "N = int(input())\n",
    "sum = 0\n",
    "for i in range(1,N+1):\n",
    "    series = str(X) * i \n",
    "    sum += int(series)**2\n",
    "print(sum)"
   ]
  },
  {
   "cell_type": "code",
   "execution_count": 60,
   "metadata": {},
   "outputs": [
    {
     "name": "stdout",
     "output_type": "stream",
     "text": [
      "2730\n"
     ]
    }
   ],
   "source": [
    "#Given two  numbers X an N write a program to print the sum of N terms in the given series\n",
    "#x1, x3, x5, ... N terms\n",
    "X = int(input())\n",
    "N = int(input())\n",
    "sum = 0 \n",
    "for i in range(1,N*2+1):\n",
    "    if i % 2 != 0:\n",
    "        series = str(X) \n",
    "        sum += int(series) ** i\n",
    "print(sum)"
   ]
  },
  {
   "cell_type": "code",
   "execution_count": 69,
   "metadata": {},
   "outputs": [
    {
     "name": "stdout",
     "output_type": "stream",
     "text": [
      "5460\n"
     ]
    }
   ],
   "source": [
    "#Given two  numbers X an N write a program to print the sum of N terms in the given series \n",
    "# x², x4, x6, ... N terms\n",
    "X = int(input())\n",
    "N = int(input())\n",
    "sum = 0\n",
    "for i in range(1,2*N+1):\n",
    "    if i%2 == 0:\n",
    "        series = str(X) \n",
    "        sum += int(series) ** i \n",
    "print(sum)"
   ]
  },
  {
   "cell_type": "code",
   "execution_count": 72,
   "metadata": {},
   "outputs": [
    {
     "name": "stdout",
     "output_type": "stream",
     "text": [
      "115297\n"
     ]
    }
   ],
   "source": [
    "#Given two  numbers X an N write a program to print the sum of N terms in the given series\n",
    "#X2,-X4,X6,X-8...n terms\n",
    "X = int(input())\n",
    "N = int(input())\n",
    "sum = 0\n",
    "for i in range(1,2*N+1):\n",
    "    if i % 2 == 0:\n",
    "        series = int(str(X))**i \n",
    "        if i % 4 == 0:\n",
    "            series = -1 *series\n",
    "        sum = sum + series \n",
    "print(sum)\n",
    " "
   ]
  },
  {
   "cell_type": "code",
   "execution_count": 80,
   "metadata": {},
   "outputs": [
    {
     "name": "stdout",
     "output_type": "stream",
     "text": [
      "   *\n",
      "  **\n",
      " ***\n",
      "****\n"
     ]
    }
   ],
   "source": [
    "#Given a number N,write a program to print the Right Angled Triangle of N rows using stars(*)\n",
    "n = int(input())\n",
    "for i in range(1,n+1):\n",
    "    pattern = \" \" * (n-i) + \"*\" * i\n",
    "    print(pattern)\n"
   ]
  },
  {
   "cell_type": "code",
   "execution_count": 86,
   "metadata": {},
   "outputs": [
    {
     "name": "stdout",
     "output_type": "stream",
     "text": [
      "      * \n",
      "    * * \n",
      "  * * * \n",
      "* * * * \n"
     ]
    }
   ],
   "source": [
    "#Given a number N,write a program to print the Right Angled Triangle of N rows using stars(*)\n",
    "n = int(input())\n",
    "for i in range(1,n+1): \n",
    "    pattern = \"  \" * (n-i) + \"* \" * i\n",
    "    print(pattern)\n"
   ]
  },
  {
   "cell_type": "code",
   "execution_count": 89,
   "metadata": {},
   "outputs": [
    {
     "name": "stdout",
     "output_type": "stream",
     "text": [
      "   *\n",
      "  **\n",
      " ***\n",
      "####\n"
     ]
    }
   ],
   "source": [
    "#Given a number N,write a program to print the Right Angled Triangle of N rows using stars(*) and hashes(#)\n",
    "# The last row contains hashes(#) \n",
    "n = int(input())\n",
    "for i in range(1,n+1):\n",
    "    if i<n:\n",
    "        pattern = \" \" * (n-i) + \"*\" * i\n",
    "        print(pattern)\n",
    "    if i == n:\n",
    "        print(\"#\"*n)\n"
   ]
  },
  {
   "cell_type": "code",
   "execution_count": 97,
   "metadata": {},
   "outputs": [
    {
     "name": "stdout",
     "output_type": "stream",
     "text": [
      "      * \n",
      "    * * * \n",
      "  * * * * * \n",
      "* * * * * * * \n"
     ]
    }
   ],
   "source": [
    "#Given a number N,write a program to print a pyramid of N rows using stars(*)\n",
    "n = int(input())\n",
    "spaces = \"\"\n",
    "for i in range(1,n+1):\n",
    "    spaces = \"  \" * (n-i)\n",
    "    stars = \"* \" * (2*i-1)\n",
    "    print(spaces+stars)"
   ]
  },
  {
   "cell_type": "code",
   "execution_count": 101,
   "metadata": {},
   "outputs": [
    {
     "name": "stdout",
     "output_type": "stream",
     "text": [
      "    1 \n",
      "  2 2 2 \n",
      "3 3 3 3 3 \n"
     ]
    }
   ],
   "source": [
    "#Given a number N,write a program to print Pyramid of N rows using numbers\n",
    "n = int(input())\n",
    "spaces = \"\"\n",
    "for i in range(1,n+1):\n",
    "    spaces = \"  \" * (n-i)\n",
    "    pattern = str(i) + \" \"\n",
    "    print(spaces+pattern * (2*i-1))"
   ]
  },
  {
   "cell_type": "code",
   "execution_count": 3,
   "metadata": {},
   "outputs": [
    {
     "name": "stdout",
     "output_type": "stream",
     "text": [
      "3 3 3 \n",
      "  2 2 \n",
      "    1 \n"
     ]
    }
   ],
   "source": [
    "#Given a number n,write a program to print an Inverted Right Triangle of N rows using numbers\n",
    "n = int(input())\n",
    "for i in range(1,n+1):\n",
    "    number = (n+1) - i \n",
    "    spaces = (\"  \") * (i-1)\n",
    "    numbers = (str(number) + \" \") * number \n",
    "    print(spaces+numbers)\n"
   ]
  },
  {
   "cell_type": "code",
   "execution_count": 12,
   "metadata": {},
   "outputs": [
    {
     "name": "stdout",
     "output_type": "stream",
     "text": [
      "*******\n",
      " *****\n",
      "  ***\n",
      "   *\n"
     ]
    }
   ],
   "source": [
    "#Given a number N,write a program to print an Inverted Pyramid of N rows using stars(*)\n",
    "n = int(input())\n",
    "for i in range(n):\n",
    "    spaces = \" \" * i\n",
    "    pattern = \"*\" * (2*(n-i)-1)\n",
    "    print(spaces+pattern)"
   ]
  },
  {
   "cell_type": "code",
   "execution_count": 14,
   "metadata": {},
   "outputs": [
    {
     "name": "stdout",
     "output_type": "stream",
     "text": [
      "*             * \n",
      "* *         * * \n",
      "* * *     * * * \n",
      "* * * * * * * * \n"
     ]
    }
   ],
   "source": [
    "#Given a number n,write a program to print the letter M of N rows with to soild Right angled triangle of n rows using stars(*)\n",
    "n = int(input())\n",
    "for i in range(1,n+1):\n",
    "    stars = i \n",
    "    spaces = 4 * (n-i)\n",
    "    row = (\"* \") * stars + (\" \") * spaces + (\"* \") * stars \n",
    "    print(row)"
   ]
  },
  {
   "cell_type": "code",
   "execution_count": 22,
   "metadata": {},
   "outputs": [
    {
     "name": "stdout",
     "output_type": "stream",
     "text": [
      "* \n",
      "* * \n",
      "* * * \n",
      "* * \n",
      "* \n",
      "\n"
     ]
    }
   ],
   "source": [
    "#Given a number N,write a program to print a pyramid of 2*N-1 rows using stars(*)\n",
    "n = int(input())\n",
    "for i in range(1,n+1):\n",
    "    pattern = \"* \" * i\n",
    "    print(pattern) \n",
    "for i in range(1,n+1):\n",
    "    pattern = (\"* \") * (n-i)\n",
    "    print(pattern)\n"
   ]
  },
  {
   "cell_type": "code",
   "execution_count": 28,
   "metadata": {},
   "outputs": [
    {
     "name": "stdout",
     "output_type": "stream",
     "text": [
      "1 \n",
      "2 2 \n",
      "3 3 3 \n",
      "4 4 4 4 \n",
      "5 5 5 5 5 \n",
      "4 4 4 4 \n",
      "3 3 3 \n",
      "2 2 \n",
      "1 \n",
      "\n"
     ]
    }
   ],
   "source": [
    "#Given a number N,write a program to print a pyramid of 2*N-1 rows using numbers\n",
    "n = int(input())\n",
    "for i in range(1,n+1):\n",
    "    pattern = str(i) + \" \"\n",
    "    print(pattern * i)\n",
    "for i in range(1,n+1):\n",
    "    pattern = str(n-i) + \" \"\n",
    "    print(pattern*(n-i))"
   ]
  },
  {
   "cell_type": "code",
   "execution_count": 58,
   "metadata": {},
   "outputs": [
    {
     "name": "stdout",
     "output_type": "stream",
     "text": [
      "        #\n",
      "      + #\n",
      "    + + #\n",
      "  + + + #\n",
      "+ + + + #\n",
      "  + + + #\n",
      "    + + #\n",
      "      + #\n",
      "        #\n"
     ]
    }
   ],
   "source": [
    "#Given a number N,write a program to print a Pyramid of 2*N-1 rows using pluses(+) and hashes(#)\n",
    "n = int(input())\n",
    "for i in range(1,n+1):\n",
    "    spaces = \"  \" * (n-i)\n",
    "    if i == 1:\n",
    "        print(spaces + \"#\")\n",
    "    else:\n",
    "        print(spaces + \"+ \" * (i-1)+\"#\")\n",
    "for i in range(1,n):\n",
    "    spaces1 = \"  \" * (i)\n",
    "    print(spaces1+\"+ \" * (n-i-1) + \"#\")"
   ]
  },
  {
   "cell_type": "code",
   "execution_count": 66,
   "metadata": {},
   "outputs": [
    {
     "name": "stdout",
     "output_type": "stream",
     "text": [
      "*             * \n",
      "* *         * * \n",
      "* * *     * * * \n",
      "* * * * * * * * \n",
      "* * *     * * * \n",
      "* *         * * \n",
      "*             * \n"
     ]
    }
   ],
   "source": [
    "#Given a number N,write a program to print a Butterfly of (2*N)-1 rows using stars(*)\n",
    "n = int(input())\n",
    "for i in range(1,n+1):\n",
    "    stars = i \n",
    "    spaces = 2*(n-i)  \n",
    "    row = (\"* \") * stars + (\"  \")*spaces + (\"* \") *stars \n",
    "    print(row)\n",
    "for i in range(1,n):\n",
    "    stars = \"* \" * (n-i)\n",
    "    spaces = \"  \" * (2*i) \n",
    "    row = stars + spaces + stars\n",
    "    print(row) "
   ]
  },
  {
   "cell_type": "code",
   "execution_count": 70,
   "metadata": {},
   "outputs": [
    {
     "name": "stdout",
     "output_type": "stream",
     "text": [
      "   * \n",
      "  * * \n",
      " * * * \n",
      "* * * * \n"
     ]
    }
   ],
   "source": [
    "#Given a nuber N,write a program to print a Pyramid of N rows using stars(*)\n",
    "n = int(input())\n",
    "for i in range(1,n+1):\n",
    "    spaces = (\" \") * (n-i)\n",
    "    stars = \"* \" * i \n",
    "    print(spaces+stars)"
   ]
  },
  {
   "cell_type": "code",
   "execution_count": 71,
   "metadata": {},
   "outputs": [
    {
     "name": "stdout",
     "output_type": "stream",
     "text": [
      "   1 \n",
      "  2 2 \n",
      " 3 3 3 \n",
      "4 4 4 4 \n"
     ]
    }
   ],
   "source": [
    "#Given a number Nwrite a program to print a Pyramid of n rows using Numbers \n",
    "n = int(input())\n",
    "for i in range(1,n+1):\n",
    "    spaces = \" \" * (n-i)\n",
    "    pattern = str(i) + \" \"\n",
    "    print(spaces+pattern*i)"
   ]
  },
  {
   "cell_type": "code",
   "execution_count": 81,
   "metadata": {},
   "outputs": [
    {
     "name": "stdout",
     "output_type": "stream",
     "text": [
      " * * * *\n",
      "  * * *\n",
      "   * *\n",
      "    *\n"
     ]
    }
   ],
   "source": [
    "#Given a number N,write a program to print an Inverted Pyramid of N rows using stars(*)\n",
    "n = int(input())\n",
    "for i in range(n):\n",
    "    spaces = \" \" * i \n",
    "    stars = \" *\" * (n-i) \n",
    "    print(spaces+stars)"
   ]
  },
  {
   "cell_type": "code",
   "execution_count": 97,
   "metadata": {},
   "outputs": [
    {
     "name": "stdout",
     "output_type": "stream",
     "text": [
      "+ + + + \n",
      " * * * \n",
      "  * * \n",
      "   * \n"
     ]
    }
   ],
   "source": [
    "#Given a number N,write a program to print an Inverted Pyramid of n rows using stars(*) and pluses(+)\n",
    "n = int(input())\n",
    "for i in range(n):\n",
    "    if i == 0:\n",
    "        res = \"+ \" * n \n",
    "    elif i<=n:\n",
    "        spaces = \" \" * i\n",
    "        stars = \"* \" * (n-i)\n",
    "        res = spaces+stars\n",
    "    print(res) \n"
   ]
  },
  {
   "cell_type": "code",
   "execution_count": 100,
   "metadata": {},
   "outputs": [
    {
     "name": "stdout",
     "output_type": "stream",
     "text": [
      "   * \n",
      "  * * \n",
      " * * * \n",
      "* * * * \n",
      " * * * \n",
      "  * * \n",
      "   * \n"
     ]
    }
   ],
   "source": [
    "#Given a number N,write a program to print a Diamond of (2*N) - 1 rows using stars (*)\n",
    "n = int(input())\n",
    "for i in range(1,n+1):\n",
    "    spaces = \" \" *(n-i)\n",
    "    stars = \"* \" * i \n",
    "    print(spaces+stars)\n",
    "for i in range(1,n):\n",
    "    spaces = \" \" *(i)\n",
    "    stars = \"* \" * (n-i) \n",
    "    print(spaces+stars)"
   ]
  },
  {
   "cell_type": "code",
   "execution_count": 123,
   "metadata": {},
   "outputs": [
    {
     "name": "stdout",
     "output_type": "stream",
     "text": [
      "   *       * \n",
      "  * *     * * \n",
      " * * *   * * * \n",
      "* * * * * * * * \n"
     ]
    }
   ],
   "source": [
    "#Given a number N,write a program to print the letter M of N rows with two soild pyramids using stars(*)\n",
    "n= int(input())\n",
    "for i in range(1,n+1):\n",
    "    stars = \"* \" * i \n",
    "    spaces = \" \" * (n-i)\n",
    "    first = spaces+stars\n",
    "    spaces1 = \"  \" * (n-i)\n",
    "    stars1 = \"* \" * i \n",
    "    second = spaces1+stars1 \n",
    "    print(first+second) "
   ]
  },
  {
   "cell_type": "code",
   "execution_count": 125,
   "metadata": {},
   "outputs": [
    {
     "name": "stdout",
     "output_type": "stream",
     "text": [
      "210\n"
     ]
    }
   ],
   "source": [
    "n = int(input())\n",
    "sum = 0\n",
    "for i in range(1,n+1):\n",
    "    str_i = str(i)\n",
    "    length = len(str_i)\n",
    "    sum += length\n",
    "print(sum)\n"
   ]
  },
  {
   "cell_type": "code",
   "execution_count": 54,
   "metadata": {},
   "outputs": [
    {
     "name": "stdout",
     "output_type": "stream",
     "text": [
      "-1937780208\n"
     ]
    }
   ],
   "source": [
    "#Given two numbers X and N,write a program to print the sum of N terms in the given series\n",
    "# X,-X3,X5,-X7,X9...N terms\n",
    "X = int(input())\n",
    "N = int(input())\n",
    "sum = 0 \n",
    "sign = 1\n",
    "for i in range(1,2*N+1,2):\n",
    "    series = sign * (X ** i)\n",
    "    sum += series\n",
    "    sign *= -1\n",
    "print(sum)\n"
   ]
  },
  {
   "cell_type": "code",
   "execution_count": 140,
   "metadata": {},
   "outputs": [
    {
     "name": "stdout",
     "output_type": "stream",
     "text": [
      "Number doesn't have more than 2 factors\n"
     ]
    }
   ],
   "source": [
    "#Given a number N,write a program o find the count of factors off N.\n",
    "#print Number has more than 2 factors if the count of factors is greater than 2 .otherwise rint Number doesnot have more than 2 factors\n",
    "N = int(input())\n",
    "count = 0\n",
    "for i in range(1,N+1):\n",
    "    if N % i == 0:\n",
    "        count +=1 \n",
    "if count > 2:\n",
    "    print(\"Number has more than 2 factors\")\n",
    "else:\n",
    "    print(\"Number doesn't have more than 2 factors\")"
   ]
  },
  {
   "cell_type": "code",
   "execution_count": 142,
   "metadata": {},
   "outputs": [
    {
     "name": "stdout",
     "output_type": "stream",
     "text": [
      "* \n",
      "* * \n",
      "* * * \n",
      "* * * * \n",
      "* * * * * \n",
      "* \n",
      "* * \n",
      "* * * \n",
      "* * * * \n",
      "* * * * * \n"
     ]
    }
   ],
   "source": [
    "#Write a program that reads a number n and pritntwo Right Angled Traingles,each of N rows using stars(*)\n",
    "n = int(input())\n",
    "for i in range(1,n+1):\n",
    "    print(\"* \" * i)\n",
    "for i in range(1,n+1):\n",
    "    print(\"* \" * i)"
   ]
  },
  {
   "cell_type": "code",
   "execution_count": 147,
   "metadata": {},
   "outputs": [
    {
     "name": "stdout",
     "output_type": "stream",
     "text": [
      "   1 \n",
      "  2 2 \n",
      " 3 3 3 \n",
      "4 4 4 4 \n",
      " 3 3 3 \n",
      "  2 2 \n",
      "   1 \n"
     ]
    }
   ],
   "source": [
    "#Given a number N,write a program to pritn a diamond of 2*N-1 rows using numbers\n",
    "n = int(input())\n",
    "for i in range(1,n+1):\n",
    "    spaces = \" \" * (n-i)\n",
    "    pattern = str(i) + \" \"\n",
    "    print(spaces+pattern*i)\n",
    "for i in range(1,n):\n",
    "    spaces = \" \" * (i)\n",
    "    pattern = str(n-i) + \" \"\n",
    "    print(spaces+pattern*(n-i))\n",
    " "
   ]
  },
  {
   "cell_type": "code",
   "execution_count": 150,
   "metadata": {},
   "outputs": [
    {
     "name": "stdout",
     "output_type": "stream",
     "text": [
      "* * * * \n",
      "  * * * \n",
      "    * * \n",
      "      * \n"
     ]
    }
   ],
   "source": [
    "#Given a number N,write a program to print a Right Angled Triangle of N rows using stars(*)\n",
    "n = int(input())\n",
    "for i in range(n):\n",
    "    spaces = \"  \" * i \n",
    "    pattern = \"* \" * (n-i)\n",
    "    print(spaces+pattern)\n"
   ]
  },
  {
   "cell_type": "code",
   "execution_count": 169,
   "metadata": {},
   "outputs": [
    {
     "name": "stdout",
     "output_type": "stream",
     "text": [
      "* * * * * * * * \n",
      "* * * * * * * * \n",
      " * * *   * * * \n",
      "  * *     * * \n",
      "   *       * \n"
     ]
    }
   ],
   "source": [
    "#Given a number N,write a program to print the letter W of N rows using stars(*)\n",
    "n = int(input())\n",
    "for i in range(1,n+1):\n",
    "    if i == 1:\n",
    "        print(\"* \" * (2*n-1))\n",
    "    else:\n",
    "        pattern = \"* \" * (n-i+1)\n",
    "        spaces = \" \" * (i-2) \n",
    "        first = spaces+pattern\n",
    "        pattern1 = \"* \" * (n-i+1)\n",
    "        spaces1 = \"  \" * (i-2)\n",
    "        second = spaces1+pattern1\n",
    "        print(first+second)\n"
   ]
  },
  {
   "cell_type": "code",
   "execution_count": 6,
   "metadata": {},
   "outputs": [
    {
     "name": "stdout",
     "output_type": "stream",
     "text": [
      "* * * * \n",
      "* 0 0 * \n",
      "* 0 0 * \n",
      "* * * * \n"
     ]
    }
   ],
   "source": [
    "#Given a number N ,write a program to print a Square of N rows using (*) in he borders and zeros(0) inside the square.\n",
    "n = int(input())\n",
    "for i in range(n):\n",
    "    if i == 0  or i == n-1:\n",
    "        res = \"* \" * n \n",
    "    else:\n",
    "        res = \"* \"+ \"0 \" * (n-2) + \"* \" \n",
    "    print(res)  "
   ]
  },
  {
   "cell_type": "code",
   "execution_count": 9,
   "metadata": {},
   "outputs": [
    {
     "name": "stdout",
     "output_type": "stream",
     "text": [
      "* * * * * \n",
      "* 0 0 0 * \n",
      "* 0 0 0 * \n",
      "* 0 0 0 * \n",
      "* 0 0 0 * \n",
      "* 0 0 0 * \n",
      "* * * * * \n"
     ]
    }
   ],
   "source": [
    "#Given two number M and N,write a program to print a Rectangle of M rows and N columns using (*) in he borders and zeros(0) inside the rectangle.\n",
    "m = int(input())\n",
    "n = int(input())\n",
    "for i in range(m):\n",
    "    if i == 0  or i == m-1:\n",
    "        res = \"* \" * n \n",
    "    else:\n",
    "        res = \"* \"+ \"0 \" * (n-2) + \"* \" \n",
    "    print(res)  "
   ]
  },
  {
   "cell_type": "code",
   "execution_count": 14,
   "metadata": {},
   "outputs": [
    {
     "name": "stdout",
     "output_type": "stream",
     "text": [
      ". \n",
      ". . \n",
      ". 0 .\n",
      ". 0 0 .\n",
      ". . . . . \n"
     ]
    }
   ],
   "source": [
    "#Given a Number N ,write a program to rprint a Right ansgled Triangle of N rows using dots(.) in the border and zeros(0) inside the right angled triangle.\n",
    "n = int(input())\n",
    "for i in range(1,n+1):\n",
    "    if i <= 2:\n",
    "        print(\". \" * i)\n",
    "    elif i == n:\n",
    "        print(\". \"*n)\n",
    "    else:\n",
    "        print(\". \" + \"0 \" * (i-2)+ \".\")"
   ]
  },
  {
   "cell_type": "code",
   "execution_count": 15,
   "metadata": {},
   "outputs": [
    {
     "name": "stdout",
     "output_type": "stream",
     "text": [
      "* * * * \n",
      "*     *\n",
      "*     *\n",
      "* * * * \n"
     ]
    }
   ],
   "source": [
    "#Given a number n,write a program to print a Sqaure of N rows using stars(*)\n",
    "n = int(input())\n",
    "for i in range(n):\n",
    "    if i == 0 or i == n-1:\n",
    "        print(\"* \" * n)\n",
    "    else:\n",
    "        spaces = \"  \" * (n-2)\n",
    "        print(\"* \"+spaces+\"*\")"
   ]
  },
  {
   "cell_type": "code",
   "execution_count": 21,
   "metadata": {},
   "outputs": [
    {
     "name": "stdout",
     "output_type": "stream",
     "text": [
      "* * * * * * \n",
      "*         *\n",
      "*         *\n",
      "* * * * * * \n"
     ]
    }
   ],
   "source": [
    "#Given two number m and n,write a program to print a Rectangle of M rows and N columns using stars(*)\n",
    "rows = int(input())\n",
    "column = int(input())\n",
    "for i in range(rows):\n",
    "    if i == 0 or i == rows-1:\n",
    "        print(\"* \" * column)\n",
    "    else:\n",
    "        spaces = \"  \" * (column-2)\n",
    "        print(\"* \"+spaces+\"*\")"
   ]
  },
  {
   "cell_type": "code",
   "execution_count": 29,
   "metadata": {},
   "outputs": [
    {
     "name": "stdout",
     "output_type": "stream",
     "text": [
      "* \n",
      "* * \n",
      "*   * \n",
      "*     * \n",
      "* * * * * \n"
     ]
    }
   ],
   "source": [
    "#Given a number n,write a progam to print a Right Angled Triangle of N rows using stars(*)\n",
    "n = int(input())\n",
    "for i in range(1,n+1):\n",
    "    if i <=2:\n",
    "        print(\"* \" * i)\n",
    "    elif i == n:\n",
    "        print(\"* \" * n)\n",
    "    else:\n",
    "        spaces = \"  \" * (i-2)\n",
    "        print(\"* \" + spaces + \"* \")"
   ]
  },
  {
   "cell_type": "code",
   "execution_count": 39,
   "metadata": {},
   "outputs": [
    {
     "name": "stdout",
     "output_type": "stream",
     "text": [
      "______\n",
      "|    /\n",
      "|   /\n",
      "|  /\n",
      "| /\n",
      "|/\n"
     ]
    }
   ],
   "source": [
    "#Given a number N,write a program to print a Right angled Traingle of N rows using underscoe (_) pipe (|) and forward slash(/)\n",
    "n = int(input())\n",
    "for i in range(0,n+1):\n",
    "    if i == 0:\n",
    "        print(\"_\"*(n+1))\n",
    "    else:\n",
    "        spaces = \" \" * (N-i)\n",
    "        print(\"|\"+spaces+\"/\") "
   ]
  },
  {
   "cell_type": "code",
   "execution_count": 23,
   "metadata": {},
   "outputs": [
    {
     "name": "stdout",
     "output_type": "stream",
     "text": [
      "    * \n",
      "   * * \n",
      "  *   * \n",
      " *     * \n",
      "* * * * * \n"
     ]
    }
   ],
   "source": [
    "#Given a number N,write a program to print a hollow pyramid of N rows suing stars(*)\n",
    "N = int(input())\n",
    "for i in range(1,N+1):\n",
    "    if i <=2:\n",
    "        spaces = \" \" * (N-i)\n",
    "        stars = \"* \" * i \n",
    "        res = spaces+stars\n",
    "    elif(i < N):\n",
    "        spaces = \" \" * (N-i)\n",
    "        hollow_spaces = 2 * (i-2)\n",
    "        stars = \"* \"\n",
    "        res = spaces + stars + \" \" * hollow_spaces + stars \n",
    "    else:\n",
    "        res = \"* \" * N\n",
    "    print(res)\n",
    "\n"
   ]
  },
  {
   "cell_type": "code",
   "execution_count": 38,
   "metadata": {},
   "outputs": [
    {
     "name": "stdout",
     "output_type": "stream",
     "text": [
      "# # # # # # \n",
      "+       + \n",
      "+     + \n",
      "+   + \n",
      "+ + \n",
      "+ \n"
     ]
    }
   ],
   "source": [
    "#Given a number N,write a program to print a Hollow Right Angled Triangle of N rows using pluses(+) and hashes(#)\n",
    "#The first line contains (#) and next n -1 lines containes pluses(+)\n",
    "n = int(input())\n",
    "for i in range(1,n+1):\n",
    "    if i == 1:\n",
    "        print(\"# \" * n )\n",
    "    elif (i < n):\n",
    "        spaces = \"  \" * (n-i-1)\n",
    "        plus = \"+ \"\n",
    "        res = plus + spaces + plus\n",
    "        print(res) \n",
    "    else:\n",
    "        print(\"+ \")"
   ]
  },
  {
   "cell_type": "code",
   "execution_count": 53,
   "metadata": {},
   "outputs": [
    {
     "name": "stdout",
     "output_type": "stream",
     "text": [
      "1 \n",
      "2 2 \n",
      "3   3 \n",
      "4     4 \n",
      "3   3 \n",
      "2 2 \n",
      "1\n"
     ]
    }
   ],
   "source": [
    "#Given a number N,write a program to print a Hollow Pyramid of 2*N-1 rows using numbers\n",
    "n = int(input())\n",
    "for i in range(1,n+1):\n",
    "    if i <=2:\n",
    "        res = str(i) + \" \"\n",
    "        print(res*i)\n",
    "    elif i <= n:\n",
    "        res = str(i) + \" \"\n",
    "        spaces = \" \" * 2 * (i-2)\n",
    "        print(res+spaces+res)\n",
    "for j in range(1,n):\n",
    "    if j< n-1:\n",
    "        spaces = \"  \" * (n-j-2)\n",
    "        res = str(n-j) + \" \"\n",
    "        print(res+spaces+res)\n",
    "    else:\n",
    "        print(\"1\")"
   ]
  },
  {
   "cell_type": "code",
   "execution_count": 68,
   "metadata": {},
   "outputs": [
    {
     "name": "stdout",
     "output_type": "stream",
     "text": [
      "* * * * * \n",
      "*     * \n",
      "*   * \n",
      "* * \n",
      "*\n"
     ]
    }
   ],
   "source": [
    "#Given a number N ,write a program to print the Hollow Right Angled Traingle of N rows using stars(*)\n",
    "n = int(input())\n",
    "for i in range(1,n+1):\n",
    "    if i == 1:\n",
    "        print(\"* \" * n)\n",
    "    elif(i<n):\n",
    "        stars = \"* \"\n",
    "        spaces = \"  \" * (n-i-1)\n",
    "        print(stars+spaces+stars)\n",
    "    else:\n",
    "        print(\"*\")\n"
   ]
  },
  {
   "cell_type": "code",
   "execution_count": 72,
   "metadata": {},
   "outputs": [
    {
     "name": "stdout",
     "output_type": "stream",
     "text": [
      "        * \n",
      "      * * \n",
      "    *   * \n",
      "  *     * \n",
      "* * * * * \n"
     ]
    }
   ],
   "source": [
    "#Given an number N,write a program to print the hollow Right Angled Triangle of N rows using stars(*)\n",
    "n = int(input()) \n",
    "for i in range(1,n+1):\n",
    "    if i <= 2:\n",
    "        spaces = \"  \" * (n-i)\n",
    "        stars = \"* \" * i \n",
    "        print(spaces+stars)\n",
    "    elif(i<n):\n",
    "        stars = \"* \"\n",
    "        spaces = \"  \" * (n-i)\n",
    "        hollow_spaces = \"  \" *(i-2)\n",
    "        print(spaces+stars+hollow_spaces+stars)\n",
    "    else:\n",
    "        print(\"* \" * n) "
   ]
  },
  {
   "cell_type": "code",
   "execution_count": 77,
   "metadata": {},
   "outputs": [
    {
     "name": "stdout",
     "output_type": "stream",
     "text": [
      "* * * * * * \n",
      "  *       * \n",
      "    *     * \n",
      "      *   * \n",
      "        * * \n",
      "          *\n"
     ]
    }
   ],
   "source": [
    "#Given a number N,write a program to print the Hollow Inveted Right Angled Triangle of N rows uisng stars(*)\n",
    "n = int(input())\n",
    "for i in range(1,n+1):\n",
    "    if i == 1:\n",
    "        print(\"* \" * n)\n",
    "    elif(i<n):\n",
    "        stars = \"* \"\n",
    "        spaces = \"  \" * (i-1)\n",
    "        hollow_spaces = \"  \" * (n-i-1)\n",
    "        print(spaces+stars+hollow_spaces+stars)\n",
    "    else:\n",
    "        spaces = \"  \" * (n-1)\n",
    "        print(spaces+ \"*\")"
   ]
  },
  {
   "cell_type": "code",
   "execution_count": 96,
   "metadata": {},
   "outputs": [
    {
     "name": "stdout",
     "output_type": "stream",
     "text": [
      "* * * * * \n",
      " *     *\n",
      "  *   *\n",
      "   * *\n",
      "    * \n"
     ]
    }
   ],
   "source": [
    "#Given an number N,write a program to print the Hollow Inveted Full Pyramid of N rows using stars(*)\n",
    "n = int(input())\n",
    "for i in range(1,n+1):\n",
    "    if i == 1:\n",
    "        row = \"* \" * n\n",
    "    elif(i==n):\n",
    "        spaces = \" \" * (n-1)\n",
    "        row = spaces+\"* \"\n",
    "    else:\n",
    "        spaces = \" \" * (i-1)\n",
    "        hollow_spaces = \" \" * (2*(n-i)-1)\n",
    "        row = spaces+\"*\"+hollow_spaces+\"*\"\n",
    "    print(row)"
   ]
  },
  {
   "cell_type": "code",
   "execution_count": 12,
   "metadata": {},
   "outputs": [
    {
     "name": "stdout",
     "output_type": "stream",
     "text": [
      "   * \n",
      "  * *\n",
      " *   *\n",
      "*     *\n",
      "*     *\n",
      " *   *\n",
      "  * *\n",
      "   *\n"
     ]
    }
   ],
   "source": [
    "#Given a number N,write a program to print the Hollwo Diamond of 2 *N-1 rows using stars(*)\n",
    "n = int(input())\n",
    "for i in range(1,n+1):\n",
    "    if i == 1:\n",
    "        spaces = \" \" * (n-1)\n",
    "        stars = \"* \" * i\n",
    "        print(spaces+stars)\n",
    "    else:\n",
    "        spaces = \" \" * (n-i)\n",
    "        hollow_spaces = \" \" * 2*(i-2)\n",
    "        print(spaces+\"* \"+hollow_spaces+\"*\")\n",
    "for i in range(1,n+1):\n",
    "    if i == n:\n",
    "        spaces = \" \" * (n-1)\n",
    "        print(spaces+\"*\")\n",
    "    else:\n",
    "        spaces = \" \" * (i-1)\n",
    "        hollow_spaces = \" \" * (2*(n-i)-1)\n",
    "        print(spaces+\"*\"+hollow_spaces+\"*\")"
   ]
  },
  {
   "cell_type": "code",
   "execution_count": 58,
   "metadata": {},
   "outputs": [
    {
     "name": "stdout",
     "output_type": "stream",
     "text": [
      "            1 \n",
      "          2 2 \n",
      "        3   3 \n",
      "      4     4 \n",
      "    5       5 \n",
      "  6         6 \n",
      "7           7 \n",
      "  6         6 \n",
      "    5       5 \n",
      "      4     4 \n",
      "        3   3 \n",
      "          2 2 \n",
      "            1\n"
     ]
    }
   ],
   "source": [
    "#Given an number N,write a program to print an Inverted Hollow pyramid of 2*N-1 rows using numbers\n",
    "n = int(input())\n",
    "for i in range(1,n+1):\n",
    "    if(i<=2):\n",
    "        spaces = \"  \" * (n-i)\n",
    "        pattern = str(i) + \" \"\n",
    "        print(spaces+pattern*i)\n",
    "    else:\n",
    "        spaces = \"  \" * (n-i)\n",
    "        hollow_spaces = \"  \" * (i-2)\n",
    "        pattern = str(i) + \" \"\n",
    "        print(spaces+ pattern + hollow_spaces + pattern)  \n",
    "for i in range(1,n):\n",
    "    if i == n-1:\n",
    "        spaces = \"  \" * (n-1)\n",
    "        print(spaces+str(1))\n",
    "    else:\n",
    "        spaces = \"  \" * i \n",
    "        pattern = str(n-i) + \" \"\n",
    "        hollow_spaces = \"  \" * (n-i-2)\n",
    "        print(spaces+pattern+hollow_spaces+pattern)"
   ]
  },
  {
   "cell_type": "code",
   "execution_count": 132,
   "metadata": {},
   "outputs": [
    {
     "name": "stdout",
     "output_type": "stream",
     "text": [
      "*                     *\n",
      "* *                 * *\n",
      "*   *             *   *\n",
      "*     *         *     *\n",
      "*       *     *       *\n",
      "* * * * * * * * * * * * \n"
     ]
    }
   ],
   "source": [
    "#Given a number,write a program to print two Right Angled traingle of n rows using stars(*)\n",
    "n = int(input())\n",
    "for i in range(1,n+1):\n",
    "    if i == 1:\n",
    "        spaces = \"  \" * 2*(n-i)\n",
    "        print(\"* \"+spaces+\"*\")\n",
    "    elif(i==n):\n",
    "        print(\"* \" * 2*(n))\n",
    "    else:\n",
    "        spaces = \"  \" * 2*(n-i)\n",
    "        hollow_spaces = \"  \" *(i-2)\n",
    "        right = \"* \" + hollow_spaces + \"*\"\n",
    "        left = \" *\"+hollow_spaces + \" *\"\n",
    "        print(right+spaces+left) "
   ]
  },
  {
   "cell_type": "code",
   "execution_count": 5,
   "metadata": {},
   "outputs": [
    {
     "name": "stdout",
     "output_type": "stream",
     "text": [
      "*             *\n",
      "* *         * * \n",
      "*   *     *   * \n",
      "*     * *     * \n",
      "*     * *     * \n",
      "*   *     *   * \n",
      "* *         * * \n",
      "*             * \n"
     ]
    }
   ],
   "source": [
    "#Given an number N,write a program to print Hollow Butterfly of 2*N rows using stars(*)\n",
    "N = int(input())\n",
    "for i in range(1,N+1):\n",
    "    hollow_spaces = 2*i-4\n",
    "    right_spaces = 4*(N-i)\n",
    "    if i == 1:\n",
    "        row = \"* \"* i+\" \" * right_spaces+ \"*\"\n",
    "    else:\n",
    "        row = \"* \" + \" \"*hollow_spaces+\"* \"+\" \" * right_spaces+\"* \" + \" \"*hollow_spaces+\"* \"\n",
    "    print(row)\n",
    "for i in range(1,N+1):\n",
    "    right_spaces = 4*i-4\n",
    "    hollow_spaces = 2*(N-i)-2\n",
    "    if i == N:\n",
    "        row = \"* \"+\" \"*right_spaces+\"* \"\n",
    "    else:\n",
    "        row = \"* \" + \" \"*hollow_spaces+\"* \" + \" \"*right_spaces+\"* \" + \" \"*hollow_spaces+\"* \"\n",
    "    print(row) \n"
   ]
  },
  {
   "cell_type": "code",
   "execution_count": 194,
   "metadata": {},
   "outputs": [
    {
     "name": "stdout",
     "output_type": "stream",
     "text": [
      "92\n"
     ]
    }
   ],
   "source": [
    "#You are given two numbers A and B where 1<=A<=B,write a program to find the number of perfect squares in the range a to B(including A and B)\n",
    "A = int(input())\n",
    "B = int(input())\n",
    "count = 0\n",
    "for i in range(A,B+1):\n",
    "    if(i**0.5 == int(i**0.5)):\n",
    "        count += 1\n",
    "print(count)\n",
    "    \n"
   ]
  },
  {
   "cell_type": "code",
   "execution_count": 192,
   "metadata": {},
   "outputs": [
    {
     "name": "stdout",
     "output_type": "stream",
     "text": [
      "1 * 1 = 1\n",
      "2 * 2 = 4\n",
      "3 * 3 = 9\n",
      "4 * 4 = 16\n",
      "5 * 5 = 25\n",
      "6 * 6 = 36\n",
      "7 * 7 = 49\n",
      "8 * 8 = 64\n",
      "9 * 9 = 81\n",
      "10 * 10 = 100\n",
      "11 * 11 = 121\n",
      "12 * 12 = 144\n",
      "13 * 13 = 169\n",
      "14 * 14 = 196\n",
      "15 * 15 = 225\n",
      "16 * 16 = 256\n",
      "17 * 17 = 289\n",
      "18 * 18 = 324\n",
      "19 * 19 = 361\n",
      "20 * 20 = 400\n"
     ]
    }
   ],
   "source": [
    "for i in range(1,21):\n",
    "    res = i * i \n",
    "    print(f\"{i} * {i} = {res}\")"
   ]
  },
  {
   "cell_type": "code",
   "execution_count": 39,
   "metadata": {},
   "outputs": [
    {
     "name": "stdout",
     "output_type": "stream",
     "text": [
      "   * \n",
      "  * * \n",
      " * * * \n",
      "* * * * \n",
      " *   *\n",
      "  * *\n",
      "   *\n"
     ]
    }
   ],
   "source": [
    "#Given an number N,write a program to print a Pyramid and an Inverted Hollow Pyramid in 2*N-1 rows uing stars(*)\n",
    "n = int(input())\n",
    "for i in range(1,n+1):\n",
    "    spaces = \" \" * (n-i)\n",
    "    stars = \"* \" * i \n",
    "    print(spaces+stars)\n",
    "for i in range(1,n):\n",
    "    if i < n-1:\n",
    "        spaces = \" \" * i \n",
    "        hollow_spaces = \" \" * 2*(n-i-2) \n",
    "        print(spaces+\"* \"+hollow_spaces+\"*\")\n",
    "    else:\n",
    "        spaces = \" \" *(n-1)\n",
    "        print(spaces+\"*\") "
   ]
  },
  {
   "cell_type": "code",
   "execution_count": 41,
   "metadata": {},
   "outputs": [
    {
     "name": "stdout",
     "output_type": "stream",
     "text": [
      "      * \n",
      "    * * \n",
      "  * * * \n",
      "* * * * \n"
     ]
    }
   ],
   "source": [
    "#Give an integer number N as input:Write a program to print the right-angled traingular pattern of n lines as shon below \n",
    "n = int(input())\n",
    "for i in range(1,n+1):\n",
    "    spaces = \"  \" * (n-i)\n",
    "    print(spaces+\"* \"*i)"
   ]
  },
  {
   "cell_type": "code",
   "execution_count": 43,
   "metadata": {},
   "outputs": [
    {
     "name": "stdout",
     "output_type": "stream",
     "text": [
      "car"
     ]
    }
   ],
   "source": [
    "#Given a string,write a program to print only alphabets in hte given string.\n",
    "word = input()\n",
    "for i in word:\n",
    "    if 'a'<=i<'z':\n",
    "        print(i,end=\"\") "
   ]
  },
  {
   "cell_type": "code",
   "execution_count": null,
   "metadata": {},
   "outputs": [],
   "source": [
    "#Given a string,write a program that checks if all the characters in the string are digits\n",
    "# string = input()\n",
    "# res = True\n",
    "# for i in string:\n",
    "#     if not i.isdigit():\n",
    "#         res = False\n",
    "#         break\n",
    "# print(res)\n",
    "a= input()\n",
    "print(a.isdigit())"
   ]
  },
  {
   "cell_type": "code",
   "execution_count": 44,
   "metadata": {},
   "outputs": [
    {
     "name": "stdout",
     "output_type": "stream",
     "text": [
      "practice\n"
     ]
    }
   ],
   "source": [
    "#Given a string S,write a program that print the modified string by removing the leading and trailing sapces from the string S\n",
    "S = input().strip()\n",
    "res = \"\"\n",
    "for i in S:\n",
    "    if 'A'<=i<='Z' or 'a'<=i<='z': \n",
    "        res += i\n",
    "    else:\n",
    "        res += \" \" \n",
    "print(res)\n",
    "        "
   ]
  },
  {
   "cell_type": "code",
   "execution_count": 4,
   "metadata": {},
   "outputs": [
    {
     "name": "stdout",
     "output_type": "stream",
     "text": [
      "python\n"
     ]
    }
   ],
   "source": [
    "#Given a strignS ,write a program that prints the modified string by removing the leading and trailing stars(*) form the string s.\n",
    "# s = input()\n",
    "# for i in s:\n",
    "#     print(i.strip(\"*\"),end=\"\")\n",
    "s = input()\n",
    "stripped_String = s.strip(\"*\")\n",
    "print(stripped_String)"
   ]
  },
  {
   "cell_type": "code",
   "execution_count": 6,
   "metadata": {},
   "outputs": [
    {
     "name": "stdout",
     "output_type": "stream",
     "text": [
      "vamshi\n"
     ]
    }
   ],
   "source": [
    "#Given a string,write a program to print the string by converting all the characters in the string to lowercase\n",
    "# word = input()\n",
    "# res = word.lower()\n",
    "# print(res)\n",
    "word = input()\n",
    "res = \"\"\n",
    "for i in word:\n",
    "    if 'A'<=i<='Z':\n",
    "        res += chr(ord(i)+32)\n",
    "    else:\n",
    "        res += word[i]\n",
    "print(res)"
   ]
  },
  {
   "cell_type": "code",
   "execution_count": 8,
   "metadata": {},
   "outputs": [
    {
     "name": "stdout",
     "output_type": "stream",
     "text": [
      "VAMSHI\n"
     ]
    }
   ],
   "source": [
    "#Given a string,write a program to print the string by converting all the characters in the string to Uppercase\n",
    "# word = input()\n",
    "# res = word.upper()\n",
    "# print(res)\n",
    "word = input()\n",
    "res = \"\"\n",
    "for i in word:\n",
    "    if 'a'<=i<='z':\n",
    "        res += chr(ord(i)-32)\n",
    "    else:\n",
    "        res += word[i]\n",
    "print(res)"
   ]
  },
  {
   "cell_type": "code",
   "execution_count": 11,
   "metadata": {},
   "outputs": [
    {
     "name": "stdout",
     "output_type": "stream",
     "text": [
      "1/2/2000\n"
     ]
    }
   ],
   "source": [
    "#Given a string in the dataformat dd=mm-yy s,write a program to convert the string from dd-mm-yy format to dd/yy/yy fromat.\n",
    "# date = input()\n",
    "# date1 = date.replace('-','/')\n",
    "# print(date1)\n",
    "date = input()\n",
    "date1 = \"\"\n",
    "for i in date:\n",
    "    if i == '-':\n",
    "        date1 += '/'\n",
    "    else:\n",
    "        date1 += i\n",
    "print(date1)\n"
   ]
  },
  {
   "cell_type": "code",
   "execution_count": 26,
   "metadata": {},
   "outputs": [
    {
     "name": "stdout",
     "output_type": "stream",
     "text": [
      "vamshi\n",
      "VAMSHI\n"
     ]
    }
   ],
   "source": [
    "#Given a string s,write a program that prints the given string after converting all the characters to lower casr and uppercase\n",
    "# word = input()\n",
    "# print(word.lower())\n",
    "# print(word.upper())\n",
    "word = input()\n",
    "upper = \"\"\n",
    "lower = \"\"\n",
    "for i in word:\n",
    "    if 'A'<=i<='Z':\n",
    "        lower += chr(ord(i)+32)\n",
    "    else:\n",
    "        lower += i\n",
    "print(lower)\n",
    "\n",
    "for i in word:\n",
    "    if 'a'<=i<='z':\n",
    "        upper += chr(ord(i)-32)\n",
    "    else:\n",
    "        upper += i  \n",
    "\n",
    "print(upper)  \n"
   ]
  },
  {
   "cell_type": "code",
   "execution_count": 28,
   "metadata": {},
   "outputs": [
    {
     "name": "stdout",
     "output_type": "stream",
     "text": [
      "STAE\n"
     ]
    }
   ],
   "source": [
    "#Given a string,write a program that prints all the uppercase letters of the given string.\n",
    "word = input()\n",
    "res = \"\"\n",
    "for i in word:\n",
    "    if 'A'<=i<='Z':\n",
    "        res += i \n",
    "print(res)\n"
   ]
  },
  {
   "cell_type": "code",
   "execution_count": 29,
   "metadata": {},
   "outputs": [
    {
     "name": "stdout",
     "output_type": "stream",
     "text": [
      "True\n"
     ]
    }
   ],
   "source": [
    "#Given an url,write a program that checks if the given url is srcured url print True if the given url is a secured url.other wise print Flase\n",
    "url = input()\n",
    "print(url.startswith(\"https://\"))"
   ]
  },
  {
   "cell_type": "code",
   "execution_count": 30,
   "metadata": {},
   "outputs": [
    {
     "name": "stdout",
     "output_type": "stream",
     "text": [
      "True\n"
     ]
    }
   ],
   "source": [
    "#Given a file name with file extension,write a program that checks if the given file is a python file.\n",
    "file = input()\n",
    "print(file.endswith('.py'))"
   ]
  },
  {
   "cell_type": "code",
   "execution_count": 52,
   "metadata": {},
   "outputs": [
    {
     "name": "stdout",
     "output_type": "stream",
     "text": [
      "True\n"
     ]
    }
   ],
   "source": [
    "# given a string,checks if the given string is a palindrome.\n",
    "# word = input()\n",
    "# word = word.lower()\n",
    "# res = \"\"\n",
    "# for i in word:\n",
    "#     res =  i  + res \n",
    "# if res==word:\n",
    "#     print(\"True\")\n",
    "# else:\n",
    "#     print(\"False\")\n",
    "word = input()\n",
    "word = word.lower()\n",
    "res = \"\"\n",
    "for i in range(len(word)-1,-1,-1):\n",
    "    res += word[i] \n",
    "if res==word:\n",
    "    print(\"True\")\n",
    "else:\n",
    "    print(\"False\")"
   ]
  },
  {
   "cell_type": "code",
   "execution_count": null,
   "metadata": {},
   "outputs": [],
   "source": [
    "#You are given a string,write a program to find whether the string is pallindrome or not \n",
    "# Note:Treat uppercase letter and lowercase letters as same when comparing \n",
    "word = input()\n",
    "word = word.lower()\n",
    "res = \"\"\n",
    "for i in range(len(word)-1,-1,-1):\n",
    "    res += word[i] \n",
    "if res==word:\n",
    "    print(\"True\")\n",
    "else:\n",
    "    print(\"False\")\n"
   ]
  },
  {
   "cell_type": "code",
   "execution_count": 81,
   "metadata": {},
   "outputs": [
    {
     "name": "stdout",
     "output_type": "stream",
     "text": [
      "[3, 41, 71]\n"
     ]
    }
   ],
   "source": [
    "n = [3,21,41,71]\n",
    "prime = []\n",
    "for i in n:\n",
    "    if i < 2:\n",
    "        continue\n",
    "    else:\n",
    "        for j in range(2,i):\n",
    "            if i % j == 0:\n",
    "                break\n",
    "        else:\n",
    "            prime.append(i)\n",
    "print(prime)"
   ]
  },
  {
   "cell_type": "code",
   "execution_count": 2,
   "metadata": {},
   "outputs": [
    {
     "name": "stdout",
     "output_type": "stream",
     "text": [
      "Valid Password\n"
     ]
    }
   ],
   "source": [
    "#Given a password s,check wheater if s is a vaild password. The password is vaild only if it contains at least one digit\n",
    "# Print Vaild Password if S is a vaild Password.Otherwise print Invaild Password\n",
    "S = input()\n",
    "contain_digit = False\n",
    "for i in S:\n",
    "    is_digit = i.isdigit()\n",
    "    if is_digit:\n",
    "        contain_digit = True\n",
    "if contain_digit:\n",
    "    print(\"Valid Password\")\n",
    "else:\n",
    "    print(\"Invalid Password\")\n",
    "\n",
    " "
   ]
  },
  {
   "cell_type": "code",
   "execution_count": 8,
   "metadata": {},
   "outputs": [
    {
     "name": "stdout",
     "output_type": "stream",
     "text": [
      "The Lion King\n"
     ]
    }
   ],
   "source": [
    "#Given a string,write a program to modify the string as given below.\n",
    "# Add a space before each uppercase caracter excluding the first uppercase character.\n",
    "# print the modified string\n",
    "word = input()\n",
    "res = word[0]\n",
    "for i in range(1,len(word)):\n",
    "    i = word[i]\n",
    "    upper = i.upper()\n",
    "    if i == upper:\n",
    "        res = res + \" \" + i \n",
    "    else:\n",
    "        res = res + i \n",
    "print(res)\n"
   ]
  },
  {
   "cell_type": "code",
   "execution_count": 13,
   "metadata": {},
   "outputs": [
    {
     "name": "stdout",
     "output_type": "stream",
     "text": [
      "vamshi-krishna\n"
     ]
    }
   ],
   "source": [
    "#Given a string,write a program to modify the string as given below\n",
    "#Add a hyphen (-) before each upper-case character \n",
    "#Convert upper-case charcter into lower-case character \n",
    "# print modifiedstring \n",
    "word = input()\n",
    "res = word[0]\n",
    "for i in range(1,len(word)):\n",
    "    i = word[i]\n",
    "    upper = i.upper()\n",
    "    if i == upper:\n",
    "        res = res + \"-\" + i.lower()\n",
    "    else:\n",
    "        res = res + i \n",
    "print(res)"
   ]
  },
  {
   "cell_type": "code",
   "execution_count": 16,
   "metadata": {},
   "outputs": [
    {
     "name": "stdout",
     "output_type": "stream",
     "text": [
      "Valid Password\n"
     ]
    }
   ],
   "source": [
    "#write a program toc heck wether the given passsword is valid or not.\n",
    "# Consider the password to be valid if it conatins at least i=one uppercase letter.\n",
    "password = input()\n",
    "isupper = False\n",
    "for i in password: \n",
    "    upper = i.isupper()\n",
    "    isupper = True\n",
    "if isupper:\n",
    "    print(\"Valid Password\")\n",
    "else:\n",
    "    print(\"Invalid Password\")\n",
    "    "
   ]
  },
  {
   "cell_type": "code",
   "execution_count": 17,
   "metadata": {},
   "outputs": [
    {
     "name": "stdout",
     "output_type": "stream",
     "text": [
      "Valid Password\n"
     ]
    }
   ],
   "source": [
    "#Write a program to check wheather the given password is valid or not.\n",
    "# Consider the password to be valid if it contain at least one uppercase letter,one lowercase,and one digit \n",
    "password = input()\n",
    "is_digit = False \n",
    "for i in password:\n",
    "    digit = i.isdigit()\n",
    "    is_digit = True \n",
    "\n",
    "is_all_lower = (password.lower() == password)\n",
    "is_all_upper = (password.upper() == password)\n",
    "contain_upper_and_lower = (not is_all_lower) and (not is_all_upper)\n",
    "is_valid_password = is_digit and contain_upper_and_lower \n",
    "\n",
    "if is_valid_password:\n",
    "    print(\"Valid Password\")\n",
    "else:\n",
    "    print(\"Invalid Password\")"
   ]
  },
  {
   "cell_type": "code",
   "execution_count": 19,
   "metadata": {},
   "outputs": [
    {
     "name": "stdout",
     "output_type": "stream",
     "text": [
      "vAMSHI\n"
     ]
    }
   ],
   "source": [
    "#Given a word,write a program to convert all the uppercase letters to lowercase and vice versa.\n",
    "word = input()\n",
    "string = \"\"\n",
    "for i in word:\n",
    "    upper_case = i.upper()\n",
    "    if i == upper_case:\n",
    "        string = string + i.lower() \n",
    "    else:\n",
    "        string = string + i.upper() \n",
    "print(string)\n"
   ]
  },
  {
   "cell_type": "code",
   "execution_count": 24,
   "metadata": {},
   "outputs": [
    {
     "name": "stdout",
     "output_type": "stream",
     "text": [
      "Palindrome\n"
     ]
    }
   ],
   "source": [
    "#Given a string,write a program that checks if the given string is a palindrome.\n",
    "# Print Palindrome if the given string is a palinddrome.Otherwise print Not a Palindrome.\n",
    "word = input()\n",
    "word = word.lower()\n",
    "res = \"\" \n",
    "for i in word:\n",
    "    res = i + res \n",
    "\n",
    "if res == word:\n",
    "    print(\"Palindrome\")\n",
    "else:\n",
    "    print(\"Not a Palindrome\")"
   ]
  },
  {
   "cell_type": "code",
   "execution_count": 35,
   "metadata": {},
   "outputs": [
    {
     "name": "stdout",
     "output_type": "stream",
     "text": [
      "True\n"
     ]
    }
   ],
   "source": [
    "#You are given a string,write a program to find whather the String is palindrome or not.\n",
    "# Note:Treat Uppercase letters and lowercase letters as same when comparing letters.Ignore spaces and quotes within the string.\n",
    "word = input()\n",
    "word = word.replace(\" \",\"\")\n",
    "word = word.replace(\"'\",\"\") \n",
    "word = word.lower()\n",
    "res = \"\"\n",
    "for i in word:\n",
    "    res = i + res \n",
    "if res == word:\n",
    "    print(\"True\")\n",
    "else:\n",
    "    print(\"False\")\n",
    "    "
   ]
  },
  {
   "cell_type": "code",
   "execution_count": 37,
   "metadata": {},
   "outputs": [
    {
     "name": "stdout",
     "output_type": "stream",
     "text": [
      "Hll Wrd\n"
     ]
    }
   ],
   "source": [
    "#Given a sentence s.write a program to removes all the vowels in the given sentence.\n",
    "n = input()\n",
    "res = \"\"\n",
    "for i in n:\n",
    "    if i in \"AEIOUaeiou\":\n",
    "        continue\n",
    "    else:\n",
    "        res += i \n",
    "print(res)\n"
   ]
  },
  {
   "cell_type": "code",
   "execution_count": 39,
   "metadata": {},
   "outputs": [
    {
     "name": "stdout",
     "output_type": "stream",
     "text": [
      "False\n"
     ]
    }
   ],
   "source": [
    "#Given two string s1 and s2,write a program that checks if the s2 is at the beginning or ending of s1 \n",
    "word = input()\n",
    "sub = input()\n",
    "is_start = word.startswith(sub)\n",
    "is_end = word.endswith(sub)\n",
    "if is_start or is_end:\n",
    "    print(\"True\")\n",
    "else:\n",
    "    print(\"False\")"
   ]
  },
  {
   "cell_type": "code",
   "execution_count": 43,
   "metadata": {},
   "outputs": [
    {
     "name": "stdout",
     "output_type": "stream",
     "text": [
      "Special Character\n"
     ]
    }
   ],
   "source": [
    "#Given a character C,write a program to check if the C is a lowercase Letter or Uppercase Letter or Digit or a Special Character.\n",
    "ch = input()\n",
    "if 'A'<=ch<='Z':\n",
    "    print('Uppercase Letter')\n",
    "elif 'a'<=ch<='z':\n",
    "    print('Lowercase Letter')\n",
    "elif '0'<=ch<='9':\n",
    "    print('Digit')\n",
    "else:\n",
    "    print(\"Special Character\")\n"
   ]
  },
  {
   "cell_type": "code",
   "execution_count": 2,
   "metadata": {},
   "outputs": [
    {
     "name": "stdout",
     "output_type": "stream",
     "text": [
      "s e v e e "
     ]
    }
   ],
   "source": [
    "#Given a string N,indices,where N is the length of the string.Write a program to print the character of the string present at each index of the given N indices\n",
    "word = input()\n",
    "for i in range(len(word)):\n",
    "    n = int(input())\n",
    "    print(word[n])"
   ]
  },
  {
   "cell_type": "code",
   "execution_count": 8,
   "metadata": {},
   "outputs": [
    {
     "name": "stdout",
     "output_type": "stream",
     "text": [
      "V\n",
      "Va\n",
      "Vam\n",
      "Vams\n",
      "Vamsh\n",
      "Vamshi\n"
     ]
    }
   ],
   "source": [
    "#Given a word,write a program that prints the letter of the word on N lines as shown in the sample output,where N is the length of the word.\n",
    "n = input()\n",
    "for i in range(1,len(n)+1):\n",
    "    print(n[:i])"
   ]
  },
  {
   "cell_type": "code",
   "execution_count": 10,
   "metadata": {},
   "outputs": [
    {
     "name": "stdout",
     "output_type": "stream",
     "text": [
      "0 0 0 0 \n",
      "1 1 1 1 \n",
      "2 2 2 2 \n",
      "3 3 3 3 \n"
     ]
    }
   ],
   "source": [
    "# Given a number N,write a program to print a Square if n rows and N columns using numbers staring from 0 \n",
    "n = int(input())\n",
    "for i in range(n):\n",
    "    pattern = str(i) + \" \"\n",
    "    print(pattern * n)"
   ]
  },
  {
   "cell_type": "code",
   "execution_count": 13,
   "metadata": {},
   "outputs": [
    {
     "name": "stdout",
     "output_type": "stream",
     "text": [
      "coding"
     ]
    }
   ],
   "source": [
    "#Given a string and N indices,where N is the length of the string.Write a program to print the string after shuffling the characters in the order of the N indices\n",
    "word = input() \n",
    "for i in range(1,len(word)+1):\n",
    "    n = int(input())\n",
    "    print(word[n],end=\"\")"
   ]
  },
  {
   "cell_type": "code",
   "execution_count": 22,
   "metadata": {},
   "outputs": [
    {
     "name": "stdout",
     "output_type": "stream",
     "text": [
      "3 4 5 6 \n",
      "3 4 5 6 \n",
      "3 4 5 6 \n",
      "3 4 5 6 \n"
     ]
    }
   ],
   "source": [
    "#Given a starting number S and a number N,write a program that prints a Square of N rows and N columns using numbers starting from S.\n",
    "s = int(input())\n",
    "n = int(input())\n",
    "pattern = \"\"\n",
    "for i in range(s,s+n):\n",
    "    pattern = pattern + str(i) + \" \"\n",
    "for j in range(n):\n",
    "    print(pattern)"
   ]
  },
  {
   "cell_type": "code",
   "execution_count": 23,
   "metadata": {},
   "outputs": [
    {
     "name": "stdout",
     "output_type": "stream",
     "text": [
      "Count of zeros is greater than three\n"
     ]
    }
   ],
   "source": [
    "#Given a number N,write a program to find the count odf 0's in N.pattern\n",
    "# Print count of zeros is not greater than three if there are more than three 0's in the given number\n",
    "# Otherwise print Count of zeros is not greater than three.\n",
    "n = int(input())\n",
    "str_n = str(n)\n",
    "count = 0\n",
    "for i in str_n:\n",
    "    if i == \"0\":\n",
    "        count += 1 \n",
    "if count >3:\n",
    "    print(\"Count of zeros is greater than three\")\n",
    "else:\n",
    "    print(\"Count of zeros is not greater than three\")"
   ]
  },
  {
   "cell_type": "code",
   "execution_count": 25,
   "metadata": {},
   "outputs": [
    {
     "name": "stdout",
     "output_type": "stream",
     "text": [
      "Count of even digits is not greater than two\n"
     ]
    }
   ],
   "source": [
    "#Given a number N,write a program to find the count of even digit in N.\n",
    "# Print count of even digits is greater than two if there are more than two enen digits in the given number\n",
    "# Otherwise print Count of even digits is not greater than two. \n",
    "n = int(input())\n",
    "str_n = str(n)\n",
    "count = 0\n",
    "for i in str_n:\n",
    "    if int(i) % 2 == 0:\n",
    "        count += 1 \n",
    "if count >2:\n",
    "    print(\"Count of even digits is greater than two\")\n",
    "else:\n",
    "    print(\"Count of even digits is not greater than two\")\n"
   ]
  },
  {
   "cell_type": "code",
   "execution_count": 30,
   "metadata": {},
   "outputs": [
    {
     "name": "stdout",
     "output_type": "stream",
     "text": [
      "Prime Number\n"
     ]
    }
   ],
   "source": [
    "#write a program to check wheather the given number is a prime number or not\n",
    "n = int(input())\n",
    "factors = 0 \n",
    "for i in range(2,n):\n",
    "    if n % i == 0:\n",
    "        factors += 1 \n",
    "if factors == 0:\n",
    "    print(\"Prime Number\")\n",
    "else:\n",
    "    print(\"Not a Prime Number\")"
   ]
  },
  {
   "cell_type": "code",
   "execution_count": 34,
   "metadata": {},
   "outputs": [
    {
     "name": "stdout",
     "output_type": "stream",
     "text": [
      "* \n",
      "* * * \n",
      "* * * * * \n"
     ]
    }
   ],
   "source": [
    "#Given a number N,write a program to print a Right angled Triangle of N rows using stars(*)\n",
    "n = int(input())\n",
    "for i in range(1,2*n+1):\n",
    "    if i % 2 != 0:\n",
    "        print(\"* \" * i) "
   ]
  },
  {
   "cell_type": "code",
   "execution_count": 36,
   "metadata": {},
   "outputs": [
    {
     "name": "stdout",
     "output_type": "stream",
     "text": [
      "* * * * * * * \n",
      "* * * * * * \n",
      "* * * * * \n",
      "* * * * \n",
      "* * * \n",
      "* * \n",
      "* \n"
     ]
    }
   ],
   "source": [
    "#Given a number N,write a program to print a Inverted Right angled Triangle of N rows using stars(*)\n",
    "n = int(input())\n",
    "for i in range(n):\n",
    "    print(\"* \" * (n-i))"
   ]
  },
  {
   "cell_type": "code",
   "execution_count": 50,
   "metadata": {},
   "outputs": [
    {
     "name": "stdout",
     "output_type": "stream",
     "text": [
      "+ - - +\n",
      "|     |\n",
      "|     |\n",
      "+ - - +\n"
     ]
    }
   ],
   "source": [
    "# Write a program that reads a number N and prints a Hollow Square of N + 2 rows using pluses (+), hyphens (-), and pipes (|) . The first and last row contain pluses(+) and hyphens(-), and the middle rows contain pipes(|).\n",
    "n = int(input())\n",
    "for i in range(n+2):\n",
    "    if i == 0 or i == n+1:\n",
    "        print(\"+ \" + \"- \" * (n) + \"+\")\n",
    "    else:\n",
    "        hollow_spaces = \"  \" * (n)\n",
    "        print(\"| \" + hollow_spaces + \"|\")"
   ]
  },
  {
   "cell_type": "code",
   "execution_count": 7,
   "metadata": {},
   "outputs": [
    {
     "name": "stdout",
     "output_type": "stream",
     "text": [
      "tittle-case\n"
     ]
    }
   ],
   "source": [
    "# Write a program that converts a given string such that:\n",
    "\n",
    "# All uppercase characters are converted into lowercase characters.\n",
    "# A hyphen(-) should be present before each uppercase character excluding the first uppercase character.\n",
    "word = input()\n",
    "first = word[0]\n",
    "for i in range(1,len(word)):\n",
    "    i = word[i]\n",
    "    if i == i.upper():\n",
    "        first = first + \"-\" + i \n",
    "    else:\n",
    "        first = first + i \n",
    "print(first.lower())"
   ]
  },
  {
   "cell_type": "code",
   "execution_count": 13,
   "metadata": {},
   "outputs": [
    {
     "name": "stdout",
     "output_type": "stream",
     "text": [
      "1 1 1 1 1 \n",
      "2 2 2 2 2 \n",
      "3 3 3 3 3 \n",
      "4 4 4 4 4 \n",
      "5 5 5 5 5 \n"
     ]
    }
   ],
   "source": [
    "# Write a program that reads a number N and prints numbers from 1 to N in each column forming a Square pattern of N rows and N columns\n",
    "n = int(input())\n",
    "pattern = \"\"\n",
    "for i in range(1,n+1):\n",
    "    pattern = (str(i) + \" \") * n\n",
    "    print(pattern)"
   ]
  },
  {
   "cell_type": "code",
   "execution_count": 17,
   "metadata": {},
   "outputs": [
    {
     "name": "stdout",
     "output_type": "stream",
     "text": [
      "1 2 3 \n",
      "1 2 3 \n"
     ]
    }
   ],
   "source": [
    "# Write a program that reads two numbers, M and N, and prints a Rectangular pattern of M rows and N columns, where each row contains numbers from 1 to N.\n",
    "M = int(input())\n",
    "N = int(input())\n",
    "pattern = \"\"\n",
    "for i in range(1,N+1):\n",
    "    pattern += str(i) + \" \"\n",
    "for j in range(M):\n",
    "    print(pattern)\n"
   ]
  },
  {
   "cell_type": "code",
   "execution_count": 22,
   "metadata": {},
   "outputs": [
    {
     "name": "stdout",
     "output_type": "stream",
     "text": [
      "    * \n",
      "   * * \n",
      "  * * * \n",
      " * * * * \n",
      "* * * * * \n"
     ]
    }
   ],
   "source": [
    "# Write a program that reads a number N and prints a Pyramid of N rows using stars (*).\n",
    "# For example N = 4:\n",
    "n = int(input())\n",
    "for i in range(1,n+1):\n",
    "    spaces = \" \" * (n-i)\n",
    "    print(spaces+\"* \" * i)\n"
   ]
  },
  {
   "cell_type": "code",
   "execution_count": 27,
   "metadata": {},
   "outputs": [
    {
     "name": "stdout",
     "output_type": "stream",
     "text": [
      "game\n",
      "gam\n",
      "ga\n",
      "g\n"
     ]
    }
   ],
   "source": [
    "#Given a word W,write a program that prints the letter of the word N rows as an Inverted Right Angled Traingle as shown in the sample output,where n is the length of the word W.\n",
    "word = input()\n",
    "for i in range(len(word)):\n",
    "    print(word[:len(word)-i])"
   ]
  },
  {
   "cell_type": "code",
   "execution_count": 33,
   "metadata": {},
   "outputs": [
    {
     "name": "stdout",
     "output_type": "stream",
     "text": [
      "* * * * * * * \n",
      "    * * * * * \n",
      "        * * * \n",
      "            * \n",
      "                \n"
     ]
    }
   ],
   "source": [
    "#Given a number n,write a program to print an Inverted Right triangle of N rows using stars(*)\n",
    "n = int(input())\n",
    "for i in range(n+1):\n",
    "    spaces = \"  \" * (2*i)\n",
    "    stars = \"* \" * (2*(n-i-1)+1) \n",
    "    print(spaces+stars)"
   ]
  },
  {
   "cell_type": "code",
   "execution_count": 34,
   "metadata": {},
   "outputs": [
    {
     "name": "stdout",
     "output_type": "stream",
     "text": [
      "baieg\n"
     ]
    }
   ],
   "source": [
    "#Given two strings S1 and S2 of equal length,write a program that prints a new string by appending characters from S1 and S2 alternatley.\n",
    "word = input()\n",
    "word1 = input()\n",
    "res = \"\"\n",
    "for i in range(len(word)):\n",
    "    if i %2 == 0:\n",
    "        res += word[i]\n",
    "    else:\n",
    "        res += word1[i]\n",
    "print(res)\n"
   ]
  },
  {
   "cell_type": "code",
   "execution_count": 37,
   "metadata": {},
   "outputs": [
    {
     "name": "stdout",
     "output_type": "stream",
     "text": [
      "6\n"
     ]
    }
   ],
   "source": [
    "#write a progam to find the sum of even numbers in the first N natural numbers.\n",
    "N = int(input())\n",
    "sum = 0\n",
    "for i in range(1,N+1):\n",
    "    if i %2 == 0:\n",
    "        sum += i \n",
    "print(sum)"
   ]
  },
  {
   "cell_type": "code",
   "execution_count": 38,
   "metadata": {},
   "outputs": [
    {
     "name": "stdout",
     "output_type": "stream",
     "text": [
      "25\n"
     ]
    }
   ],
   "source": [
    "#write a progam to find the sum of odd numbers in the first N natural numbers.\n",
    "N = int(input())\n",
    "sum = 0\n",
    "for i in range(1,N+1):\n",
    "    if i %2 != 0:\n",
    "        sum += i \n",
    "print(sum)"
   ]
  },
  {
   "cell_type": "code",
   "execution_count": 41,
   "metadata": {},
   "outputs": [
    {
     "name": "stdout",
     "output_type": "stream",
     "text": [
      "True\n"
     ]
    }
   ],
   "source": [
    "#Given an integer N,write a program to find the given number is composite number or not.If it is composite,print True or else False.\n",
    "n = int(input())\n",
    "factors = 0 \n",
    "for i in range(2,n):\n",
    "    if n % i == 0:\n",
    "        factors += 1 \n",
    "if factors >1:\n",
    "    print(\"True\")\n",
    "else:\n",
    "    print(\"False\")"
   ]
  },
  {
   "cell_type": "code",
   "execution_count": 48,
   "metadata": {},
   "outputs": [
    {
     "name": "stdout",
     "output_type": "stream",
     "text": [
      "+ + + + + + + \n",
      "- - - - - - - \n",
      "+ + + + + + + \n",
      "- - - - - - - \n",
      "+ + + + + + + \n"
     ]
    }
   ],
   "source": [
    "#Given an integer number M,N as input.Write a program to print a striped rectangular pattern of M rows and N columns using(+ and - )charater.\n",
    "M = int(input())\n",
    "N = int(input())\n",
    "for i in range(1,M+1):\n",
    "    if i % 2 == 0:\n",
    "        print(\"- \" * N)\n",
    "    else:\n",
    "        print(\"+ \" * N)"
   ]
  },
  {
   "cell_type": "code",
   "execution_count": 54,
   "metadata": {},
   "outputs": [
    {
     "name": "stdout",
     "output_type": "stream",
     "text": [
      "+-----+\n",
      "|     |\n",
      "|     |\n",
      "|     |\n",
      "|     |\n",
      "+-----+\n"
     ]
    }
   ],
   "source": [
    "#Given two numbers M and N,write a program to print a Hollow Rectaangle of M+2 rows and N+2 Columns using pluses(+),hypens(-)and pipes(|)\n",
    "m = int(input())\n",
    "n = int(input())\n",
    "for i in range(m+2):\n",
    "    if i == 0 or i == m+1:\n",
    "        print(\"+\"+\"-\"*n+\"+\")\n",
    "    else:\n",
    "        hollow_spaces = \" \" * n\n",
    "        print(\"|\" + hollow_spaces + \"|\")"
   ]
  }
 ],
 "metadata": {
  "kernelspec": {
   "display_name": "Python 3",
   "language": "python",
   "name": "python3"
  },
  "language_info": {
   "codemirror_mode": {
    "name": "ipython",
    "version": 3
   },
   "file_extension": ".py",
   "mimetype": "text/x-python",
   "name": "python",
   "nbconvert_exporter": "python",
   "pygments_lexer": "ipython3",
   "version": "3.12.2"
  }
 },
 "nbformat": 4,
 "nbformat_minor": 2
}
