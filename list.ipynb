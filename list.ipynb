{
 "cells": [
  {
   "cell_type": "code",
   "execution_count": 1,
   "metadata": {},
   "outputs": [
    {
     "name": "stdout",
     "output_type": "stream",
     "text": [
      "['Rose', 183, 148, 123.64, False]\n"
     ]
    }
   ],
   "source": [
    "#Write a program to print a list with the given elements \"Rose\",183,148,123.64,False\n",
    "list_a = [\"Rose\",183,148,123.64,False]\n",
    "print(list_a)"
   ]
  },
  {
   "cell_type": "code",
   "execution_count": 2,
   "metadata": {},
   "outputs": [
    {
     "name": "stdout",
     "output_type": "stream",
     "text": [
      "Green\n"
     ]
    }
   ],
   "source": [
    "# In this problem, you are given a list of colors. Your task is to write a program that prints the color at a specific index location in the list.\n",
    "color_list = [\"Red\", \"Orange\", \"Yellow\", \"Pink\", \"Green\", \"Blue\", \"Purple\", \"Black\", \"White\"]\n",
    "num = int(input())\n",
    "print(color_list[num])"
   ]
  },
  {
   "cell_type": "code",
   "execution_count": 4,
   "metadata": {},
   "outputs": [
    {
     "name": "stdout",
     "output_type": "stream",
     "text": [
      "Python\n",
      "Ruby\n",
      "Swift\n",
      "Go\n"
     ]
    }
   ],
   "source": [
    "# In this problem, you are given a list of programming languages. Your task is to read a number N representing the number of indexes, and then read N integers. For each integer, you need to print the element at that index in the list.\n",
    "programming_languages_list = [\"Python\", \"Java\", \"Ruby\", \"C\", \"C++\", \"Go\", \"R\", \"JavaScript\", \"Swift\", \"PHP\", \"Kotlin\", \"Perl\"]\n",
    "n = int(input())\n",
    "for i in range(n):\n",
    "    num = int(input())\n",
    "    print(programming_languages_list[num])"
   ]
  },
  {
   "cell_type": "code",
   "execution_count": 6,
   "metadata": {},
   "outputs": [
    {
     "name": "stdout",
     "output_type": "stream",
     "text": [
      "False\n"
     ]
    }
   ],
   "source": [
    "# In this coding question, you are given a list L with some elements. Your task is to read a string S and check if S is present in the list L. If S is present in L, print True. Otherwise, print False.\n",
    "\n",
    "# The given list L is:L = [\"5\", \"eat\", \"9.80\", \"Water\", \"python\", \"-678\", \"7685.26\", \"-2.5\", \"sing\"]\n",
    "L = [\"5\", \"eat\", \"9.80\", \"Water\", \"python\", \"-678\", \"7685.26\", \"-2.5\", \"sing\"]\n",
    "item = input()\n",
    "Found = False\n",
    "for i in L:\n",
    "    if i == item:\n",
    "        Found = True\n",
    "print(Found)\n"
   ]
  },
  {
   "cell_type": "code",
   "execution_count": 9,
   "metadata": {},
   "outputs": [
    {
     "name": "stdout",
     "output_type": "stream",
     "text": [
      "[90, 10, 20, 40, 100]\n",
      "[10, 20, 40, 100, 90]\n"
     ]
    }
   ],
   "source": [
    "# We are given a list and an integer. We need to concatenate the given number to the list, and create two new lists. In the first list, the given number should be added at the beginning, and in the second list, the given number should be added at the end.\n",
    "num_list =  [10, 20, 40, 100]\n",
    "num = int(input())\n",
    "first = [num]+num_list\n",
    "second = num_list+[num]\n",
    "print(first)\n",
    "print(second)"
   ]
  },
  {
   "cell_type": "code",
   "execution_count": 13,
   "metadata": {},
   "outputs": [
    {
     "name": "stdout",
     "output_type": "stream",
     "text": [
      "['apple', '78', '970.03', '30', 'grapes']\n"
     ]
    }
   ],
   "source": [
    "# In this coding question, you are given a list L with some items in it:\n",
    "# L = [\"apple\", \"78\", \"970.03\"]\n",
    "# You need to write a program that reads a number N and then reads N more inputs. Your task is to add these N inputs to the end of the list L and print the final list.\n",
    "L = [\"apple\", \"78\", \"970.03\"]\n",
    "n = int(input())\n",
    "for i in range(n):\n",
    "    items = input()\n",
    "    # L.append(items)\n",
    "    L += [items]\n",
    "print(L)"
   ]
  },
  {
   "cell_type": "code",
   "execution_count": 14,
   "metadata": {},
   "outputs": [
    {
     "name": "stdout",
     "output_type": "stream",
     "text": [
      "['20', 'Tiger', 'Cinema', '5.5', '93']\n"
     ]
    }
   ],
   "source": [
    "# Write a program to print a list with the given N inputs. The first line of input will contain a positive integer (N). The next following N lines will be containing the list elements. The output should be a single line containing the list created with the given inputs.\n",
    "n = int(input())\n",
    "list_a = []\n",
    "for i in range(n):\n",
    "    num = input()\n",
    "    list_a += [num]\n",
    "print(list_a)"
   ]
  },
  {
   "cell_type": "code",
   "execution_count": 15,
   "metadata": {},
   "outputs": [
    {
     "name": "stdout",
     "output_type": "stream",
     "text": [
      "[1, 2, 3, 4]\n"
     ]
    }
   ],
   "source": [
    "# You are given N numbers as input. Create a list and add the N numbers which are given as input and print the list.\n",
    "N = int(input())\n",
    "list_num = []\n",
    "for i in range(N):\n",
    "    num = int(input())\n",
    "    list_num += [num]\n",
    "print(list_num)\n"
   ]
  },
  {
   "cell_type": "code",
   "execution_count": 17,
   "metadata": {},
   "outputs": [
    {
     "name": "stdout",
     "output_type": "stream",
     "text": [
      "[1, 'two', '3', 4.0, 1, 'two', '3', 4.0, 1, 'two', '3', 4.0]\n"
     ]
    }
   ],
   "source": [
    "# given a list L containing some elements. Your task is to write a program that repeats the given list N times, where N is an input number.\n",
    "# The given list L is: L = [1, \"two\", \"3\",4.0]\n",
    "L = [1, \"two\", \"3\",4.0]\n",
    "num = int(input())\n",
    "repeat = L * num \n",
    "print(repeat)"
   ]
  },
  {
   "cell_type": "code",
   "execution_count": 18,
   "metadata": {},
   "outputs": [
    {
     "name": "stdout",
     "output_type": "stream",
     "text": [
      "[5, 5, 5, 5]\n"
     ]
    }
   ],
   "source": [
    "# Given two integers M and N, write a program to create a list with element M repeated by N times.\n",
    "# Input:\n",
    "# The first line of input will be an integer.\n",
    "# The second line of input will be a positive integer.\n",
    "N = int(input())\n",
    "repeat = int(input())\n",
    "print([N]*repeat)\n"
   ]
  },
  {
   "cell_type": "code",
   "execution_count": 19,
   "metadata": {},
   "outputs": [
    {
     "name": "stdout",
     "output_type": "stream",
     "text": [
      "['P', 'y', 't', 'h', 'o', 'n']\n"
     ]
    }
   ],
   "source": [
    "# In this coding question, you are given a string as input. Your task is to write a program that converts the string into a list containing all the characters in the given string.\n",
    "# For example, if the given string is \"Python\", the output should be ['P', 'y', 't', 'h', 'o', 'n'].\n",
    "word = input()\n",
    "print(list(word))"
   ]
  },
  {
   "cell_type": "code",
   "execution_count": 21,
   "metadata": {},
   "outputs": [
    {
     "name": "stdout",
     "output_type": "stream",
     "text": [
      "[-55, 20, 33, 45, 520, 64, 71, 852, 9999, 101010]\n"
     ]
    }
   ],
   "source": [
    "# You are given a list L with some numbers. Your task is to replace the number at a given index I with another number N and then print the modified list.\n",
    "# The given list is:\n",
    "L = [1, 20, 33, 45, 520, 64, 71, 852, 9999,101010]\n",
    "num = int(input())\n",
    "modify = int(input())\n",
    "for i in L:\n",
    "    L[num] = modify\n",
    "print(L)"
   ]
  },
  {
   "cell_type": "code",
   "execution_count": 23,
   "metadata": {},
   "outputs": [
    {
     "name": "stdout",
     "output_type": "stream",
     "text": [
      "[1, 6, 32, 93, 71, -20, 30, 50]\n"
     ]
    }
   ],
   "source": [
    "# In this problem, you are given a list of numbers. Your task is to create a new list with all the elements in the existing list that are greater than a given number. The order of elements in the new list should be the same as the order of those elements in the given list.\n",
    "num_list = [1, 6, 32, 93, 71, -20, 30, -90, 50]\n",
    "n = int(input())\n",
    "list_a = []\n",
    "for i in num_list:\n",
    "    if n < i:\n",
    "        list_a  += [i]\n",
    "print(list_a)"
   ]
  },
  {
   "cell_type": "code",
   "execution_count": 24,
   "metadata": {},
   "outputs": [
    {
     "name": "stdout",
     "output_type": "stream",
     "text": [
      "['Anjali', 'Ravi', 'Akbar', 'Suresh', 'Gopal', 'Latha', 'Mohan', 'Ashok']\n"
     ]
    }
   ],
   "source": [
    "# Write a program to read N inputs and print a list containing the first and last three inputs.\n",
    "# Input:\n",
    "# The first line of input will contain a positive integer (N).\n",
    "# The next following N lines will contain a string each in a line.\n",
    "# Output:\n",
    "# The output should be a single line containing a list with the first and last three inputs.\n",
    "n = int(input())\n",
    "list_a = []\n",
    "for i in range(n):\n",
    "    num = input()\n",
    "    list_a += [num]\n",
    "print(list_a[:3]+list_a[-3:])"
   ]
  },
  {
   "cell_type": "code",
   "execution_count": 2,
   "metadata": {},
   "outputs": [
    {
     "name": "stdout",
     "output_type": "stream",
     "text": [
      "Varalaxmi\n",
      "Anjali\n",
      "Krishna\n",
      "Vamshi\n"
     ]
    }
   ],
   "source": [
    "# Given an integer N, write a program to print the given N inputs in the reverse order.\n",
    "# Input:\n",
    "# The first line of input will contain a positive integer (N).\n",
    "# The next following N lines will contain a string each in a line.\n",
    "# Output:\n",
    "# The output should be N lines, printing the given inputs in reverse order, each in a new line.\n",
    "n = int(input())\n",
    "list_a = []\n",
    "for i in range(n):\n",
    "    num = input()\n",
    "    list_a += [num]\n",
    "for i in range(n):\n",
    "    print(list_a[n-i-1])"
   ]
  },
  {
   "cell_type": "code",
   "execution_count": 4,
   "metadata": {},
   "outputs": [
    {
     "name": "stdout",
     "output_type": "stream",
     "text": [
      "[1, 'two', 'Three', 5.09, 9, -558, 'four', -93.7, 'six']\n"
     ]
    }
   ],
   "source": [
    "# A list L is given in the prefilled code.Write a program that reads the two indices l1 and l2.\n",
    "# Replace the element in the l1 th index with the element in l2 th index\n",
    "# Replace the element on the l2 th index with the element in l2 th index\n",
    "L = [1, \"two\", 9, 5.09, \"Three\", -558,\"four\" , -93.7,\"six\"]\n",
    "l1 = int(input())\n",
    "l2 = int(input())\n",
    "first = L[l1]\n",
    "second = L[l2]\n",
    "for i in L:\n",
    "    if i == first:\n",
    "        i = L[l1] = second\n",
    "    i = L[l2] = first\n",
    "print(L)\n"
   ]
  },
  {
   "cell_type": "code",
   "execution_count": null,
   "metadata": {},
   "outputs": [],
   "source": [
    "# write a program that stores a sequence of N numbers in a list and then, based on T test cases, prints the number at a specific index for each test case. Each test case provides an index Ki, and the program needs to output the number at that index in the list.\n",
    "N = int(input())\n",
    "T = int(input())\n",
    "number = [int(input()) for i in range(n)]\n",
    "for i in range(T):\n",
    "    print(number[int(input())])"
   ]
  },
  {
   "cell_type": "code",
   "execution_count": 5,
   "metadata": {},
   "outputs": [
    {
     "name": "stdout",
     "output_type": "stream",
     "text": [
      "[1, 2, 5, 6]\n"
     ]
    }
   ],
   "source": [
    "#You are given an integer as Input.Write a program to read N integers and prints a list containing the first and last two inputs.\n",
    "N = int(input())\n",
    "list_num = []\n",
    "for i in range(N):\n",
    "    num = int(input())\n",
    "    list_num += [num]\n",
    "print(list_num[:2]+list_num[-2:])"
   ]
  },
  {
   "cell_type": "code",
   "execution_count": 7,
   "metadata": {},
   "outputs": [
    {
     "name": "stdout",
     "output_type": "stream",
     "text": [
      "[5, 35]\n"
     ]
    }
   ],
   "source": [
    "#Given a number N,write a program that reads N number and prints a list of numbers that are divisible by 5 \n",
    "N = int(input())\n",
    "list_num = []\n",
    "for i in range(N):\n",
    "    num = int(input())\n",
    "    if(num%5)==0:\n",
    "        list_num.append(num)\n",
    "print(list_num)"
   ]
  },
  {
   "cell_type": "code",
   "execution_count": 8,
   "metadata": {},
   "outputs": [
    {
     "name": "stdout",
     "output_type": "stream",
     "text": [
      "['Vamshi', 'krishna', 'is', 'a', 'Software', 'Developer']\n"
     ]
    }
   ],
   "source": [
    "# Given a sentence S. The words in the sentence S are separated by a space.\n",
    "# Write a program that prints a list containing the words in the sentence.\n",
    "S = input().split()\n",
    "print(S)"
   ]
  },
  {
   "cell_type": "code",
   "execution_count": 9,
   "metadata": {},
   "outputs": [
    {
     "name": "stdout",
     "output_type": "stream",
     "text": [
      "Banana\n",
      "Apple\n",
      "Pomegranate\n",
      "Strawberry\n",
      "Grapes\n",
      "Orange\n"
     ]
    }
   ],
   "source": [
    "# Given a list of N words, write a program to print each word in a line.\n",
    "# Input: The first line of input will contain space-separated words, denoting the elements of the list.\n",
    "# Output: The output should be N lines containing each word in a new line in the given order.\n",
    "N = input()\n",
    "split = N.split()\n",
    "for i in split:\n",
    "    print(i)"
   ]
  },
  {
   "cell_type": "code",
   "execution_count": 10,
   "metadata": {},
   "outputs": [
    {
     "name": "stdout",
     "output_type": "stream",
     "text": [
      "[10, 20, 30, 40, 50]\n"
     ]
    }
   ],
   "source": [
    "# Given space-separated numbers, write a program to print a list containing the given numbers.\n",
    "n = input().split()\n",
    "num_list = []\n",
    "for i in n:\n",
    "    num = int(i)\n",
    "    num_list += [num]\n",
    "print(num_list)"
   ]
  },
  {
   "cell_type": "code",
   "execution_count": 17,
   "metadata": {},
   "outputs": [
    {
     "name": "stdout",
     "output_type": "stream",
     "text": [
      "5\n"
     ]
    }
   ],
   "source": [
    "# Given a list of numbers, write a program to print the sum of the numbers in the list.\n",
    "# Input: The first line of input will contain space-separated integers, denoting the elements of the list.\n",
    "# Output: The output should be a single line containing the sum of the integers in the given list.\n",
    "# Example: If the given string is \"2 5 10 -15 3\", your code should print the sum of the given list elements. So the output should be 5.\n",
    "n = input().split()\n",
    "sum = 0\n",
    "for i in n:\n",
    "    num = int(i)\n",
    "    sum += num\n",
    "print(sum)\n"
   ]
  },
  {
   "cell_type": "code",
   "execution_count": 18,
   "metadata": {},
   "outputs": [
    {
     "name": "stdout",
     "output_type": "stream",
     "text": [
      "[3, 9, 18]\n"
     ]
    }
   ],
   "source": [
    "#Given space-separeted numbers,write a program to print a list containing the given numbers that are divisble by 3.\n",
    "n = input().split()\n",
    "list_a = []\n",
    "for i in n:\n",
    "    num = int(i)\n",
    "    if num % 3 == 0:\n",
    "        list_a += [num]\n",
    "print(list_a)"
   ]
  },
  {
   "cell_type": "code",
   "execution_count": 23,
   "metadata": {},
   "outputs": [
    {
     "name": "stdout",
     "output_type": "stream",
     "text": [
      "7\n"
     ]
    }
   ],
   "source": [
    "#Given space-separeted numbers,write a program to print the smallest number among the given numbers.\n",
    "n = input().split()\n",
    "list_a = []\n",
    "for i in n:\n",
    "    num = int(i)\n",
    "    list_a += [num]\n",
    "smallest = list_a[0]\n",
    "for i in list_a:\n",
    "    if i < smallest:\n",
    "        smallest = i \n",
    "print(smallest)"
   ]
  },
  {
   "cell_type": "code",
   "execution_count": 24,
   "metadata": {},
   "outputs": [
    {
     "name": "stdout",
     "output_type": "stream",
     "text": [
      "-2\n",
      "10\n"
     ]
    }
   ],
   "source": [
    "# Find the largest and smallest element in the list\n",
    "list_a = [10,-2,6,0]\n",
    "smallest = list_a[0]\n",
    "largest = list_a[0]\n",
    "for i in list_a:\n",
    "    if i < smallest:\n",
    "        smallest = i\n",
    "for i in list_a:\n",
    "    if i > largest:\n",
    "        largest = i \n",
    "print(smallest)\n",
    "print(largest)"
   ]
  },
  {
   "cell_type": "code",
   "execution_count": 26,
   "metadata": {},
   "outputs": [
    {
     "name": "stdout",
     "output_type": "stream",
     "text": [
      "Vamsh.krishna.Chandra\n"
     ]
    }
   ],
   "source": [
    "# Given a sentence S. The words in the sentence S are separated by a space.\n",
    "# Write a program that prints a string by joining the words in the sentence S with the dot(.).\n",
    "S = input().split()\n",
    "words_join = \".\".join(S)\n",
    "print(words_join)"
   ]
  },
  {
   "cell_type": "code",
   "execution_count": 27,
   "metadata": {},
   "outputs": [
    {
     "name": "stdout",
     "output_type": "stream",
     "text": [
      "10,20,30,40,50,60\n"
     ]
    }
   ],
   "source": [
    "# Given space-separated numbers, write a program that prints a string by joining the given space-separated numbers with a comma (,).\n",
    "numbers = input().split()\n",
    "numbers_join = \",\".join(numbers)\n",
    "print(numbers_join)"
   ]
  },
  {
   "cell_type": "code",
   "execution_count": 30,
   "metadata": {},
   "outputs": [
    {
     "name": "stdout",
     "output_type": "stream",
     "text": [
      "m,i\n"
     ]
    }
   ],
   "source": [
    "# Given a sentence S. The words in the sentence S are separated by a space.\n",
    "# Write a program that prints a new string by joining the third letter of each word in the sentence with the comma(,).\n",
    "words = input().split()\n",
    "res = []\n",
    "for i in words:\n",
    "    if len(i) > 2:\n",
    "        character = i[2]\n",
    "        res += [character]\n",
    "character_join = \",\".join(res)\n",
    "print(character_join)\n"
   ]
  },
  {
   "cell_type": "code",
   "execution_count": null,
   "metadata": {},
   "outputs": [],
   "source": [
    "# you are given space-separated words. Your task is to write a program to check if the first letter and last letter of each word are the same. You should consider both uppercase and lowercase letters as the same.\n",
    "words = input().lower()\n",
    "words_split = words.split()\n",
    "for i in words_split:\n",
    "    if i[0] == i[-1]:\n",
    "        print(True)\n",
    "    else:\n",
    "        print(False)"
   ]
  },
  {
   "cell_type": "code",
   "execution_count": null,
   "metadata": {},
   "outputs": [],
   "source": [
    "# given a sentence S. Your task is to write a program that prints the reverse of the sentence.\n",
    "sentence = input()\n",
    "reverse = sentence[::-1]\n",
    "print(reverse)"
   ]
  },
  {
   "cell_type": "code",
   "execution_count": null,
   "metadata": {},
   "outputs": [],
   "source": [
    "# Given a list of words, write a program to reverse the words in the list.\n",
    "# Input: The first line of input will contain space-separated words, denoting the elements of the list.\n",
    "# Output: The output should be a single line containing a list with the elements in reverse order.\n",
    "sentence = input()\n",
    "word_list = sentence.split()\n",
    "reverse = word_list[::-1]\n",
    "print(reverse)"
   ]
  },
  {
   "cell_type": "code",
   "execution_count": 35,
   "metadata": {},
   "outputs": [
    {
     "name": "stdout",
     "output_type": "stream",
     "text": [
      "ehT tac si no eht tam\n"
     ]
    }
   ],
   "source": [
    "#  given a sentence. Your task is to write a program that reverses the letters in each word of the sentence without changing the order of the words.\n",
    "sentence = input().split()\n",
    "list_a = []\n",
    "for i in sentence:\n",
    "    list_a += [i[::-1]]\n",
    "reverse = \" \".join(list_a)\n",
    "print(reverse)"
   ]
  },
  {
   "cell_type": "code",
   "execution_count": 36,
   "metadata": {},
   "outputs": [
    {
     "name": "stdout",
     "output_type": "stream",
     "text": [
      "apple orange man\n"
     ]
    }
   ],
   "source": [
    "# write a program that creates a list using space-separated words and prints the first half of the words in the list as a new list.\n",
    "# If the given number of words is an odd number, add one to it such that it becomes an even number and count half of the number of words.\n",
    "words = input()\n",
    "words_length = len(words)\n",
    "\n",
    "if words_length % 2 == 0:\n",
    "    half_list_length = words_length // 2\n",
    "else:\n",
    "    half_list_length = (words_length // 2) + 1\n",
    "\n",
    "new_list = words[:half_list_length]\n",
    "\n",
    "print(new_list)"
   ]
  },
  {
   "cell_type": "code",
   "execution_count": 37,
   "metadata": {},
   "outputs": [
    {
     "name": "stdout",
     "output_type": "stream",
     "text": [
      "[1, 3, 9, 0]\n"
     ]
    }
   ],
   "source": [
    "# Given space-separated numbers, write a program that creates a list using space-separated numbers and prints the first half of the numbers of the list as a new list.\n",
    "# If the given number of words is an odd number, add one to it such that it becomes an even number and count half of the number of words.\n",
    "numbers = input().split()\n",
    "length = len(numbers)\n",
    "for each_num_index in range(length):\n",
    "    numbers[each_num_index]=int(numbers[each_num_index])\n",
    "if length % 2 == 0:\n",
    "    half = length // 2 \n",
    "else:\n",
    "    half = (length // 2) + 1 \n",
    "new_list = numbers[:half]\n",
    "print(new_list)"
   ]
  },
  {
   "cell_type": "code",
   "execution_count": null,
   "metadata": {},
   "outputs": [],
   "source": [
    "# Given space-separated words S and a number N.Write a program that creates a list using space-separated words and prints the last N words of the list in reverse order\n",
    "words = sentence.split()\n",
    "number = int(input())\n",
    "words_list = words[-number:]\n",
    "resultant_list = words_list[::-1]\n",
    "print(resultant_list)"
   ]
  },
  {
   "cell_type": "code",
   "execution_count": 39,
   "metadata": {},
   "outputs": [
    {
     "name": "stdout",
     "output_type": "stream",
     "text": [
      "1 6\n",
      "2 5\n",
      "4 4\n"
     ]
    }
   ],
   "source": [
    "# You are given two lists of equal lengths (N). Your task is to write a program that iterates through both lists simultaneously. The first list should display the items in their original order, and the second list should display the items in reverse order.\n",
    "list_a = input().split(\",\")\n",
    "list_b = input().split(\",\")\n",
    "\n",
    "len_of_list_a = len(list_a)\n",
    "n = len_of_list_a - 1 \n",
    "\n",
    "for i in range(len_of_list_a):\n",
    "    num_1 = list_a[i]\n",
    "    num_2 = list_b[n-i]\n",
    "    res = str(num_1) + \" \" + str(num_2)\n",
    "    print(res)"
   ]
  },
  {
   "cell_type": "code",
   "execution_count": 44,
   "metadata": {},
   "outputs": [
    {
     "name": "stdout",
     "output_type": "stream",
     "text": [
      "krishna Vamshi\n"
     ]
    }
   ],
   "source": [
    "#You ar given a string S as input,write a program to print the string after reversing the words of the given sentence.\n",
    "S = input().split()\n",
    "reverse = []\n",
    "reverse = reverse + S[::-1]\n",
    "reverse_string = \" \".join(reverse)\n",
    "print(reverse_string)"
   ]
  },
  {
   "cell_type": "code",
   "execution_count": 45,
   "metadata": {},
   "outputs": [
    {
     "name": "stdout",
     "output_type": "stream",
     "text": [
      "[4, 5, 6]\n"
     ]
    }
   ],
   "source": [
    "#You are given an integer N as input.Write a program to read N inputs and prints a list containing the elements in the last half of the list.\n",
    "N = int(input())\n",
    "list_a = list(map(int,input().split()))\n",
    "length = len(list_a)\n",
    "half = int(length/2)\n",
    "print(list_a[half:])"
   ]
  },
  {
   "cell_type": "code",
   "execution_count": 46,
   "metadata": {},
   "outputs": [
    {
     "name": "stdout",
     "output_type": "stream",
     "text": [
      "720\n"
     ]
    }
   ],
   "source": [
    "# You are given a space-separated list of integes as input.Write a proram to print the product of these numbers.\n",
    "num = input().split()\n",
    "product = 1 \n",
    "for i in num:\n",
    "    product *= int(i)\n",
    "print(product)"
   ]
  },
  {
   "cell_type": "code",
   "execution_count": 50,
   "metadata": {},
   "outputs": [
    {
     "name": "stdout",
     "output_type": "stream",
     "text": [
      "4.17\n"
     ]
    }
   ],
   "source": [
    "#You are given spaces-separated integers as input.Write a program to print the average of the the given numbers.\n",
    "num = input().split()\n",
    "sum = 0 \n",
    "for i in num:\n",
    "    sum += int(i)\n",
    "avg = round(sum/len(num),2)\n",
    "print(avg)"
   ]
  },
  {
   "cell_type": "code",
   "execution_count": 51,
   "metadata": {},
   "outputs": [
    {
     "name": "stdout",
     "output_type": "stream",
     "text": [
      "9\n"
     ]
    }
   ],
   "source": [
    "#You are given spaces-separated integer as input.Write a program to print the maxium number among the given numbers.\n",
    "a = input().split()\n",
    "max = int(a[0])\n",
    "for i in range(1,len(a)):\n",
    "    if int(a[i]) > max:\n",
    "        max = int(a[i]) \n",
    "print(max)"
   ]
  },
  {
   "cell_type": "code",
   "execution_count": 54,
   "metadata": {},
   "outputs": [
    {
     "name": "stdout",
     "output_type": "stream",
     "text": [
      "I.A.S\n"
     ]
    }
   ],
   "source": [
    "#You are given some abbrebiations as input.Write a program to print the acronyms separated by a dot(.) of those abbreviations.\n",
    "abb = input().split()\n",
    "res = \"\"\n",
    "for i in abb:\n",
    "    res += i[0] + \".\"\n",
    "print(res[:-1])\n"
   ]
  }
 ],
 "metadata": {
  "kernelspec": {
   "display_name": "Python 3",
   "language": "python",
   "name": "python3"
  },
  "language_info": {
   "codemirror_mode": {
    "name": "ipython",
    "version": 3
   },
   "file_extension": ".py",
   "mimetype": "text/x-python",
   "name": "python",
   "nbconvert_exporter": "python",
   "pygments_lexer": "ipython3",
   "version": "3.12.2"
  }
 },
 "nbformat": 4,
 "nbformat_minor": 2
}
