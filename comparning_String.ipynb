{
 "cells": [
  {
   "cell_type": "code",
   "execution_count": 2,
   "metadata": {},
   "outputs": [
    {
     "name": "stdout",
     "output_type": "stream",
     "text": [
      "99\n",
      "111\n",
      "100\n",
      "101\n"
     ]
    }
   ],
   "source": [
    "# Given a string S, write a program to print the Unicode values of all the characters in S, each on a new line.\n",
    "word = input()\n",
    "for i in word:\n",
    "    print(ord(i))"
   ]
  },
  {
   "cell_type": "code",
   "execution_count": 4,
   "metadata": {},
   "outputs": [
    {
     "name": "stdout",
     "output_type": "stream",
     "text": [
      "2\n"
     ]
    }
   ],
   "source": [
    "# Given a string S and a number N, write a program to print the count of characters in S whose Unicode value is equal to the given number N.\n",
    "word = input()\n",
    "n = int(input())\n",
    "count = 0\n",
    "for i in word:\n",
    "    if ord(i) == n:\n",
    "        count += 1 \n",
    "print(count)"
   ]
  },
  {
   "cell_type": "code",
   "execution_count": 11,
   "metadata": {},
   "outputs": [
    {
     "name": "stdout",
     "output_type": "stream",
     "text": [
      "d\n"
     ]
    }
   ],
   "source": [
    "# Given a string S, write a program to print the character with the smallest Unicode value in the string S.\n",
    "word = input()\n",
    "smallest = word[0]\n",
    "for i in word:\n",
    "    if ord(i) < ord(smallest):\n",
    "        smallest = i\n",
    "print(smallest)"
   ]
  },
  {
   "cell_type": "code",
   "execution_count": 21,
   "metadata": {},
   "outputs": [
    {
     "name": "stdout",
     "output_type": "stream",
     "text": [
      "71\n",
      "82\n"
     ]
    }
   ],
   "source": [
    "# given a string S. Your task is to write a program that prints the Unicode value of the first uppercase character in the string S.\n",
    "word = input()\n",
    "for i in word:\n",
    "    if i == i.upper():\n",
    "        print(ord(i))\n",
    "        break"
   ]
  },
  {
   "cell_type": "code",
   "execution_count": 25,
   "metadata": {},
   "outputs": [
    {
     "name": "stdout",
     "output_type": "stream",
     "text": [
      "A\n",
      "B\n",
      "C\n",
      "D\n",
      "E\n",
      "F\n",
      "G\n",
      "H\n",
      "I\n",
      "J\n",
      "K\n",
      "L\n",
      "M\n",
      "N\n",
      "O\n",
      "P\n",
      "Q\n",
      "R\n",
      "S\n",
      "T\n",
      "U\n",
      "V\n",
      "W\n",
      "X\n",
      "Y\n",
      "Z\n"
     ]
    }
   ],
   "source": [
    "#  write a simple Python program that prints characters with Unicode values between M and N, each on a new line.\n",
    "M = int(input())\n",
    "N = int(input())\n",
    "for i in range(M,N+1):\n",
    "    print(chr(i))"
   ]
  },
  {
   "cell_type": "code",
   "execution_count": 32,
   "metadata": {},
   "outputs": [
    {
     "name": "stdout",
     "output_type": "stream",
     "text": [
      "Car\n"
     ]
    }
   ],
   "source": [
    "# write a simple Python program that reads N Unicode values and prints a string by joining the characters of the given N Unicode values.\n",
    "N = int(input())\n",
    "res = \"\"\n",
    "for i in range(N):\n",
    "    char = int(input())\n",
    "    res  = res + chr(char)\n",
    "print(res)"
   ]
  },
  {
   "cell_type": "code",
   "execution_count": 40,
   "metadata": {},
   "outputs": [
    {
     "name": "stdout",
     "output_type": "stream",
     "text": [
      "   $$$$\n",
      "  $$$$\n",
      " $$$$\n"
     ]
    }
   ],
   "source": [
    "# Given the number of rows N, write a program to print the pattern similar to the pattern shown below.\n",
    "n = int(input())\n",
    "for i in range(0,N):\n",
    "    row_out = \" \" * (n-i-1)\n",
    "    row_out = row_out + \"$\" * n\n",
    "    print(row_out)"
   ]
  },
  {
   "cell_type": "code",
   "execution_count": 42,
   "metadata": {},
   "outputs": [
    {
     "name": "stdout",
     "output_type": "stream",
     "text": [
      "d\n",
      "p\n",
      "e\n",
      "j\n",
      "o\n",
      "h\n"
     ]
    }
   ],
   "source": [
    "# write a program that takes a string S as input and then prints the next characters of all characters in S based on their Unicode value, each on a new line.\n",
    "S = input()\n",
    "for i in S:\n",
    "    print(chr(ord(i)+1))"
   ]
  },
  {
   "cell_type": "code",
   "execution_count": 44,
   "metadata": {},
   "outputs": [
    {
     "name": "stdout",
     "output_type": "stream",
     "text": [
      "a\n",
      "h\n",
      "f\n",
      "c\n",
      "n\n",
      "f\n"
     ]
    }
   ],
   "source": [
    "# write a program that takes a string S as input and then prints the previous characters of all characters in S based on their Unicode value, except spaces, each on a new line.\n",
    "S = input()\n",
    "for i in S:\n",
    "    if i == \" \":\n",
    "        continue\n",
    "    else:\n",
    "        print(chr(ord(i)-1))"
   ]
  },
  {
   "cell_type": "code",
   "execution_count": 6,
   "metadata": {},
   "outputs": [
    {
     "name": "stdout",
     "output_type": "stream",
     "text": [
      "bit \n"
     ]
    }
   ],
   "source": [
    "# Given a sentence S contains space-separated words, write a program to print the word that comes first when the words are in dictionary order.\n",
    "sentence = input()\n",
    "first_word = sentence\n",
    "word = \"\"\n",
    "for i in range(len(sentence)):\n",
    "    char = sentence[i]\n",
    "    word += char \n",
    "    # print(word)\n",
    "    if char == \" \" or i == len(sentence)-1:\n",
    "        if word.lower() < first_word.lower():\n",
    "            first_word = word\n",
    "        word = ''\n",
    "print(first_word)"
   ]
  },
  {
   "cell_type": "code",
   "execution_count": 57,
   "metadata": {},
   "outputs": [
    {
     "name": "stdout",
     "output_type": "stream",
     "text": [
      "Ball to\n"
     ]
    }
   ],
   "source": [
    "#Given a sentence S conatins spaces-seperated words,write a program to print the first and last words of the sentence in dictionary order separated by a space.\n",
    "sentence = input()\n",
    "first_word = \"z\"\n",
    "last_word = \"a\"\n",
    "word = \"\"\n",
    "for i in range(len(sentence)):\n",
    "    char = sentence[i]\n",
    "    if char != \" \":\n",
    "        word += char\n",
    "    if char == \" \" or i == len(sentence) - 1:\n",
    "        if word.lower() < first_word.lower():\n",
    "            first_word = word\n",
    "        if word.lower() > last_word.lower():\n",
    "            last_word = word \n",
    "        word = \"\"\n",
    "first_and_last_word = first_word + \" \" + last_word \n",
    "print(first_and_last_word)"
   ]
  },
  {
   "cell_type": "code",
   "execution_count": 15,
   "metadata": {},
   "outputs": [
    {
     "name": "stdout",
     "output_type": "stream",
     "text": [
      "False\n"
     ]
    }
   ],
   "source": [
    "# In this coding question, you are given a variable name S. Your task is to check if S is a valid variable name. A variable name is valid if it contains only upper case letters (A-Z), lower case letters (a-z), and digits (0-9). You need to print \"True\" if S is a valid variable name, and \"False\" otherwise.\n",
    "S = input()\n",
    "valid_character = True\n",
    "for i in S:\n",
    "    unicode = ord(i)\n",
    "    valid_character = (65<=unicode<=90) or (97<=unicode<=122) or (48<=unicode<=57)\n",
    "    if not valid_character:\n",
    "        valid_character = False\n",
    "        break \n",
    "print(valid_character)\n"
   ]
  },
  {
   "cell_type": "code",
   "execution_count": 17,
   "metadata": {},
   "outputs": [
    {
     "name": "stdout",
     "output_type": "stream",
     "text": [
      "False\n"
     ]
    }
   ],
   "source": [
    "# Given a variable name S, check if S is a valid variable name. Variable name is valid if it starts with an alphabet or an underscore. Print True if S is a valid variable name. Otherwise, print False.\n",
    "S = input()\n",
    "first_chacter = S[0]\n",
    "unicode = ord(first_chacter)\n",
    "is_upper = (unicode>= 65 and unicode <=90)\n",
    "is_lower = (unicode >= 97 and unicode <=122)\n",
    "is_underscore = first_chacter == \"_\"\n",
    "\n",
    "is_vaild =  is_upper or is_lower or is_underscore \n",
    "print(is_vaild)\n"
   ]
  },
  {
   "cell_type": "code",
   "execution_count": 10,
   "metadata": {},
   "outputs": [
    {
     "name": "stdout",
     "output_type": "stream",
     "text": [
      "w o r d s "
     ]
    }
   ],
   "source": [
    "#Given a  string S and two numbers M and N,write a program to print the characters of S that have unicode values from M to N seperated by a spaces.\n",
    "S = input()\n",
    "M = int(input())\n",
    "N = int(input())\n",
    "for i in S:\n",
    "    res = ord(i)\n",
    "    # print(res)\n",
    "    for i in range(M,N+1):\n",
    "        num = int(res)\n",
    "        if i == num:\n",
    "            print(chr(i),end=\" \")"
   ]
  },
  {
   "cell_type": "code",
   "execution_count": 13,
   "metadata": {},
   "outputs": [
    {
     "name": "stdout",
     "output_type": "stream",
     "text": [
      "53\n"
     ]
    }
   ],
   "source": [
    "#Given a string S,write a program to print te unicode value of the first value of the first digit in the given string.\n",
    "word = input()\n",
    "for i in word:\n",
    "    if i.isdigit():\n",
    "        print(ord(i))\n",
    "        break"
   ]
  },
  {
   "cell_type": "code",
   "execution_count": 23,
   "metadata": {},
   "outputs": [
    {
     "name": "stdout",
     "output_type": "stream",
     "text": [
      "ifmmp xpsme\n"
     ]
    }
   ],
   "source": [
    "# You are given s string s.write a program to replace each letter of the string with the next letter that comes in the the English alphabets.\n",
    "word = input()\n",
    "res = \"\"\n",
    "for i in word:\n",
    "    if 65 <= ord(i) <= 90 or 97<=ord(i)<=122:\n",
    "        next = ord(i) + 1 \n",
    "        res += chr(next)\n",
    "    elif i == \" \":\n",
    "        res += \" \"\n",
    "print(res)"
   ]
  },
  {
   "cell_type": "code",
   "execution_count": 27,
   "metadata": {},
   "outputs": [
    {
     "name": "stdout",
     "output_type": "stream",
     "text": [
      "Fast Bnd Xest\n"
     ]
    }
   ],
   "source": [
    "#Given a sentence S,write a program to print the sentence by repalcing the first letter of every word with its next letter based on its Unicode value.\n",
    "word = input().split()\n",
    "modified_words = []\n",
    "for i in word:\n",
    "    first_chacter = i[0]\n",
    "    next_character = ord(first_chacter) + 1 \n",
    "    modified_word = chr(next_character) + i[1:]\n",
    "    modified_words.append(modified_word)\n",
    "modified_sentence = ' '.join(modified_words)\n",
    "print(modified_sentence)"
   ]
  },
  {
   "cell_type": "code",
   "execution_count": 28,
   "metadata": {},
   "outputs": [
    {
     "name": "stdout",
     "output_type": "stream",
     "text": [
      "F v\n"
     ]
    }
   ],
   "source": [
    "#Given a string S,write a program that prints the character with least unicode value and the character with the Highest Unicode Value seperated by a space.\n",
    "word = input()\n",
    "max_char = min_char = word[0]\n",
    "for i in word:\n",
    "    if ord(i) < ord(min_char):\n",
    "        min_char = i \n",
    "    elif ord(i)>ord(max_char):\n",
    "        max_char = i \n",
    "\n",
    "res = f\"{min_char} {max_char}\"\n",
    "print(res)"
   ]
  },
  {
   "cell_type": "code",
   "execution_count": 1,
   "metadata": {},
   "outputs": [
    {
     "name": "stdout",
     "output_type": "stream",
     "text": [
      "18.95\n",
      "12.36\n"
     ]
    }
   ],
   "source": [
    "# given a number N. Your task is to write a program that reads N numbers and prints each of the given N numbers by rounding them up to 2 decimals on a new line.\n",
    "num = int(input())\n",
    "for i in range(num):\n",
    "    n = float(input())\n",
    "    print(round(n,num))"
   ]
  },
  {
   "cell_type": "code",
   "execution_count": 4,
   "metadata": {},
   "outputs": [
    {
     "name": "stdout",
     "output_type": "stream",
     "text": [
      "300\n",
      "20.0\n"
     ]
    }
   ],
   "source": [
    "#Given two number M and N,write a programto print the sum and average of the numbers from M to N each on a new line.\n",
    "M = int(input())\n",
    "N = int(input())\n",
    "count = 0 \n",
    "sum = 0 \n",
    "for i in range(M,N+1):\n",
    "    sum += i \n",
    "    count += 1 \n",
    "print(sum)\n",
    "print(sum/count)\n"
   ]
  },
  {
   "cell_type": "code",
   "execution_count": 6,
   "metadata": {},
   "outputs": [
    {
     "name": "stdout",
     "output_type": "stream",
     "text": [
      "True\n"
     ]
    }
   ],
   "source": [
    "# Given two numbers N and S, write a program to find the sum of the given N numbers and round it up to 3 decimals. Check whether the sum that is rounded up to 3 decimals is equal to S or not.\n",
    "# Print True if the sum of N inputs rounded up to 3 decimals is equal to S. Otherwise, print False.\n",
    "N = int(input())\n",
    "sum = float(input())\n",
    "total = 0\n",
    "for i in range(N):\n",
    "    num = float(input())\n",
    "    total += num \n",
    "round_N = round(total,N)\n",
    "if sum == round_N:\n",
    "    print(\"True\")\n",
    "else:\n",
    "    print(\"False\")\n"
   ]
  },
  {
   "cell_type": "code",
   "execution_count": 8,
   "metadata": {},
   "outputs": [
    {
     "name": "stdout",
     "output_type": "stream",
     "text": [
      "38.6711\n"
     ]
    }
   ],
   "source": [
    "# Given two numbers X and N, write a program to find the sum of N terms in the given series. Then, print the sum by rounding up to 4 decimals in the given series.\n",
    "#Series: X,X^2,X^3,X^4, ... N\n",
    "X = float(input())\n",
    "N = int(input())\n",
    "sum = 0 \n",
    "for i in range(1,N+1): \n",
    "    sum += X ** i\n",
    "print(round(sum,4))"
   ]
  },
  {
   "cell_type": "code",
   "execution_count": 16,
   "metadata": {},
   "outputs": [
    {
     "name": "stdout",
     "output_type": "stream",
     "text": [
      "1.17H\n"
     ]
    }
   ],
   "source": [
    "# Given a time T in either Minutes (M) or Seconds (S). Example: 220M, 3S.\n",
    "\n",
    "# If the last character in the T is M, it is Minutes.\n",
    "# If the last character in the T is S, it is Seconds.\n",
    "\n",
    "# Write a program to convert the given time T in Minutes (M) or Seconds (S) into Hours (H) rounded up to 2 decimals.\n",
    "\n",
    "# The last character of the output should be H representing time in Hours.\n",
    "\n",
    "# 1 Minute = 1/60 Hours.\n",
    "\n",
    "# 1 Second = 1/3600 Hours.\n",
    "time = input()\n",
    "is_second = time[-1] == \"S\"\n",
    "is_minutes = time[-1] == \"M\"\n",
    "if is_minutes:\n",
    "    given_time = time[:-1]\n",
    "    convert_m_to_h = int(given_time)/60\n",
    "    res = round(convert_m_to_h,2)\n",
    "    print(str(res)+ str(\"H\"))\n",
    "elif is_second:\n",
    "    given_time = time[:-1]\n",
    "    convert_s_to_h = int(given_time)/3600\n",
    "    res = round(convert_s_to_h,2)\n",
    "    print(str(res)+ str(\"H\"))"
   ]
  },
  {
   "cell_type": "code",
   "execution_count": 21,
   "metadata": {},
   "outputs": [
    {
     "name": "stdout",
     "output_type": "stream",
     "text": [
      "   A\n",
      "  B B\n",
      " C   C\n",
      "D     D\n",
      " C   C\n",
      "  B B\n",
      "   A\n"
     ]
    }
   ],
   "source": [
    "# Given the number of rows N, write a program to print the hollow diamond pattern similar to the pattern shown below.\n",
    "n = int(input())\n",
    "alpha = 65 \n",
    "for i in range(n):\n",
    "    left_spaces = \" \" * (n-i-1)\n",
    "    hollow_spaces = \" \" * (2*i-1)\n",
    "    if i == 0:\n",
    "        each_row = left_spaces + chr(alpha) \n",
    "        alpha += 1 \n",
    "    else:\n",
    "        each_row = left_spaces + chr(alpha) + hollow_spaces + chr(alpha)\n",
    "        alpha += 1 \n",
    "    print(each_row)\n",
    "alpha -= 2\n",
    "for row in range(1, n):\n",
    "    left_spaces = \" \" * row \n",
    "    hollow_spaces = \" \" * (2 * (n - row - 1) - 1)\n",
    "    if row == n - 1:\n",
    "        each_row = left_spaces + chr(alpha)\n",
    "    else:\n",
    "        each_row = left_spaces + chr(alpha) + hollow_spaces + chr(alpha)\n",
    "        alpha -= 1 \n",
    "    print(each_row) "
   ]
  },
  {
   "cell_type": "code",
   "execution_count": 9,
   "metadata": {},
   "outputs": [
    {
     "name": "stdout",
     "output_type": "stream",
     "text": [
      ". . . . 0 . . . . \n",
      ". . . 0 0 0 . . . \n",
      ". . 0 0 0 0 0 . . \n",
      ". 0 0 0 0 0 0 0 . \n",
      "0 0 0 0 0 0 0 0 0 \n",
      ". 0 0 0 0 0 0 0 . \n",
      ". . 0 0 0 0 0 . . \n",
      ". . . 0 0 0 . . . \n",
      ". . . . 0 . . . . \n"
     ]
    }
   ],
   "source": [
    "# Question: Diamond - 3\n",
    "# Given an integer value N, write a program to print a number diamond of 2*N -1 rows as shown below.\n",
    "N = int(input())\n",
    "for i in range(N):\n",
    "    print(\". \" * (N-i-1) + \"0 \" *(i*2+1)+\". \" * (N-i-1))\n",
    "for j in range(1,N):\n",
    "    print(\". \"*j+ \"0 \" * (2*(N-j)-1) + \". \" * j )"
   ]
  },
  {
   "cell_type": "code",
   "execution_count": 12,
   "metadata": {},
   "outputs": [
    {
     "name": "stdout",
     "output_type": "stream",
     "text": [
      ". . 0 . . . . 0 . . \n",
      ". 0 0 0 . . 0 0 0 . \n",
      "0 0 0 0 0 0 0 0 0 0 \n"
     ]
    }
   ],
   "source": [
    "# Given a number N, write a program to print the letter M of N rows with two Solid Pyramids using zeros (0) and dots (.)\n",
    "n = int(input())\n",
    "for i in range(1,n+1):\n",
    "    dots = \". \" * (n-i)\n",
    "    zeros = \"0 \" * (2*i-1)\n",
    "    each_row = dots + zeros + dots \n",
    "    print(each_row+each_row)"
   ]
  },
  {
   "cell_type": "code",
   "execution_count": 10,
   "metadata": {},
   "outputs": [
    {
     "name": "stdout",
     "output_type": "stream",
     "text": [
      "   A       A \n",
      "  B B     B B \n",
      " C   C   C   C \n",
      "D     D D     D \n"
     ]
    }
   ],
   "source": [
    "# Given a number N, write a program to print the letter M of N rows using alphabets.\n",
    "N = int(input())\n",
    "for i in range(1,N+1):\n",
    "    spaces = \" \" * (N-i)\n",
    "    if i == 1:\n",
    "        each_row = spaces + (chr(i+64)+ \" \")\n",
    "    else:\n",
    "        hollow_spaces = \"  \" * (i-2)\n",
    "        each_row = spaces + (chr(i+64) + \" \") + hollow_spaces + (chr(i+64) + \" \")\n",
    "    spaces_between_triangles = \" \" * (N-i)  \n",
    "    print(each_row+spaces_between_triangles+each_row) "
   ]
  },
  {
   "cell_type": "code",
   "execution_count": 24,
   "metadata": {},
   "outputs": [
    {
     "name": "stdout",
     "output_type": "stream",
     "text": [
      "* * * * * * \n",
      "* *     * * \n",
      "*         * \n",
      "*         * \n",
      "* *     * * \n",
      "* * * * * * \n"
     ]
    }
   ],
   "source": [
    "#Given an integer N,write aprogram to print the hollow diamond pattern 2*N rows and 2*N columns,similar to the pattern show below\n",
    "N = int(input())\n",
    "for i in range(N):\n",
    "    if i == 0:\n",
    "        print(\"* \" * 2*N)\n",
    "    else:\n",
    "        starts = \"* \" * (N-i)\n",
    "        hollow_spaces = \"  \" * (2*i)\n",
    "        print(starts+hollow_spaces+starts)\n",
    "for i in range(1,N+1):\n",
    "    if i == N:\n",
    "        print(\"* \" * 2*N)\n",
    "    else:\n",
    "        stars = \"* \" * i \n",
    "        hollow_spaces = \"  \" * 2*(N-i)\n",
    "        print(stars+hollow_spaces+stars)"
   ]
  },
  {
   "cell_type": "code",
   "execution_count": 3,
   "metadata": {},
   "outputs": [
    {
     "name": "stdout",
     "output_type": "stream",
     "text": [
      "   A\n",
      "  B C\n",
      " D   E\n",
      "F     G\n",
      " D   E\n",
      "  B C\n",
      "   A\n"
     ]
    }
   ],
   "source": [
    "#Given a number n,write a program to print a Hollow Diamond of 2*N-1 rows using letters.\n",
    "N = int(input())\n",
    "ascii_value = 65  # ASCII value for 'A'\n",
    "\n",
    "# Top half including the middle row\n",
    "for i in range(N):\n",
    "    left_spaces = ' ' * (N - i - 1)\n",
    "    if i == 0:\n",
    "        print(left_spaces + chr(ascii_value))\n",
    "    else:\n",
    "        left_char = chr(ascii_value + (2 * i - 1))\n",
    "        right_char = chr(ascii_value + (2 * i))\n",
    "        hollow_spaces = ' ' * (2 * i - 1)\n",
    "        print(left_spaces + left_char + hollow_spaces + right_char)\n",
    "\n",
    "# Bottom half excluding the middle row\n",
    "for i in range(N - 2, -1, -1):\n",
    "    left_spaces = ' ' * (N - i - 1)\n",
    "    if i == 0:\n",
    "        print(left_spaces + chr(ascii_value))\n",
    "    else:\n",
    "        left_char = chr(ascii_value + (2 * i - 1))\n",
    "        right_char = chr(ascii_value + (2 * i))\n",
    "        hollow_spaces = ' ' * (2 * i - 1)\n",
    "        print(left_spaces + left_char + hollow_spaces + right_char)\n"
   ]
  },
  {
   "cell_type": "code",
   "execution_count": 4,
   "metadata": {},
   "outputs": [
    {
     "name": "stdout",
     "output_type": "stream",
     "text": [
      "25.0C\n",
      "77.0F\n",
      "298.0K\n"
     ]
    }
   ],
   "source": [
    "#You are given the temperature T of an object in one of Celisus,Fahrenhit,and kelvin scales\n",
    "#write a program to print T in all scales viz Celisus,Fahranheit,and Kelvin \n",
    "#Formula to convert from Fahranheit F to Celsius C is \n",
    "c = input()\n",
    "metric = c[len(c)-1]\n",
    "d = {\"C\":0,\"F\":0,\"K\":0}\n",
    "if metric == \"C\":\n",
    "    temp = float(c[:len(c)-1])\n",
    "    temp1 = temp\n",
    "    temp3 = temp + 273\n",
    "    temp2 = temp*9/5+32\n",
    "elif metric == \"F\":\n",
    "    temp = float(c[len(c):-1])\n",
    "    temp2 = temp \n",
    "    temp1 = (temp2-32)*5/9\n",
    "    temp3 = temp1 + 273\n",
    "else:\n",
    "    temp = float(c[len(c):-1])\n",
    "    temp3 = temp \n",
    "    temp1 = temp3-273 \n",
    "    temp2 = temp1 *9/5+32\n",
    "print(\"{}C\\n{}F\\n{}K\".format(round(temp1,2),round(temp2,2),round(temp3,2)))"
   ]
  },
  {
   "cell_type": "code",
   "execution_count": 10,
   "metadata": {},
   "outputs": [
    {
     "name": "stdout",
     "output_type": "stream",
     "text": [
      "1.83\n"
     ]
    }
   ],
   "source": [
    "#Given integer N as input,write a program to display the sum of the first N terms in harmonic series \n",
    "#the series is:1 + 1/2 + 1/3 + 1/4 + 1/5 + .... + 1/N(N terms)\n",
    "N = int(input())\n",
    "sum = 0 \n",
    "for i in range(1,N+1):\n",
    "    sum += 1/i \n",
    "print(round(sum,2))\n"
   ]
  },
  {
   "cell_type": "code",
   "execution_count": 2,
   "metadata": {},
   "outputs": [
    {
     "name": "stdout",
     "output_type": "stream",
     "text": [
      "3.0\n",
      "2.0\n"
     ]
    }
   ],
   "source": [
    "#You are given a cofficients a,b,c of a quadratic quadratic equation ax^2+bx+c = 0.\n",
    "# Find the roots r1,r2 of the equations\n",
    "a,b,c = [int(input()) for _ in range(3)]\n",
    "if a == 0:\n",
    "    print(round(-c/b,2))\n",
    "else:\n",
    "    d = b * b - 4 * a * c \n",
    "    if d < 0:\n",
    "        print('no roots')\n",
    "    elif d == 0:\n",
    "        print(round(-b/2/a,2))\n",
    "    else:\n",
    "        print(round((-b+d **0.5)/2/a,2))\n",
    "        print(round((-b-d **0.5)/2/a,2))"
   ]
  },
  {
   "cell_type": "code",
   "execution_count": null,
   "metadata": {},
   "outputs": [],
   "source": [
    "# given a number N. Your task is to write a program that reads N inputs and prints the number without decimals of the quotient of N inputs when each input is divided by 17, each on a new line.\n",
    "N = int(input())\n",
    "for i in range(N):\n",
    "    num = int(input())\n",
    "    print(num//17)"
   ]
  },
  {
   "cell_type": "code",
   "execution_count": 6,
   "metadata": {},
   "outputs": [
    {
     "name": "stdout",
     "output_type": "stream",
     "text": [
      "vvaammsshhii\n"
     ]
    }
   ],
   "source": [
    "# Given a string, write a program to double all the characters in the given string.\n",
    "string = input()\n",
    "res = \"\"\n",
    "for i in string:\n",
    "    res = res + i * 2\n",
    "print(res)"
   ]
  },
  {
   "cell_type": "code",
   "execution_count": 9,
   "metadata": {},
   "outputs": [
    {
     "name": "stdout",
     "output_type": "stream",
     "text": [
      "v,a,m,s,h,i\n"
     ]
    }
   ],
   "source": [
    "# Given a string S, write a program that prints a string obtained by adding a comma (,) between the characters of the given string S.\n",
    "S = input()\n",
    "res = \"\"\n",
    "for i in S:\n",
    "    res = res + i + \",\"\n",
    "print(res[:-1])"
   ]
  },
  {
   "cell_type": "code",
   "execution_count": 10,
   "metadata": {},
   "outputs": [
    {
     "name": "stdout",
     "output_type": "stream",
     "text": [
      "8\n",
      "19\n",
      "-77\n",
      "-28\n",
      "57\n"
     ]
    }
   ],
   "source": [
    "# Write a program to compute the cumulative sum of the given N numbers after each input. Cumulative sum is the sum of all the previous inputs and the current input.\n",
    "N = int(input())\n",
    "sum = 0\n",
    "for i in range(N):\n",
    "    num = int(input())\n",
    "    sum += num \n",
    "    print(sum)"
   ]
  },
  {
   "cell_type": "code",
   "execution_count": 12,
   "metadata": {},
   "outputs": [
    {
     "name": "stdout",
     "output_type": "stream",
     "text": [
      "8.0\n",
      "9.5\n",
      "-25.667\n",
      "-7.0\n",
      "11.4\n"
     ]
    }
   ],
   "source": [
    "# Write a program to compute the cumulative average of the given N numbers after each input. Cumulative average is the average of all the previous inputs and the current input.\n",
    "N = int(input())\n",
    "sum = 0\n",
    "for i in range(1,N+1):\n",
    "    num = int(input())\n",
    "    sum += num \n",
    "    avg = sum / i \n",
    "    print(round(avg,3))"
   ]
  },
  {
   "cell_type": "code",
   "execution_count": 14,
   "metadata": {},
   "outputs": [
    {
     "name": "stdout",
     "output_type": "stream",
     "text": [
      "32\n",
      "6\n",
      "6\n"
     ]
    }
   ],
   "source": [
    "# given a number N. Your task is to write a program that reads N inputs and prints the smallest number of them after each input, each on a new line.\n",
    "N = int(input())\n",
    "smallest = 999999999\n",
    "for i in range(N):\n",
    "    num = int(input())\n",
    "    if num < smallest:\n",
    "        smallest = num \n",
    "    print(smallest)"
   ]
  },
  {
   "cell_type": "code",
   "execution_count": 16,
   "metadata": {},
   "outputs": [
    {
     "name": "stderr",
     "output_type": "stream",
     "text": [
      "<>:4: SyntaxWarning: invalid escape sequence '\\ '\n",
      "<>:4: SyntaxWarning: invalid escape sequence '\\ '\n",
      "C:\\Users\\Ch vamshi krishna\\AppData\\Local\\Temp\\ipykernel_19840\\3484883565.py:4: SyntaxWarning: invalid escape sequence '\\ '\n",
      "  cross_lines = \"\\ \"\n"
     ]
    },
    {
     "name": "stdout",
     "output_type": "stream",
     "text": [
      "| \n",
      "| \\ \n",
      "|  \\ \n",
      "|   \\ \n",
      "|   / \n",
      "|  / \n",
      "| / \n",
      "| \n"
     ]
    }
   ],
   "source": [
    "# Given a number N, write a program to print a Hollow Pyramid of 2 * N rows using pipes (|), backward slashes (\\), and forward slashes (/).\n",
    "N = int(input())\n",
    "stright_lines = \"| \" \n",
    "cross_lines = \"\\ \"\n",
    "down_lines = \"/ \"\n",
    "for i in range(1,N+1):\n",
    "    if i == 1:\n",
    "        print(\"| \" * 1)\n",
    "    else:\n",
    "        hollow_spaces = \" \" * (i-2)\n",
    "        pattern = stright_lines + hollow_spaces + cross_lines\n",
    "        print(pattern)\n",
    "for i in range(1,N+1):\n",
    "    if i == N:\n",
    "        print(\"| \" * 1)\n",
    "    else:\n",
    "        hollow_spaces = \" \" * (N-i-1)\n",
    "        pattern = stright_lines + hollow_spaces + down_lines \n",
    "        print(pattern)\n"
   ]
  },
  {
   "cell_type": "code",
   "execution_count": 17,
   "metadata": {},
   "outputs": [
    {
     "name": "stdout",
     "output_type": "stream",
     "text": [
      "Yes\n"
     ]
    }
   ],
   "source": [
    "# Given two strings, write a program to check if the second string is a subsequence of the first string. A string can be considered a subsequence of another if it can be derived from the original string by ignoring or removing some characters without changing the order of the remaining characters.\n",
    "word = input()\n",
    "sub_string = input()\n",
    "sub_index = 0 \n",
    "sub_length = len(sub_string)\n",
    "for i in word:\n",
    "    if i == sub_string[sub_index]:\n",
    "        sub_index += 1 \n",
    "        if sub_index == sub_length:\n",
    "            break \n",
    "if sub_index == sub_length:\n",
    "    print(\"Yes\")\n",
    "else:\n",
    "    print(\"No\")"
   ]
  },
  {
   "cell_type": "code",
   "execution_count": 24,
   "metadata": {},
   "outputs": [
    {
     "name": "stdout",
     "output_type": "stream",
     "text": [
      "    1\n",
      "   212\n",
      "  32123\n",
      " 4321234\n",
      "543212345\n"
     ]
    }
   ],
   "source": [
    "# write a program that prints a number pyramid pattern similar to the one shown below:\n",
    "N = int(input())\n",
    "for i in range(1,N+1):\n",
    "    spaces = \" \" * (N-i)\n",
    "    left_nums = \"\"\n",
    "    right_nums = \"\"\n",
    "    for j in range(1,i+1):\n",
    "        left_nums = str(j) + left_nums\n",
    "        right_nums = right_nums + str(j)\n",
    "    print(spaces+left_nums+right_nums[1:]) "
   ]
  },
  {
   "cell_type": "code",
   "execution_count": 25,
   "metadata": {},
   "outputs": [
    {
     "name": "stdout",
     "output_type": "stream",
     "text": [
      "8\n",
      "19\n",
      "-77\n",
      "-28\n",
      "57\n"
     ]
    }
   ],
   "source": [
    "# Write a program to compute the cumulative sum of the given N numbers after each input. Cumulative sum is the sum of all the previous inputs and the current input.\n",
    "N = int(input())\n",
    "sum = 0\n",
    "for i in range(N):\n",
    "    num = int(input())\n",
    "    sum += num\n",
    "    print(sum)\n"
   ]
  },
  {
   "cell_type": "code",
   "execution_count": 29,
   "metadata": {},
   "outputs": [
    {
     "name": "stdout",
     "output_type": "stream",
     "text": [
      "V-a-m-s-h-i\n"
     ]
    }
   ],
   "source": [
    "#You are given a word W as input.Print W by adding a hyphen(-) between each letter in the word\n",
    "W = input()\n",
    "res = \"\"\n",
    "for i in W:\n",
    "    res = res + i + \"-\"\n",
    "print(res[:-1]) "
   ]
  },
  {
   "cell_type": "code",
   "execution_count": 33,
   "metadata": {},
   "outputs": [
    {
     "name": "stdout",
     "output_type": "stream",
     "text": [
      "1\n",
      "1\n",
      "3\n",
      "3\n",
      "9\n",
      "9\n"
     ]
    }
   ],
   "source": [
    "#You are give N number of inputs.Prints the maxium of them after each input.\n",
    "# N = int(input())\n",
    "# list_a = []\n",
    "# for i in range(N):\n",
    "#     num = int(input())\n",
    "#     list_a.append(num)\n",
    "#     print(max(list_a))\n",
    "num = int(input())\n",
    "max_num = int(input())\n",
    "print(max_num)\n",
    "for i in range(num-1):\n",
    "    n = int(input())\n",
    "    if max_num <= n:\n",
    "        print(n)\n",
    "        max_num = n \n",
    "    elif max_num >= n:\n",
    "        print(max_num)"
   ]
  },
  {
   "cell_type": "code",
   "execution_count": 48,
   "metadata": {},
   "outputs": [
    {
     "name": "stdout",
     "output_type": "stream",
     "text": [
      "   /\\    \n",
      "  /  \\   \n",
      " /    \\  \n",
      "/      \\ \n",
      "\\      /\n",
      " \\    /\n",
      "  \\  /\n",
      "   \\/\n"
     ]
    }
   ],
   "source": [
    "#Given an integer value N,write a program to print a diamond of 2*N rows as shown below\n",
    "N = int(input())\n",
    "for i in range(0,N):\n",
    "    print(' '*(N-i-1)+'/'+' '*(2*i)+'\\\\'+ (N-i)*\" \")\n",
    "for i in range(N):\n",
    "    print(' '*(i)+'\\\\'+' '*(2*(N-i-1))+'/')"
   ]
  },
  {
   "cell_type": "code",
   "execution_count": null,
   "metadata": {},
   "outputs": [],
   "source": []
  }
 ],
 "metadata": {
  "kernelspec": {
   "display_name": "Python 3",
   "language": "python",
   "name": "python3"
  },
  "language_info": {
   "codemirror_mode": {
    "name": "ipython",
    "version": 3
   },
   "file_extension": ".py",
   "mimetype": "text/x-python",
   "name": "python",
   "nbconvert_exporter": "python",
   "pygments_lexer": "ipython3",
   "version": "3.12.2"
  }
 },
 "nbformat": 4,
 "nbformat_minor": 2
}
