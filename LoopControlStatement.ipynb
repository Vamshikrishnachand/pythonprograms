{
 "cells": [
  {
   "cell_type": "code",
   "execution_count": 5,
   "metadata": {
    "metadata": {}
   },
   "outputs": [
    {
     "name": "stdout",
     "output_type": "stream",
     "text": [
      "S\n"
     ]
    }
   ],
   "source": [
    "#Given a string S,write a program to print the uppercase letters that appers first in the string s.\n",
    "word = input()\n",
    "for i in word:\n",
    "    if i.isdigit():\n",
    "        continue\n",
    "    else:\n",
    "        if i == i.upper():\n",
    "            print(i)\n",
    "            break"
   ]
  },
  {
   "cell_type": "code",
   "execution_count": 8,
   "metadata": {
    "metadata": {}
   },
   "outputs": [
    {
     "name": "stdout",
     "output_type": "stream",
     "text": [
      "Vamshi"
     ]
    }
   ],
   "source": [
    "# Given a sentence S containing spaces-separted words,write a program to print the first word among the words in the sentence S.\n",
    "sentence = input()\n",
    "for i in sentence:\n",
    "    if i == \" \":\n",
    "        break\n",
    "    print(i,end=\"\")"
   ]
  },
  {
   "cell_type": "code",
   "execution_count": 15,
   "metadata": {
    "metadata": {}
   },
   "outputs": [
    {
     "name": "stdout",
     "output_type": "stream",
     "text": [
      "PYTHON is a programming language.\n"
     ]
    }
   ],
   "source": [
    "#Given a sentence S,write a program to print a new sentence by changing all letters of the first word in the sentence S to upper case.\n",
    "s = input()\n",
    "firstspaces = 0 \n",
    "for i in s:\n",
    "    if i == \" \":\n",
    "        break\n",
    "    else:\n",
    "        firstspaces = firstspaces + 1 \n",
    "first_char = s[:firstspaces]\n",
    "first_char_upper = first_char.upper()\n",
    "string = first_char_upper + s[firstspaces:]\n",
    "print(string)"
   ]
  },
  {
   "cell_type": "code",
   "execution_count": 18,
   "metadata": {
    "metadata": {}
   },
   "outputs": [
    {
     "name": "stdout",
     "output_type": "stream",
     "text": [
      "-96\n"
     ]
    }
   ],
   "source": [
    "#Given a number N,write a program that reads N inputs and prints the first negative number among the N inputs.\n",
    "N = int(input())\n",
    "for i in range(N):\n",
    "    num = int(input())\n",
    "    if num < 0:\n",
    "        print(num)\n",
    "        break"
   ]
  },
  {
   "cell_type": "code",
   "execution_count": 19,
   "metadata": {
    "metadata": {}
   },
   "outputs": [
    {
     "name": "stdout",
     "output_type": "stream",
     "text": [
      "4\n"
     ]
    }
   ],
   "source": [
    "#Given a number N,write a program that reads N inputs and prints the first Even number among the N inputs.\n",
    "N = int(input())\n",
    "for i in range(N):\n",
    "    num = int(input())\n",
    "    if num % 2 == 0:\n",
    "        print(num)\n",
    "        break"
   ]
  },
  {
   "cell_type": "code",
   "execution_count": 24,
   "metadata": {
    "metadata": {}
   },
   "outputs": [
    {
     "name": "stdout",
     "output_type": "stream",
     "text": [
      "29\n"
     ]
    }
   ],
   "source": [
    "#Given two number M and N.write a program to print the first prime number from M to N.If no prime numbers are present from M to N print No prime number in the given number in the given range.\n",
    "M = int(input())\n",
    "N = int(input())\n",
    "for i in range(M,N+1):\n",
    "    factors = 0\n",
    "    for j in range(2,i):\n",
    "        if i % j == 0:\n",
    "            factors += 1 \n",
    "    if factors == 0:\n",
    "        print(i) \n",
    "        break\n",
    "else:\n",
    "    print(\"No prime numbers in the given range\")\n"
   ]
  },
  {
   "cell_type": "code",
   "execution_count": 27,
   "metadata": {
    "metadata": {}
   },
   "outputs": [
    {
     "name": "stdout",
     "output_type": "stream",
     "text": [
      "2\n"
     ]
    }
   ],
   "source": [
    "#Given two numbers M and N,write a program to print the Greatest Common Divisor(G.C.D) of the number M and N\n",
    "M = int(input())\n",
    "N = int(input())\n",
    "if M > N:\n",
    "    smallest = N \n",
    "else:\n",
    "    smallest = M \n",
    "gcd = smallest\n",
    "for i in range(1,gcd+1):\n",
    "    if (M%i) == 0 and (N%i)==0:\n",
    "        gcd = i \n",
    "print(gcd)"
   ]
  },
  {
   "cell_type": "code",
   "execution_count": 30,
   "metadata": {
    "metadata": {}
   },
   "outputs": [
    {
     "name": "stdout",
     "output_type": "stream",
     "text": [
      "6\n"
     ]
    }
   ],
   "source": [
    "#Given two number N and k,write a program to print the kth largest factors of the given number N.\n",
    "N = int(input())\n",
    "k = int(input())\n",
    "for eachnumber in range(N):\n",
    "    if N % (N-eachnumber) == 0:\n",
    "        largest = N - eachnumber\n",
    "        k = k - 1\n",
    "    if k == 0:\n",
    "        break \n",
    "print(largest)"
   ]
  },
  {
   "cell_type": "code",
   "execution_count": 40,
   "metadata": {
    "metadata": {}
   },
   "outputs": [
    {
     "name": "stdout",
     "output_type": "stream",
     "text": [
      "144\n"
     ]
    }
   ],
   "source": [
    "#Given two numbers M and N,write a program to print the Least Common Multiple(L.C.M) of the number M and N\n",
    "M = int(input())\n",
    "N = int(input())\n",
    "if M > N:\n",
    "    greatest = M \n",
    "else:\n",
    "    greatest = N \n",
    "lcm_found = False\n",
    "lcm = greatest\n",
    "for i in range(lcm,(M*N+1)):\n",
    "    if not lcm_found:\n",
    "        if ((i%M) == 0) and ((i%N)==0):\n",
    "            lcm_found = True\n",
    "            num = i \n",
    "print(num)"
   ]
  },
  {
   "cell_type": "code",
   "execution_count": 42,
   "metadata": {
    "metadata": {}
   },
   "outputs": [
    {
     "name": "stdout",
     "output_type": "stream",
     "text": [
      "Spk ldr"
     ]
    }
   ],
   "source": [
    "#Given a sentence S,write a program to print a new sentence by removing vowels from the given sentences S.\n",
    "S = input()\n",
    "for i in S:\n",
    "    if i not in 'AEIOUaeiou':\n",
    "        print(i,end=\"\")\n"
   ]
  },
  {
   "cell_type": "code",
   "execution_count": 43,
   "metadata": {
    "metadata": {}
   },
   "outputs": [
    {
     "name": "stdout",
     "output_type": "stream",
     "text": [
      "False\n"
     ]
    }
   ],
   "source": [
    "#given a number N,write a program to check if the given number is a Prime Number.Print True if the given number is a prime number.otherwise print False.\n",
    "n = int(input())\n",
    "is_prime = True\n",
    "for i in range(2,n):\n",
    "    if (n%i) == 0:\n",
    "        is_prime = False\n",
    "        break \n",
    "print(is_prime)"
   ]
  },
  {
   "cell_type": "code",
   "execution_count": 9,
   "metadata": {
    "metadata": {}
   },
   "outputs": [
    {
     "name": "stdout",
     "output_type": "stream",
     "text": [
      "[1, 2, 3, 4, 6, 12]\n",
      "4\n"
     ]
    }
   ],
   "source": [
    "#Given two number N an K,write a program to print the kth largest factors of the number N.\n",
    "N = int(input())\n",
    "K = int(input())\n",
    "factors_list = []\n",
    "for i in range(1,N+1):\n",
    "    if (N%i) == 0:\n",
    "        factors_list.append(i)\n",
    "if K > len(factors_list):\n",
    "    print(1)\n",
    "else:\n",
    "    print(factors_list[-K])"
   ]
  },
  {
   "cell_type": "code",
   "execution_count": 15,
   "metadata": {},
   "outputs": [
    {
     "name": "stdout",
     "output_type": "stream",
     "text": [
      "3\n"
     ]
    }
   ],
   "source": [
    "#Given a number N,write a program to read N inputs and pritn the first prime number among the given N inputs.\n",
    "n = int(input())\n",
    "for i in range(n):\n",
    "    num = int(input())\n",
    "    if num == 1:\n",
    "        continue\n",
    "    else:\n",
    "        factors = 0\n",
    "        for j in range(2,num):\n",
    "            if num % j == 0:\n",
    "                factors += 1 \n",
    "        if factors == 0:\n",
    "            print(num)\n",
    "            break"
   ]
  },
  {
   "cell_type": "code",
   "execution_count": 18,
   "metadata": {},
   "outputs": [
    {
     "name": "stdout",
     "output_type": "stream",
     "text": [
      "1\n",
      "2\n",
      "3\n"
     ]
    }
   ],
   "source": [
    "#Given a number N,write a program to reads N inputs and print the given numbers untill you encounter a multiple of 5,each on new line\n",
    "N = int(input())\n",
    "numbers = []\n",
    "for i in range(N):\n",
    "    num = int(input())\n",
    "    if num % 5 != 0:\n",
    "        numbers.append(num)\n",
    "    else:\n",
    "        break \n",
    "for i in numbers:\n",
    "    print(i)"
   ]
  },
  {
   "cell_type": "code",
   "execution_count": 20,
   "metadata": {},
   "outputs": [
    {
     "name": "stdout",
     "output_type": "stream",
     "text": [
      "3\n",
      "9\n",
      "6\n"
     ]
    }
   ],
   "source": [
    "#Given a number N,write a program to reads N inputs and print the given numbers untill you encounter a multiple of 3,each on new line\n",
    "N = int(input())\n",
    "numbers = []\n",
    "for i in range(N):\n",
    "    num = int(input())\n",
    "    if num % 3 == 0:\n",
    "        numbers.append(num)\n",
    "for i in numbers:\n",
    "    print(i)\n"
   ]
  },
  {
   "cell_type": "code",
   "execution_count": 34,
   "metadata": {},
   "outputs": [
    {
     "name": "stdout",
     "output_type": "stream",
     "text": [
      "      A \n",
      "    A B \n",
      "  A B C \n",
      "A B C D \n"
     ]
    }
   ],
   "source": [
    "#Given a number N,write a program to print a Right Angled Traingle of N rows using alphabets starting from A.\n",
    "N = int(input())\n",
    "for i in range(1,N+1):\n",
    "    for j in range(N-i):\n",
    "        print(\" \",end=\" \")\n",
    "    for j in range(1,i+1):\n",
    "        print(chr(64+j),end=\" \")\n",
    "    print()"
   ]
  }
 ],
 "metadata": {
  "kernelspec": {
   "display_name": "Python 3",
   "language": "python",
   "name": "python3"
  },
  "language_info": {
   "codemirror_mode": {
    "name": "ipython",
    "version": 3
   },
   "file_extension": ".py",
   "mimetype": "text/x-python",
   "name": "python",
   "nbconvert_exporter": "python",
   "pygments_lexer": "ipython3",
   "version": "3.12.2"
  }
 },
 "nbformat": 4,
 "nbformat_minor": 2
}
