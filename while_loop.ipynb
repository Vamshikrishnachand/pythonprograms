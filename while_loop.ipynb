{
 "cells": [
  {
   "cell_type": "code",
   "execution_count": 2,
   "metadata": {},
   "outputs": [
    {
     "name": "stdout",
     "output_type": "stream",
     "text": [
      "0\n",
      "0\n",
      "0\n",
      "0\n"
     ]
    }
   ],
   "source": [
    "#write a program that reads a number N and prints number 0 n times on n lines\n",
    "n = int(input())\n",
    "start = 0\n",
    "while start < n:\n",
    "    print(0)\n",
    "    start += 1"
   ]
  },
  {
   "cell_type": "code",
   "execution_count": 4,
   "metadata": {},
   "outputs": [
    {
     "name": "stdout",
     "output_type": "stream",
     "text": [
      "1\n",
      "2\n",
      "3\n",
      "4\n",
      "5\n"
     ]
    }
   ],
   "source": [
    "#write a program to print integres from 1 to N \n",
    "N = int(input())\n",
    "start = 1 \n",
    "while start <= N:\n",
    "    print(start)\n",
    "    start += 1 "
   ]
  },
  {
   "cell_type": "code",
   "execution_count": 6,
   "metadata": {},
   "outputs": [
    {
     "name": "stdout",
     "output_type": "stream",
     "text": [
      "1\n",
      "2\n",
      "3\n",
      "4\n",
      "5\n"
     ]
    }
   ],
   "source": [
    "#write a program that reads a number N and pints N Natural Number from 1.\n",
    "N = int(input())\n",
    "start = 1 \n",
    "while start <= N:\n",
    "    print(start)\n",
    "    start += 1"
   ]
  },
  {
   "cell_type": "code",
   "execution_count": 7,
   "metadata": {},
   "outputs": [
    {
     "name": "stdout",
     "output_type": "stream",
     "text": [
      "-2\n",
      "-1\n",
      "0\n",
      "1\n",
      "2\n"
     ]
    }
   ],
   "source": [
    "#Given two integers M and N,write a program to print the integers from M to N\n",
    "m = int(input())\n",
    "n = int(input())\n",
    "start = m \n",
    "while start <= n:\n",
    "    print(start)\n",
    "    start += 1"
   ]
  },
  {
   "cell_type": "code",
   "execution_count": 10,
   "metadata": {},
   "outputs": [
    {
     "name": "stdout",
     "output_type": "stream",
     "text": [
      "4.0\n"
     ]
    }
   ],
   "source": [
    "#write  a program that reads a number N and print the average of N number from 1 \n",
    "N = int(input())\n",
    "start = 1\n",
    "sum = 0 \n",
    "while start <= N:\n",
    "    sum += start\n",
    "    avg = sum/N\n",
    "    start += 1\n",
    "print(avg)"
   ]
  },
  {
   "cell_type": "code",
   "execution_count": 11,
   "metadata": {},
   "outputs": [
    {
     "name": "stdout",
     "output_type": "stream",
     "text": [
      "1\n",
      "8\n",
      "27\n",
      "64\n"
     ]
    }
   ],
   "source": [
    "#write a program that reads a number N and prints the cube of N numbers from 1\n",
    "N = int(input())\n",
    "start = 1 \n",
    "while start<=N:\n",
    "    print(start**3)\n",
    "    start += 1"
   ]
  },
  {
   "cell_type": "code",
   "execution_count": 15,
   "metadata": {},
   "outputs": [
    {
     "name": "stdout",
     "output_type": "stream",
     "text": [
      "* * * \n",
      "* * * \n"
     ]
    }
   ],
   "source": [
    "# Given two integers M and N,write a program to print a soild rectangle pattern of M rows and N columns using asterisk character(*)\n",
    "rows = int(input())\n",
    "column = int(input())\n",
    "start = 0\n",
    "while start < rows:\n",
    "    print(\"* \" * column)\n",
    "    start += 1"
   ]
  },
  {
   "cell_type": "code",
   "execution_count": 17,
   "metadata": {},
   "outputs": [
    {
     "name": "stdout",
     "output_type": "stream",
     "text": [
      "3\n",
      "4\n",
      "5\n",
      "6\n",
      "7\n",
      "8\n",
      "9\n",
      "10\n",
      "11\n",
      "12\n"
     ]
    }
   ],
   "source": [
    "#write a program that reads a number N and print 10 number after n.\n",
    "n = int(input())\n",
    "start = n + 1\n",
    "end = start + 10 \n",
    "while start < end:\n",
    "    print(start)\n",
    "    start += 1"
   ]
  },
  {
   "cell_type": "code",
   "execution_count": 20,
   "metadata": {},
   "outputs": [
    {
     "name": "stdout",
     "output_type": "stream",
     "text": [
      "4\n",
      "5\n",
      "6\n",
      "7\n",
      "8\n"
     ]
    }
   ],
   "source": [
    "#write a program that reads two numbers M and N and prints N number after M.\n",
    "M = int(input())\n",
    "N = int(input())\n",
    "start = M + 1 \n",
    "end = start + N\n",
    "while start < end:\n",
    "    print(start)\n",
    "    start += 1"
   ]
  },
  {
   "cell_type": "code",
   "execution_count": 22,
   "metadata": {},
   "outputs": [
    {
     "name": "stdout",
     "output_type": "stream",
     "text": [
      "65\n"
     ]
    }
   ],
   "source": [
    "#write a program that reads two numbers M and N and prints the sum of N numbers from M.\n",
    "m = int(input())\n",
    "n = int(input())\n",
    "start = m \n",
    "end = start + n\n",
    "sum = 0 \n",
    "while start < end:\n",
    "    sum +=start\n",
    "    start += 1\n",
    "print(sum)"
   ]
  },
  {
   "cell_type": "code",
   "execution_count": 24,
   "metadata": {},
   "outputs": [
    {
     "name": "stdout",
     "output_type": "stream",
     "text": [
      "* \n",
      "* * \n",
      "* * * \n"
     ]
    }
   ],
   "source": [
    "#Given an integer number (N) as input.Write a program to print the right-angled triangle pattern of N lines using an asterisk(*) character.\n",
    "n = int(input())\n",
    "start = 1\n",
    "while start<=n:\n",
    "    print(\"* \" * start)\n",
    "    start += 1"
   ]
  },
  {
   "cell_type": "code",
   "execution_count": 27,
   "metadata": {},
   "outputs": [
    {
     "name": "stdout",
     "output_type": "stream",
     "text": [
      "21\n"
     ]
    }
   ],
   "source": [
    "#write a program that reads a number N and print the sum of N natural numbers.\n",
    "N = int(input())\n",
    "sum = 0\n",
    "start = 1\n",
    "while start <= N:\n",
    "    sum += start \n",
    "    start += 1 \n",
    "print(sum)"
   ]
  },
  {
   "cell_type": "code",
   "execution_count": 1,
   "metadata": {},
   "outputs": [
    {
     "name": "stdout",
     "output_type": "stream",
     "text": [
      "4\n",
      "5\n",
      "6\n"
     ]
    }
   ],
   "source": [
    "#Given an integer N,Write a program whichn reads N inputs and print them.\n",
    "N = int(input())\n",
    "counter = 0\n",
    "while counter < N:\n",
    "    num = int(input())\n",
    "    print(num)\n",
    "    counter += 1\n"
   ]
  },
  {
   "cell_type": "code",
   "execution_count": 2,
   "metadata": {},
   "outputs": [
    {
     "name": "stdout",
     "output_type": "stream",
     "text": [
      "42\n"
     ]
    }
   ],
   "source": [
    "#Given a number N,write a program that reads N numbers ans input and prints and prints the product of the given N numbers\n",
    "N = int(input())\n",
    "counter = 0\n",
    "product = 1\n",
    "while counter < N:\n",
    "    num = int(input())\n",
    "    product *= num \n",
    "    counter += 1\n",
    "print(product)"
   ]
  },
  {
   "cell_type": "code",
   "execution_count": 4,
   "metadata": {},
   "outputs": [
    {
     "name": "stdout",
     "output_type": "stream",
     "text": [
      "27\n"
     ]
    }
   ],
   "source": [
    "#Given an integer N,write a program which reads N inputs and print the sum of the given input integers\n",
    "N = int(input())\n",
    "start = 0\n",
    "sum = 0\n",
    "while start <N:\n",
    "    num = int(input())\n",
    "    sum += num \n",
    "    start += 1\n",
    "print(sum)\n"
   ]
  },
  {
   "cell_type": "code",
   "execution_count": 1,
   "metadata": {},
   "outputs": [
    {
     "name": "stdout",
     "output_type": "stream",
     "text": [
      "V\n",
      "V\n",
      "V\n",
      "V\n",
      "V\n",
      "V\n"
     ]
    }
   ],
   "source": [
    "#Write a program that reads and prints the first character of the given string on N lines,Where N is the length of the given string\n",
    "word = input()\n",
    "first_letter = word[0]\n",
    "length_of_word = len(word)\n",
    "start = 0\n",
    "while start < length_of_word:\n",
    "    print(first_letter)\n",
    "    start += 1\n"
   ]
  },
  {
   "cell_type": "code",
   "execution_count": null,
   "metadata": {},
   "outputs": [
    {
     "name": "stdout",
     "output_type": "stream",
     "text": [
      "V\n",
      "a\n",
      "m\n",
      "s\n",
      "h\n",
      "i\n"
     ]
    }
   ],
   "source": [
    "#write a program that reads a string and prints each character of the given string on a new line\n",
    "word = input()\n",
    "start = 0\n",
    "end = len(word)\n",
    "while start < end:\n",
    "    print(word[start])\n",
    "    start += 1\n"
   ]
  },
  {
   "cell_type": "code",
   "execution_count": 12,
   "metadata": {},
   "outputs": [
    {
     "name": "stdout",
     "output_type": "stream",
     "text": [
      "111111\n",
      "222222\n",
      "333333\n",
      "444444\n",
      "555555\n",
      "666666\n"
     ]
    }
   ],
   "source": [
    "#write a program that reads a number n and prints a Square of N rows and N columns using numbers starting from 1.\n",
    "n = int(input())\n",
    "start = 1\n",
    "end = n \n",
    "while start <= end:\n",
    "    print(str(start)*n)\n",
    "    start += 1"
   ]
  },
  {
   "cell_type": "code",
   "execution_count": 15,
   "metadata": {},
   "outputs": [
    {
     "name": "stdout",
     "output_type": "stream",
     "text": [
      "*****\n",
      "*****\n",
      "*****\n",
      "*****\n"
     ]
    }
   ],
   "source": [
    "#write a program that reads two numbers M and N and prints a Rectangle of M rows and N coulmns using stars(*)\n",
    "rows = int(input())\n",
    "column = int(input())\n",
    "counter = 0\n",
    "while counter<rows:\n",
    "    print(\"*\" * column)\n",
    "    counter += 1\n"
   ]
  },
  {
   "cell_type": "code",
   "execution_count": 16,
   "metadata": {},
   "outputs": [
    {
     "name": "stdout",
     "output_type": "stream",
     "text": [
      "*\n",
      "**\n",
      "***\n"
     ]
    }
   ],
   "source": [
    "#write a program that reads a numbers N and prints a Rigth Angled Triangle of  N rows using stars(*)\n",
    "N = int(input())\n",
    "start = 1 \n",
    "while start <= N:\n",
    "    print(\"*\" * start)\n",
    "    start += 1"
   ]
  },
  {
   "cell_type": "code",
   "execution_count": 19,
   "metadata": {},
   "outputs": [
    {
     "name": "stdout",
     "output_type": "stream",
     "text": [
      "1 \n",
      "2 2 \n",
      "3 3 3 \n",
      "4 4 4 4 \n",
      "5 5 5 5 5 \n"
     ]
    }
   ],
   "source": [
    "#write a program that reads a number N and prints a Right Angled Triangle Of N rows using starting from 1.\n",
    "rows = int(input())\n",
    "start = 1 \n",
    "while start <= rows:\n",
    "    pattern = str(start) + \" \"\n",
    "    print(pattern * start)\n",
    "    start += 1"
   ]
  },
  {
   "cell_type": "code",
   "execution_count": 26,
   "metadata": {},
   "outputs": [
    {
     "name": "stdout",
     "output_type": "stream",
     "text": [
      "* \n",
      "* * \n",
      "+ + + \n"
     ]
    }
   ],
   "source": [
    "#write  a program that reads number N and prints a Right Angled Triangle of N rows using starts(*) and pluses(+)\n",
    "# The first N-1 rows contains starts(*) and the Nth rows contains pluses(+)\n",
    "N = int(input())\n",
    "start = 1\n",
    "while start <= N:\n",
    "    if start < N:\n",
    "        print(\"* \" * start)\n",
    "    else:\n",
    "        print(\"+ \" * N)\n",
    "    start += 1 "
   ]
  },
  {
   "cell_type": "code",
   "execution_count": 29,
   "metadata": {},
   "outputs": [
    {
     "name": "stdout",
     "output_type": "stream",
     "text": [
      "1\n",
      "22\n",
      "333\n",
      "4444\n",
      "1\n",
      "22\n",
      "333\n",
      "4444\n"
     ]
    }
   ],
   "source": [
    "# write a program that reads a number N an prints two Right Angled Triangles of n rows,using number starting from 1.\n",
    "num = int(input())\n",
    "start = 1 \n",
    "while start <= num:\n",
    "    print(str(start) * start)\n",
    "    start += 1 \n",
    "start1 = 1\n",
    "while start1 <= num:\n",
    "    print(str(start1) * start1)\n",
    "    start1 += 1 "
   ]
  },
  {
   "cell_type": "code",
   "execution_count": 30,
   "metadata": {},
   "outputs": [
    {
     "name": "stdout",
     "output_type": "stream",
     "text": [
      "* * * * \n",
      "* * * * \n",
      "* * * * \n",
      "* * * * \n"
     ]
    }
   ],
   "source": [
    "#write a program that reads a number N ans pritns a Square of N rows and N columns using starts(*)\n",
    "n = int(input())\n",
    "start = 0 \n",
    "while start < n:\n",
    "    print(\"* \" * n)\n",
    "    start += 1"
   ]
  },
  {
   "cell_type": "code",
   "execution_count": 32,
   "metadata": {},
   "outputs": [
    {
     "name": "stdout",
     "output_type": "stream",
     "text": [
      "+ + + + + \n",
      "+ + + + + \n",
      "+ + + + + \n"
     ]
    }
   ],
   "source": [
    "#write a program that reads two numbers M and N and prints a Retangle of M rows and N columns using plus(+)\n",
    "m = int(input())\n",
    "n = int(input())\n",
    "start = 0 \n",
    "while start<m:\n",
    "    print(\"+ \" * n)\n",
    "    start += 1 \n"
   ]
  },
  {
   "cell_type": "code",
   "execution_count": 38,
   "metadata": {},
   "outputs": [
    {
     "name": "stdout",
     "output_type": "stream",
     "text": [
      "1 1 1 \n",
      "2 2 2 \n"
     ]
    }
   ],
   "source": [
    "#Write a program that reads two numbers m and n and print a Rectangle of M and N columns using the numbers from 1 as shown in the sample output\n",
    "# 1 1 1 1\n",
    "# 2 2 2 2\n",
    "# 3 3 3 3\n",
    "rows = int(input())\n",
    "columns = int(input())\n",
    "counter = 1\n",
    "while counter <= rows:\n",
    "    pattern = str(counter) + \" \"\n",
    "    print(pattern * columns)\n",
    "    counter += 1"
   ]
  },
  {
   "cell_type": "code",
   "execution_count": 40,
   "metadata": {},
   "outputs": [
    {
     "name": "stdout",
     "output_type": "stream",
     "text": [
      "0\n",
      "1\n",
      "2\n",
      "3\n",
      "4\n"
     ]
    }
   ],
   "source": [
    "#write a program that reads a number N and print N numbers starting from 0 \n",
    "N = int(input())\n",
    "start = 0 \n",
    "while start < N:\n",
    "    print(start)\n",
    "    start += 1"
   ]
  },
  {
   "cell_type": "code",
   "execution_count": 42,
   "metadata": {},
   "outputs": [
    {
     "name": "stdout",
     "output_type": "stream",
     "text": [
      "4.0\n"
     ]
    }
   ],
   "source": [
    "#Given a number N,write a program that reads N inputs and print the average of N inputs\n",
    "N = int(input())\n",
    "sum = 0 \n",
    "start = 1 \n",
    "while start <= N:\n",
    "    num = int(input())\n",
    "    sum += num\n",
    "    avg = sum/N \n",
    "    start += 1\n",
    "print(avg)"
   ]
  },
  {
   "cell_type": "code",
   "execution_count": 44,
   "metadata": {},
   "outputs": [
    {
     "name": "stdout",
     "output_type": "stream",
     "text": [
      "* \n",
      "* * \n",
      "* * * \n",
      "* * * * \n",
      "* \n",
      "* * \n",
      "* * * \n",
      "* * * * \n"
     ]
    }
   ],
   "source": [
    "#write a program that reads a number N and printn two Right angled Triangle each of N rows using starts (*)\n",
    "n = int(input())\n",
    "start = 1 \n",
    "while start <= n:\n",
    "    print(\"* \" * start)\n",
    "    start += 1\n",
    "start1 = 1\n",
    "while start1 <= n:\n",
    "    print(\"* \" * start1)\n",
    "    start1 += 1 "
   ]
  },
  {
   "cell_type": "code",
   "execution_count": 50,
   "metadata": {},
   "outputs": [
    {
     "name": "stdout",
     "output_type": "stream",
     "text": [
      "30\n"
     ]
    }
   ],
   "source": [
    "#write a program that reads two number X and N and prints the product of N numbers after X.\n",
    "X = int(input())\n",
    "N = int(input())\n",
    "product = 1\n",
    "count = 0\n",
    "while count < N:\n",
    "    X += 1\n",
    "    product*= X\n",
    "    count += 1\n",
    "print(product)"
   ]
  },
  {
   "cell_type": "code",
   "execution_count": 52,
   "metadata": {},
   "outputs": [
    {
     "name": "stdout",
     "output_type": "stream",
     "text": [
      "30\n"
     ]
    }
   ],
   "source": [
    "#write a program that reads a number N and pritnthe sum of squares of N numbers starting from 1.\n",
    "num = int(input())\n",
    "start = 1\n",
    "sum = 0 \n",
    "while start <= num:\n",
    "    sum = sum + start**2\n",
    "    start += 1\n",
    "print(sum)"
   ]
  },
  {
   "cell_type": "code",
   "execution_count": 58,
   "metadata": {},
   "outputs": [
    {
     "name": "stdout",
     "output_type": "stream",
     "text": [
      "10\n",
      "9\n",
      "8\n",
      "7\n",
      "6\n",
      "5\n",
      "4\n",
      "3\n",
      "2\n",
      "1\n"
     ]
    }
   ],
   "source": [
    "#Given an integer N.write a program to print integers from N to 1.\n",
    "N = int(input())\n",
    "start = N \n",
    "end = 1 \n",
    "while start >= end:\n",
    "    print(start)\n",
    "    start -= 1"
   ]
  }
 ],
 "metadata": {
  "kernelspec": {
   "display_name": "Python 3",
   "language": "python",
   "name": "python3"
  },
  "language_info": {
   "codemirror_mode": {
    "name": "ipython",
    "version": 3
   },
   "file_extension": ".py",
   "mimetype": "text/x-python",
   "name": "python",
   "nbconvert_exporter": "python",
   "pygments_lexer": "ipython3",
   "version": "3.12.2"
  }
 },
 "nbformat": 4,
 "nbformat_minor": 2
}
