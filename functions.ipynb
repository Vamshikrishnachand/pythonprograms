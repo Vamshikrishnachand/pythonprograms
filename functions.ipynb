{
 "cells": [
  {
   "cell_type": "code",
   "execution_count": 1,
   "metadata": {},
   "outputs": [
    {
     "name": "stdout",
     "output_type": "stream",
     "text": [
      "Vamshi\n"
     ]
    }
   ],
   "source": [
    "#A function is given in the prefilled code that takes the word S as an argument.\n",
    "# Write a program that reads a word S and print the given word by calling the function\n",
    "def print_args(string):\n",
    "    print(string)\n",
    "string = input()\n",
    "print_args(string)\n"
   ]
  },
  {
   "cell_type": "code",
   "execution_count": 3,
   "metadata": {},
   "outputs": [
    {
     "name": "stdout",
     "output_type": "stream",
     "text": [
      "Welocome Vamshi\n"
     ]
    }
   ],
   "source": [
    "#For these problem the prefilled code will contain a fuction.Wrie a program to concatenate the essage \"Welcome\" folled by the given name.\n",
    "def greet(word):\n",
    "    return \"Welcome \" + word\n",
    "word = input()\n",
    "print(greet(word))"
   ]
  },
  {
   "cell_type": "code",
   "execution_count": 6,
   "metadata": {},
   "outputs": [
    {
     "data": {
      "text/plain": [
       "6"
      ]
     },
     "execution_count": 6,
     "metadata": {},
     "output_type": "execute_result"
    }
   ],
   "source": [
    "# In this coding question, you are given a number N. Your task is to write a function that multiplies the given number N with three and prints the result.\n",
    "def multiply(num):\n",
    "    return 3*num\n",
    "num = int(input())\n",
    "multiply(num)"
   ]
  },
  {
   "cell_type": "code",
   "execution_count": 8,
   "metadata": {},
   "outputs": [
    {
     "name": "stdout",
     "output_type": "stream",
     "text": [
      "False\n"
     ]
    }
   ],
   "source": [
    "#For this problem,the prefilled code will contain a fuction.write a program that the given function will check if the number N is divisible by 7.\n",
    "def divide(n):\n",
    "    rem =  n % 7 \n",
    "    if(rem==0):\n",
    "        print(\"True\")\n",
    "    else:\n",
    "        print(\"False\")\n",
    "n = int(input())\n",
    "divide(n) "
   ]
  },
  {
   "cell_type": "code",
   "execution_count": 10,
   "metadata": {},
   "outputs": [
    {
     "name": "stdout",
     "output_type": "stream",
     "text": [
      "Yes\n"
     ]
    }
   ],
   "source": [
    "#A function is given in the prefilled code that takes a number N as an argument.\n",
    "# Write a program that checks if N is between 200 and 500.\n",
    "# Print Yes if N is between 200 and 500.Otherwise,print No.\n",
    "def is_between_200_and_500(number):\n",
    "    is_between = 200 < number < 500\n",
    "    if is_between:\n",
    "        print(\"Yes\")\n",
    "    else:\n",
    "        print(\"No\")\n",
    "number = int(input())\n",
    "is_between_200_and_500(number)"
   ]
  },
  {
   "cell_type": "code",
   "execution_count": 12,
   "metadata": {},
   "outputs": [
    {
     "name": "stdout",
     "output_type": "stream",
     "text": [
      "1\n",
      "2\n",
      "3\n",
      "4\n",
      "5\n",
      "6\n",
      "7\n",
      "8\n",
      "9\n",
      "10\n"
     ]
    }
   ],
   "source": [
    "#A function is given in the prefilled code that takes a number N as an argument.\n",
    "# Write a program to print the number from 1 to the given number N,each on a new line.\n",
    "def print_number(number):\n",
    "    for i in range(1,number+1):\n",
    "        print(i)\n",
    "number = int(input())\n",
    "print_number(number)"
   ]
  },
  {
   "cell_type": "code",
   "execution_count": 2,
   "metadata": {},
   "outputs": [
    {
     "name": "stdout",
     "output_type": "stream",
     "text": [
      "0 EVEN\n",
      "1 ODD\n",
      "2 EVEN\n",
      "3 ODD\n",
      "4 EVEN\n"
     ]
    }
   ],
   "source": [
    "# Write a function with the name show_numbers that takes a number (N) and print all the numbers from 0 to N with a label to identify the even and odd numbers as shown below:\n",
    "def labeling_number(n):\n",
    "    for i in range(n+1):\n",
    "        if (i%2) == 0:\n",
    "            print(str(i) + \" EVEN\")\n",
    "        else:\n",
    "            print(str(i) + \" ODD\")\n",
    "N = int(input())\n",
    "labeling_number(N)\n"
   ]
  },
  {
   "cell_type": "code",
   "execution_count": 14,
   "metadata": {},
   "outputs": [
    {
     "name": "stdout",
     "output_type": "stream",
     "text": [
      "10\n"
     ]
    }
   ],
   "source": [
    "# In this problem, you are given a function. Your task is to write a program that returns the value passed to the function.\n",
    "# Input:The first line of input will contain an integer.\n",
    "# Output:The output should be a single line containing the value returned by the function.\n",
    "# Example:For example, if the given integer is 20, the output should be 20, as the function returns the same value.\n",
    "def value(a):\n",
    "    return a \n",
    "a = int(input())\n",
    "print(value(a))"
   ]
  },
  {
   "cell_type": "code",
   "execution_count": 16,
   "metadata": {},
   "outputs": [
    {
     "name": "stdout",
     "output_type": "stream",
     "text": [
      "12\n"
     ]
    }
   ],
   "source": [
    "# write a simple Python program to calculate the perimeter of a square. Let's break down the solution into smaller steps and explain each step.\n",
    "def perimeter(a):\n",
    "    return 4 * a \n",
    "a = int(input())\n",
    "print(perimeter(a))"
   ]
  },
  {
   "cell_type": "code",
   "execution_count": 17,
   "metadata": {},
   "outputs": [
    {
     "name": "stdout",
     "output_type": "stream",
     "text": [
      "a\n"
     ]
    }
   ],
   "source": [
    "# write a program that returns the second character in the given word. The input will be a single string, and the output should be a single line containing the second character of the given word.\n",
    "def second_character(word):\n",
    "    return word[1]\n",
    "word = input()\n",
    "print(second_character(word))"
   ]
  },
  {
   "cell_type": "code",
   "execution_count": 19,
   "metadata": {},
   "outputs": [
    {
     "name": "stdout",
     "output_type": "stream",
     "text": [
      "200.0\n"
     ]
    }
   ],
   "source": [
    "# A function is given in prefilled code that takes a number N as an argument. Write a program that checks if N is less than 1000. Return 5% of the N if N is less than 1000. Otherwise, return 10% of the N.\n",
    "def calculate_percentage(number):\n",
    "    is_less_than_1000 = number < 1000 \n",
    "    if is_less_than_1000:\n",
    "        return (5/100)*number\n",
    "    else:\n",
    "        return (10/100) * number\n",
    "\n",
    "number = int(input())\n",
    "result = calculate_percentage(number)\n",
    "print(result)"
   ]
  },
  {
   "cell_type": "code",
   "execution_count": 20,
   "metadata": {},
   "outputs": [
    {
     "name": "stdout",
     "output_type": "stream",
     "text": [
      "Valid String\n"
     ]
    }
   ],
   "source": [
    "# You are given a string S. Your task is to check if the given string S is valid. A string is considered valid if the first character of S is a digit or the number of characters present in S is greater than or equal to 6. If the string is valid, return \"Valid String\". Otherwise, return \"Invalid String\".\n",
    "def valid_string(string):\n",
    "    first_character = string[0].isdigit()\n",
    "    length = len(string)\n",
    "    if first_character or length >= 6:\n",
    "        return \"Valid String\"\n",
    "    else:\n",
    "        return \"Invalid String\"\n",
    "\n",
    "string = input()\n",
    "result = valid_string(string)\n",
    "print(result)"
   ]
  },
  {
   "cell_type": "code",
   "execution_count": 23,
   "metadata": {},
   "outputs": [
    {
     "name": "stdout",
     "output_type": "stream",
     "text": [
      "Warning\n"
     ]
    }
   ],
   "source": [
    "# In this coding question, you need to write a function called get_speed_status that takes a speed value as an argument. The function should return a message based on the following conditions:\n",
    "# If the speed is less than 60, it should return \"Normal\".\n",
    "# If the speed is greater than or equal to 60 and less than 80, it should return \"Warning\".\n",
    "# If the speed is greater than or equal to 80, it should return \"Over Speed\".\n",
    "# The input will be a single line containing a positive integer (S), representing the speed. The output should be a single line containing the message according to the above conditions.\n",
    "def speed_meter(limit):\n",
    "    if limit < 60:\n",
    "        return \"Normal\"\n",
    "    elif 60>=limit<80:\n",
    "        return \"Warning\"\n",
    "    elif limit >= 80:\n",
    "        return \"Over Speed\"\n",
    "limit = int(input())\n",
    "print(speed_meter(limit))"
   ]
  },
  {
   "cell_type": "code",
   "execution_count": 25,
   "metadata": {},
   "outputs": [
    {
     "name": "stdout",
     "output_type": "stream",
     "text": [
      "Hot\n"
     ]
    }
   ],
   "source": [
    "# Write a function with the name get_weather_report that takes the temperature as an argument.\n",
    "# If the temperature is less than 22, it should return \"Cold\".\n",
    "# If the temperature is greater than or equal to 22 and less than 35, it should return \"Warm\".\n",
    "# If the temperature is greater than or equal to 35, it should return \"Hot\".\n",
    "#The input will be a single line containing an integer. The output should be a single line containing the weather report according to the above conditions.\n",
    "def weather_report(tempeature):\n",
    "    if tempeature < 22:\n",
    "        return \"Cold\"\n",
    "    elif 22 >= tempeature < 35:\n",
    "        return \"Warm\"\n",
    "    elif tempeature >= 35:\n",
    "        return \"Hot\"\n",
    "tempeature  = int(input())\n",
    "print(weather_report(tempeature))"
   ]
  },
  {
   "cell_type": "code",
   "execution_count": 28,
   "metadata": {},
   "outputs": [
    {
     "name": "stdout",
     "output_type": "stream",
     "text": [
      "4\n"
     ]
    }
   ],
   "source": [
    "# Write a function with the name count_the_vowels that takes a word as an argument and count the number of vowels in the given word. The letters (a, e, i, o, u) are considered as vowels.\n",
    "def count_vowels(word):\n",
    "    count = 0\n",
    "    for i in word:\n",
    "        if i in  \"AEIOUaeiou\":\n",
    "            count += 1 \n",
    "    return count \n",
    "word = input()\n",
    "print(count_vowels(word))"
   ]
  },
  {
   "cell_type": "code",
   "execution_count": 29,
   "metadata": {},
   "outputs": [
    {
     "name": "stdout",
     "output_type": "stream",
     "text": [
      "4\n"
     ]
    }
   ],
   "source": [
    "# In this coding question, you are given a string S. Your task is to write a program that prints the count of uppercase letters in the given string S.\n",
    "def count_upper(word):\n",
    "    count = 0\n",
    "    for i in word:\n",
    "        if 65<=ord(i)<=91:\n",
    "            count += 1 \n",
    "    return count\n",
    "word = input()\n",
    "print(count_upper(word))"
   ]
  },
  {
   "cell_type": "code",
   "execution_count": 31,
   "metadata": {},
   "outputs": [
    {
     "name": "stdout",
     "output_type": "stream",
     "text": [
      "Valid PIN Code\n"
     ]
    }
   ],
   "source": [
    "# The function validate_atm_pin_code is designed to validate an ATM PIN code based on two specific criteria:\n",
    "# The PIN code must contain exactly 4 or 6 characters.\n",
    "# All characters in the PIN code must be digits.\n",
    "def ATM_PIN(Pin):\n",
    "    is_valid = True\n",
    "    is_having_4_or_6 = (len(Pin) == 4 or 6)\n",
    "    if is_having_4_or_6:\n",
    "        is_all_digit = Pin.isdigit()\n",
    "        if not is_all_digit:\n",
    "            is_valid = False\n",
    "    else:\n",
    "        is_valid = False\n",
    "    \n",
    "    if(is_valid):\n",
    "        print(\"Valid PIN Code\")\n",
    "    else:\n",
    "        print(\"Invalid PIN Code\")\n",
    "pin = input()\n",
    "ATM_PIN(pin)"
   ]
  },
  {
   "cell_type": "code",
   "execution_count": 33,
   "metadata": {},
   "outputs": [
    {
     "name": "stdout",
     "output_type": "stream",
     "text": [
      "1350.0\n"
     ]
    }
   ],
   "source": [
    "# The program defines a function named calculate_bill that calculates the final bill amount after applying a discount based on the initial bill amount. The discount rate varies according to these rules:\n",
    "# If the bill amount is less than 500, apply a 5% discount.\n",
    "# If the bill amount is between 500 and 2499 (inclusive), apply a 10% discount.\n",
    "# If the bill amount is 2500 or more, apply a 20% discount.\n",
    "def calculate_bill_amount(Amount):\n",
    "    if Amount < 500:\n",
    "        bill = Amount - (Amount*0.05)\n",
    "    elif (Amount>=500) and (Amount<2500):\n",
    "        bill = Amount - (Amount*0.1)\n",
    "    else:\n",
    "        bill = Amount - (Amount*0.2)\n",
    "    return bill \n",
    "\n",
    "amount = int(input())\n",
    "print(calculate_bill_amount(amount)) "
   ]
  },
  {
   "cell_type": "code",
   "execution_count": 34,
   "metadata": {},
   "outputs": [
    {
     "name": "stdout",
     "output_type": "stream",
     "text": [
      "Buzz\n"
     ]
    }
   ],
   "source": [
    "# The program defines a function named calculate_bill that calculates the final bill amount after applying a discount based on the initial bill amount. The discount rate varies according to these rules:\n",
    "# If the bill amount is less than 500, apply a 5% discount.\n",
    "# If the bill amount is between 500 and 2499 (inclusive), apply a 10% discount.\n",
    "# If the bill amount is 2500 or more, apply a 20% discount.\n",
    "def divisible(number):\n",
    "    if number % 3 == 0:\n",
    "        return \"Fizz\"\n",
    "    elif number % 5 == 0:\n",
    "        return \"Buzz\"\n",
    "    elif number % 3 == 0  and number % 5 == 0:\n",
    "        return \"FizzBuzz\"\n",
    "    else:\n",
    "        return number\n",
    "number = int(input())\n",
    "print(divisible(number))"
   ]
  },
  {
   "cell_type": "code",
   "execution_count": 35,
   "metadata": {},
   "outputs": [
    {
     "name": "stdout",
     "output_type": "stream",
     "text": [
      "2\n",
      "4\n"
     ]
    }
   ],
   "source": [
    "# This program is developed to calculate the count of uppercase and lowercase letters in a given word. The input will be a string, and the output consists of two lines: the first line displaying the number of uppercase letters and the second line showing the number of lowercase letters in the provided word.\n",
    "def count_upper_and_lower(word):\n",
    "    count_upper = 0 \n",
    "    count_lower = 0 \n",
    "    for i in word:\n",
    "        if i.upper() == i:\n",
    "            count_upper += 1 \n",
    "        else:\n",
    "            count_lower += 1 \n",
    "    print(count_upper)\n",
    "    print(count_lower)\n",
    "word = input()\n",
    "count_upper_and_lower(word)"
   ]
  },
  {
   "cell_type": "code",
   "execution_count": 30,
   "metadata": {},
   "outputs": [
    {
     "data": {
      "text/plain": [
       "9"
      ]
     },
     "execution_count": 30,
     "metadata": {},
     "output_type": "execute_result"
    }
   ],
   "source": [
    "# write a program that takes two numbers as input and returns the sum of those two numbers. The code will have a function called add that takes two arguments and returns their sum.\n",
    "def add(num1,num2):\n",
    "    return num1 + num2\n",
    "num1 = int(input())\n",
    "num2 = int(input())\n",
    "add(num1,num2)"
   ]
  },
  {
   "cell_type": "code",
   "execution_count": 34,
   "metadata": {},
   "outputs": [
    {
     "name": "stdout",
     "output_type": "stream",
     "text": [
      "Vamshi is 24 years old.\n"
     ]
    }
   ],
   "source": [
    "# In this coding question, you are given a person's name and age as input. Your task is to write a function that takes these two inputs and prints a message in the format: <name> is <age> years old.\n",
    "# For example, if the given person's name is \"Akhil\" and the age is 15, your code should print the message: Akhil is 15 years old.\n",
    "def message(name,age):\n",
    "    return name + \" is \" + str(age) +  \" years \" + \"old.\"\n",
    "a = input()\n",
    "b = input()\n",
    "print(message(a,b))"
   ]
  },
  {
   "cell_type": "code",
   "execution_count": 35,
   "metadata": {},
   "outputs": [
    {
     "name": "stdout",
     "output_type": "stream",
     "text": [
      "o\n"
     ]
    }
   ],
   "source": [
    "# In this coding question, you are given a word W and an integer N. Your task is to write a program that returns the character present at the index N in the word W.\n",
    "def Indexing(word,number):\n",
    "    print(word[number])\n",
    "word = input()\n",
    "number = int(input())\n",
    "Indexing(word,number)"
   ]
  },
  {
   "cell_type": "code",
   "execution_count": null,
   "metadata": {},
   "outputs": [],
   "source": [
    "# In this coding question, you are given a function that takes three numbers N1, N2, and N3 as arguments. Your task is to write a program that returns True if at least one of the given numbers N1, N2, and N3 is divisible by 9. Otherwise, return False.\n",
    "def check_divisible_by_9(first_number, second_number, third_number):\n",
    "    if (first_number % 9 == 0) or (second_number % 9 == 0) or (third_number % 9 == 0):\n",
    "        return True \n",
    "    else:\n",
    "        return False\n",
    "first_number = int(input())\n",
    "second_number = int(input())\n",
    "third_number = int(input())\n",
    "result = check_divisible_by_9(first_number,second_number,third_number)\n",
    "print(result) "
   ]
  },
  {
   "cell_type": "code",
   "execution_count": 36,
   "metadata": {},
   "outputs": [
    {
     "name": "stdout",
     "output_type": "stream",
     "text": [
      "True\n"
     ]
    }
   ],
   "source": [
    "#A function is given in the prefilled code that takes two numbers M and N as arguments\n",
    "# Write a program that returns True if both the M and N are greater than 100 and M is less than N ..otherwise return False.\n",
    "def compare_numbers(first_number, second_number):\n",
    "    if first_number > 100  and second_number > 100 and first_number < second_number:\n",
    "        return True \n",
    "    else:\n",
    "        return False \n",
    "first_number = int(input())\n",
    "second_number = int(input())\n",
    "result = compare_numbers(first_number,second_number)\n",
    "print(result)"
   ]
  },
  {
   "cell_type": "code",
   "execution_count": 37,
   "metadata": {},
   "outputs": [
    {
     "name": "stdout",
     "output_type": "stream",
     "text": [
      "Win\n"
     ]
    }
   ],
   "source": [
    "# you are given two numbers A and B which represent the scores of two teams. Your task is to write a program that compares the scores and returns \"Win\" if A is greater than B, \"Draw\" if A and B are equal, and \"Lose\" if A is less than B.\n",
    "def compare(team_a_points, team_b_points):\n",
    "    if team_a_points > team_b_points:\n",
    "        return \"Win\"\n",
    "    elif team_a_points == team_b_points:\n",
    "        return \"Draw\"\n",
    "    else:\n",
    "        return \"Lose\"\n",
    "team_a_points = int(input())\n",
    "team_b_points = int(input())\n",
    "print(compare(team_a_points,team_b_points)) "
   ]
  },
  {
   "cell_type": "code",
   "execution_count": 39,
   "metadata": {},
   "outputs": [
    {
     "data": {
      "text/plain": [
       "50"
      ]
     },
     "execution_count": 39,
     "metadata": {},
     "output_type": "execute_result"
    }
   ],
   "source": [
    "#Write a function with name sum_of_Squares_m_to_n that takes two integers (M and N) and the sum the squares from M to N\n",
    "def squares_of_m_n(m,n):\n",
    "    sum = 0 \n",
    "    for i in range(m,n+1):\n",
    "        sum += (i**2)\n",
    "    return sum \n",
    "m = int(input())\n",
    "n = int(input())\n",
    "squares_of_m_n(m,n)"
   ]
  },
  {
   "cell_type": "code",
   "execution_count": 40,
   "metadata": {},
   "outputs": [
    {
     "name": "stdout",
     "output_type": "stream",
     "text": [
      "3 5 7\n"
     ]
    }
   ],
   "source": [
    "# Write a program to print all the odd numbers from M to N separated by a space. The program should read two numbers M and N as input and output a single line containing a string of odd numbers from M to N separated by a space.\n",
    "def get_odd_numbers_in_range(start_number, end_number):\n",
    "\n",
    "    odd_numbers_list = []\n",
    "\n",
    "    for each_number in range(start_number, end_number + 1):\n",
    "        if each_number % 2 == 1:\n",
    "            odd_numbers_list += [str(each_number)]\n",
    "    space_separated_odd_numbers = \" \".join(odd_numbers_list)\n",
    "    return space_separated_odd_numbers\n",
    "\n",
    "start_number = int(input())\n",
    "end_number = int(input())\n",
    "odd_numbers = get_odd_numbers_in_range(start_number, end_number)\n",
    "print(odd_numbers)"
   ]
  },
  {
   "cell_type": "code",
   "execution_count": 42,
   "metadata": {},
   "outputs": [
    {
     "name": "stdout",
     "output_type": "stream",
     "text": [
      "1 2 3 6\n"
     ]
    }
   ],
   "source": [
    "# Write a program that takes a number N as input and returns the factors of the given number N separated by a space.\n",
    "def factors_of_n(n):\n",
    "    factors_list = []\n",
    "    for i in range(1,n+1):\n",
    "        if n % i == 0:\n",
    "            factors_list += [str(i)]\n",
    "    spaces_sepeated = \" \".join(factors_list)\n",
    "    return spaces_sepeated\n",
    "\n",
    "n = int(input())\n",
    "print(factors_of_n(n))"
   ]
  },
  {
   "cell_type": "code",
   "execution_count": 46,
   "metadata": {},
   "outputs": [
    {
     "name": "stdout",
     "output_type": "stream",
     "text": [
      "Prime Number\n"
     ]
    }
   ],
   "source": [
    "# In this coding question, you are given a function that takes a number N as an argument. Your task is to check if the given number N is prime or not. If the number is prime, print \"Prime Number\". Otherwise, print \"Not a Prime Number\".\n",
    "def check_prime_number(n):\n",
    "    factors = 0 \n",
    "    for i in range(1,n+1):\n",
    "        if n % i == 0:\n",
    "            factors += 1 \n",
    "    if factors == 2:\n",
    "        print(\"Prime Number\")\n",
    "    else:\n",
    "        print(\"Not a Prime Number\")\n",
    "\n",
    "n = int(input())\n",
    "check_prime_number(n)"
   ]
  },
  {
   "cell_type": "code",
   "execution_count": 52,
   "metadata": {},
   "outputs": [
    {
     "name": "stdout",
     "output_type": "stream",
     "text": [
      "2 3 5 7\n"
     ]
    }
   ],
   "source": [
    "# Write a program that takes a number N as input and returns all the prime numbers from 1 to N separated by a space.\n",
    "def prime_numbers(n):\n",
    "    prime_list = []\n",
    "    for i in range(1,n+1):\n",
    "        factors = 0 \n",
    "        if i < 2:\n",
    "            continue\n",
    "        else:\n",
    "            for j in range(2,i):\n",
    "                if i % j == 0:\n",
    "                    factors += 1 \n",
    "            if factors == 0:\n",
    "                prime_list += [str(i)]\n",
    "    spaces_seperated = \" \".join(prime_list)\n",
    "    return spaces_seperated\n",
    "\n",
    "n = int(input())\n",
    "print(prime_numbers(n))"
   ]
  },
  {
   "cell_type": "code",
   "execution_count": 55,
   "metadata": {},
   "outputs": [
    {
     "name": "stdout",
     "output_type": "stream",
     "text": [
      "V\n"
     ]
    }
   ],
   "source": [
    "# In this coding question, you are given a function that takes a string S as an argument. Your task is to write a program to return the first uppercase letter in the given string S.\n",
    "def fist_upper(word):\n",
    "    for i in word:\n",
    "        if i == i.upper():\n",
    "            print(i)\n",
    "            break \n",
    "\n",
    "word = input()\n",
    "fist_upper(word)"
   ]
  },
  {
   "cell_type": "code",
   "execution_count": 56,
   "metadata": {},
   "outputs": [
    {
     "name": "stdout",
     "output_type": "stream",
     "text": [
      "[1, 4, 16, 25]\n"
     ]
    }
   ],
   "source": [
    "# You are given a list of integers as a single line of comma-separated numbers. Your task is to write a program that squares each number in the list and prints the result as a list.\n",
    "# For example, if the input is 1,2,3,4, the output should be [1, 4, 9, 16].\n",
    "def get_list(list_a):\n",
    "    list_a = list_a.split(\",\")\n",
    "    len_list_a = len(list_a)\n",
    "    for i in range(len_list_a):\n",
    "        list_a[i] = int(list_a[i]) ** 2 \n",
    "    return list_a \n",
    "\n",
    "list_a = input()\n",
    "print(get_list(list_a))\n"
   ]
  },
  {
   "cell_type": "code",
   "execution_count": 57,
   "metadata": {},
   "outputs": [
    {
     "name": "stdout",
     "output_type": "stream",
     "text": [
      "4\n"
     ]
    }
   ],
   "source": [
    "# In this coding question, you are given a function that takes a string of N space-separated integers as an argument. Your task is to write a program that returns the count of even numbers among the given N space-separated numbers.\n",
    "def get_even_numbers_count(numbers):\n",
    "    even_count = 0\n",
    "    numbers = numbers.split()\n",
    "    for number in numbers:\n",
    "        number = int(number)\n",
    "        if number % 2 == 0:\n",
    "            even_count += 1\n",
    "    \n",
    "    return even_count\n",
    "\n",
    "numbers = input()\n",
    "result = get_even_numbers_count(numbers)\n",
    "print(result)"
   ]
  },
  {
   "cell_type": "code",
   "execution_count": 58,
   "metadata": {},
   "outputs": [
    {
     "name": "stdout",
     "output_type": "stream",
     "text": [
      "Python\n"
     ]
    }
   ],
   "source": [
    "def shuffle_string(string, indices_list):\n",
    "    new_String = \"\"\n",
    "    indices_list = indices_list.split()\n",
    "    for i in indices_list:\n",
    "        index = int(i)\n",
    "        new_String += string[index]\n",
    "    return new_String \n",
    "string = input()\n",
    "indices_list = input()\n",
    "print(shuffle_string(string,indices_list)) "
   ]
  },
  {
   "cell_type": "code",
   "execution_count": 61,
   "metadata": {},
   "outputs": [
    {
     "name": "stdout",
     "output_type": "stream",
     "text": [
      "16\n"
     ]
    }
   ],
   "source": [
    "#write a function wuth the calculate_league_points that taes the number of wins,draws and losses and calculates the number of pionts a footbal team has obtained so far.\n",
    "# Each win is equal to 4 \n",
    "# Each draw is equal to 2 points\n",
    "# Each loss is equal to -1\n",
    "def calculate_league_points(win,draw,loss):\n",
    "    win_point = win * 4 \n",
    "    draw_point = draw*2 \n",
    "    loss_point = loss*-1 \n",
    "    return win_point+draw_point+loss_point\n",
    "\n",
    "statistics = input().split(\",\")\n",
    "win = int(statistics[0])\n",
    "draw = int(statistics[1])\n",
    "loss = int(statistics[2])\n",
    "print(calculate_league_points(win,draw,loss))\n"
   ]
  },
  {
   "cell_type": "code",
   "execution_count": 62,
   "metadata": {},
   "outputs": [
    {
     "name": "stdout",
     "output_type": "stream",
     "text": [
      "216\n"
     ]
    }
   ],
   "source": [
    "#Write a function with name sum_of_cubes_m_to_n  that takes two integers (M and N) and sum the cubes from M to N.\n",
    "def sum_of_cubes(m,n):\n",
    "    sum = 0 \n",
    "    for i in range(m,n+1):\n",
    "        sum += (i**3)\n",
    "    return sum \n",
    "m = int(input())\n",
    "n = int(input())\n",
    "print(sum_of_cubes(m,n))"
   ]
  },
  {
   "cell_type": "code",
   "execution_count": 64,
   "metadata": {},
   "outputs": [
    {
     "name": "stdout",
     "output_type": "stream",
     "text": [
      "2 3 5 7\n"
     ]
    }
   ],
   "source": [
    "#Write a program that returns all the prime numbers from M to N separated by a spaces.\n",
    "def prime_numbers(M,N):\n",
    "    prime_list = []\n",
    "    for i in range(M,N+1):\n",
    "        factors = 0 \n",
    "        if i < 2:\n",
    "            continue\n",
    "        else:\n",
    "            for j in range(2,i):\n",
    "                if i % j == 0:\n",
    "                    factors += 1 \n",
    "            if factors == 0:\n",
    "                prime_list += [str(i)]\n",
    "    seperated_list = \" \".join(prime_list)\n",
    "    return seperated_list\n",
    "M = int(input())\n",
    "N = int(input())\n",
    "print(prime_numbers(M,N))"
   ]
  },
  {
   "cell_type": "code",
   "execution_count": 66,
   "metadata": {},
   "outputs": [
    {
     "name": "stdout",
     "output_type": "stream",
     "text": [
      "PM\n",
      "reium\n"
     ]
    }
   ],
   "source": [
    "#Given a word,write a function with the name get_lower_and_upper_case_letters that takes a word and prints all the uppercase and lowercase letters in the first line ans second line respectively.\n",
    "def get_lower_and_upper_case_letters(word):\n",
    "    upper_words = \"\" \n",
    "    lower_words = \"\"\n",
    "    for i in word:\n",
    "        if i == i.upper():\n",
    "            upper_words += i \n",
    "        else:\n",
    "            lower_words += i \n",
    "    print(upper_words)\n",
    "    print(lower_words)\n",
    "word = input()\n",
    "get_lower_and_upper_case_letters(word)"
   ]
  },
  {
   "cell_type": "code",
   "execution_count": 69,
   "metadata": {},
   "outputs": [
    {
     "name": "stdout",
     "output_type": "stream",
     "text": [
      "1\n"
     ]
    }
   ],
   "source": [
    "# This program is designed to calculate how many cars are needed to seat a given number of people N. Each car can seat four passengers and one driver, making a total capacity of five people per car.\n",
    "def number_of_cars_needed(no_of_people):\n",
    "    no_of_cars = no_of_people//5 \n",
    "    reaming_people = no_of_people % 5 \n",
    "    if reaming_people > 0:\n",
    "        no_of_cars += 1 \n",
    "    return no_of_cars \n",
    "no_of_people = int(input())\n",
    "print(number_of_cars_needed(no_of_people)) "
   ]
  },
  {
   "cell_type": "code",
   "execution_count": 24,
   "metadata": {},
   "outputs": [
    {
     "name": "stdout",
     "output_type": "stream",
     "text": [
      "Prime Number\n"
     ]
    }
   ],
   "source": [
    "n = int(input())\n",
    "factors = 0 \n",
    "for i in range(1,n+1):\n",
    "    if n % i == 0:\n",
    "        factors += 1 \n",
    "if factors == 2:\n",
    "    print(\"Prime Number\")\n",
    "else:\n",
    "    print(\"Not a Prime Number\")"
   ]
  },
  {
   "cell_type": "code",
   "execution_count": 33,
   "metadata": {},
   "outputs": [
    {
     "name": "stdout",
     "output_type": "stream",
     "text": [
      "[2, 3, 5, 7]\n"
     ]
    }
   ],
   "source": [
    "n = int(input())\n",
    "factors_list = []\n",
    "for i in range(1,n+1):\n",
    "    factors = 0 \n",
    "    if i < 2:\n",
    "        continue\n",
    "    else:\n",
    "        for j in range(2,i):\n",
    "            if i % j == 0:\n",
    "                factors += 1 \n",
    "        if factors == 0:\n",
    "            factors_list += [i]\n",
    "print(factors_list)"
   ]
  },
  {
   "cell_type": "code",
   "execution_count": 31,
   "metadata": {},
   "outputs": [
    {
     "name": "stdout",
     "output_type": "stream",
     "text": [
      "Prime Number\n"
     ]
    }
   ],
   "source": [
    "n = int(input())\n",
    "for i in range(1,n+1):\n",
    "    factors = 0 \n",
    "    if i < 2:\n",
    "        continue\n",
    "    else:\n",
    "        for j in range(2,i):\n",
    "            if i % j == 0:\n",
    "                factors += 1 \n",
    "if factors == 0:\n",
    "    print(\"Prime Number\")\n",
    "else:\n",
    "    print(\"Not a Prime number\")"
   ]
  },
  {
   "cell_type": "code",
   "execution_count": 53,
   "metadata": {},
   "outputs": [
    {
     "name": "stdout",
     "output_type": "stream",
     "text": [
      "[13, 71]\n"
     ]
    }
   ],
   "source": [
    "numbers = [10,13,27,42,71]\n",
    "prime_list = []\n",
    "for i in numbers:\n",
    "    num = int(i)\n",
    "    factors = 0 \n",
    "    for i in range(1,num+1):\n",
    "        if num % i == 0:\n",
    "            factors += 1 \n",
    "    if factors == 2:\n",
    "        prime_list += [i]\n",
    "print(prime_list)\n"
   ]
  },
  {
   "cell_type": "code",
   "execution_count": 1,
   "metadata": {},
   "outputs": [
    {
     "name": "stdout",
     "output_type": "stream",
     "text": [
      "22\n"
     ]
    }
   ],
   "source": [
    "# Given space-separated numbers, write a program to print the sum of the given numbers.\n",
    "num_list = input().split()\n",
    "sum_of_numbers =0\n",
    "for i in num_list:\n",
    "    number = int(i)\n",
    "    sum_of_numbers += number\n",
    "print(sum_of_numbers)\n"
   ]
  },
  {
   "cell_type": "code",
   "execution_count": 3,
   "metadata": {},
   "outputs": [
    {
     "name": "stdout",
     "output_type": "stream",
     "text": [
      "52\n"
     ]
    }
   ],
   "source": [
    "# Write a program to print the largest number in the list\n",
    "numbers = input().split(\",\")\n",
    "num_list = []\n",
    "for i in numbers:\n",
    "    number = int(i)\n",
    "    num_list += [number]\n",
    "sorted_list = sorted(num_list)\n",
    "print(sorted_list[-1])"
   ]
  },
  {
   "cell_type": "code",
   "execution_count": 11,
   "metadata": {},
   "outputs": [
    {
     "name": "stdout",
     "output_type": "stream",
     "text": [
      "1\n"
     ]
    }
   ],
   "source": [
    "# Write a program to print the smallest number in the list\n",
    "numbers = input().split(\",\")\n",
    "num_list = []\n",
    "for i in numbers:\n",
    "    number = int(i)\n",
    "    num_list += [number]\n",
    "sorted_list = sorted(num_list)\n",
    "print(sorted_list[0])"
   ]
  },
  {
   "cell_type": "code",
   "execution_count": 10,
   "metadata": {},
   "outputs": [
    {
     "name": "stdout",
     "output_type": "stream",
     "text": [
      "3\n"
     ]
    }
   ],
   "source": [
    "# Write a program to print the kth largest number in the list\n",
    "numbers = input().split(\",\")\n",
    "num = int(input())\n",
    "num_list = []\n",
    "for i in numbers:\n",
    "    number = int(i)\n",
    "    num_list += [number]\n",
    "sorted_list = sorted(num_list)\n",
    "print(sorted_list[-num])"
   ]
  },
  {
   "cell_type": "code",
   "execution_count": 12,
   "metadata": {},
   "outputs": [
    {
     "name": "stdout",
     "output_type": "stream",
     "text": [
      "[1, 5, 7, 10]\n"
     ]
    }
   ],
   "source": [
    "# Given comma-separated numbers, write a program to print a list containing the given numbers in Ascending order.\n",
    "numbers = input().split(\",\")\n",
    "num_list = []\n",
    "for i in numbers:\n",
    "    number = int(i)\n",
    "    num_list += [number]\n",
    "sorted_list = sorted(num_list)\n",
    "print(sorted_list)"
   ]
  },
  {
   "cell_type": "code",
   "execution_count": 13,
   "metadata": {},
   "outputs": [
    {
     "name": "stdout",
     "output_type": "stream",
     "text": [
      "[25, 16, 5, 1]\n"
     ]
    }
   ],
   "source": [
    "# Given comma-separated numbers, write a program to print a list containing given numbers in Descending order.\n",
    "numbers = input().split(\",\")\n",
    "num_list = []\n",
    "for i in numbers:\n",
    "    number = int(i)\n",
    "    num_list += [number]\n",
    "sorted_list = sorted(num_list,reverse=True)\n",
    "print(sorted_list)"
   ]
  },
  {
   "cell_type": "code",
   "execution_count": 15,
   "metadata": {},
   "outputs": [
    {
     "name": "stdout",
     "output_type": "stream",
     "text": [
      "13\n"
     ]
    }
   ],
   "source": [
    "# Given comma-separated numbers, write a program to print the Second Largest number in the given numbers.\n",
    "numbers = input().split(\",\")\n",
    "num_list = []\n",
    "for i in numbers:\n",
    "    number = int(i)\n",
    "    num_list += [number]\n",
    "sorted_list = sorted(num_list)\n",
    "print(sorted_list[-2])"
   ]
  },
  {
   "cell_type": "code",
   "execution_count": 16,
   "metadata": {},
   "outputs": [
    {
     "name": "stdout",
     "output_type": "stream",
     "text": [
      "6\n"
     ]
    }
   ],
   "source": [
    "# Write a program to print the difference between the largest and smallest numbers in the list.\n",
    "numbers = input().split(\",\")\n",
    "num_list = []\n",
    "for i in numbers:\n",
    "    number = int(i)\n",
    "    num_list += [number]\n",
    "sorted_list = sorted(num_list)\n",
    "largest = sorted_list[-1]\n",
    "smallest = sorted_list[0]\n",
    "print(largest-smallest)"
   ]
  },
  {
   "cell_type": "code",
   "execution_count": 19,
   "metadata": {},
   "outputs": [
    {
     "name": "stdout",
     "output_type": "stream",
     "text": [
      "363\n"
     ]
    }
   ],
   "source": [
    "# write a program that prints the maximum possible sum of 5 numbers from the given comma-separated numbers.\n",
    "numbers = input().split(\",\")\n",
    "num_list = []\n",
    "for i in numbers:\n",
    "    number = int(i)\n",
    "    num_list += [number]\n",
    "sorted_list = sorted(num_list,reverse=True)\n",
    "five_largest_numbers = sorted_list[:5]\n",
    "print(sum(five_largest_numbers))"
   ]
  },
  {
   "cell_type": "code",
   "execution_count": 24,
   "metadata": {},
   "outputs": [
    {
     "name": "stdout",
     "output_type": "stream",
     "text": [
      "9\n",
      "0\n",
      "8\n"
     ]
    }
   ],
   "source": [
    "#write a program to extract the numbers in given string and print the sum,minium and maxium of those numbers\n",
    "def extract_digits(string_1):\n",
    "    num_list = []\n",
    "    for i in string_1:\n",
    "        if i.isdigit():\n",
    "            num_list += [int(i)]\n",
    "    return num_list\n",
    "\n",
    "string_1 = input()\n",
    "str_1 = extract_digits(string_1)\n",
    "sum_of_list = sum(str_1)\n",
    "print(sum_of_list)\n",
    "min_of_list = min(str_1)\n",
    "print(min_of_list)\n",
    "max_of_list = max(str_1)\n",
    "print(max_of_list)\n"
   ]
  },
  {
   "cell_type": "code",
   "execution_count": 26,
   "metadata": {},
   "outputs": [
    {
     "name": "stdout",
     "output_type": "stream",
     "text": [
      "[1, 4, 9, 16, 25]\n"
     ]
    }
   ],
   "source": [
    "# Write a program to print the square of given list numbers in ascending order.\n",
    "list_A = input().split(\",\")\n",
    "list_x = []\n",
    "for i in list_A:\n",
    "    list_x += [int(i)**2]\n",
    "print(sorted(list_x))"
   ]
  },
  {
   "cell_type": "code",
   "execution_count": 28,
   "metadata": {},
   "outputs": [
    {
     "name": "stdout",
     "output_type": "stream",
     "text": [
      "17.5\n"
     ]
    }
   ],
   "source": [
    "#Given comma-separated numbers,write a program to print the Mean of the given numbers\n",
    "numbers = input().split(\",\")\n",
    "count = 0 \n",
    "num_list = []\n",
    "for i in numbers:\n",
    "    num_list += [int(i)]\n",
    "    count += 1 \n",
    "print(sum(num_list)/count)\n"
   ]
  },
  {
   "cell_type": "code",
   "execution_count": 30,
   "metadata": {},
   "outputs": [
    {
     "name": "stdout",
     "output_type": "stream",
     "text": [
      "2\n"
     ]
    }
   ],
   "source": [
    "#Write a program to print the kth smallest numbers in the list.\n",
    "numbers = input().split(\",\")\n",
    "kth_smallest_number = int(input())\n",
    "list_a = []\n",
    "for i in numbers:\n",
    "    list_a += [int(i)]\n",
    "sorted_list = sorted(list_a)\n",
    "print(sorted_list[kth_smallest_number-1])\n"
   ]
  },
  {
   "cell_type": "code",
   "execution_count": 32,
   "metadata": {},
   "outputs": [
    {
     "name": "stdout",
     "output_type": "stream",
     "text": [
      "7.5\n"
     ]
    }
   ],
   "source": [
    "#Given comma-separated numbers,write a program to print the Median of the given numbers\n",
    "numbers = input().split(\",\")\n",
    "count = 0 \n",
    "num_list = []\n",
    "for i in numbers:\n",
    "    num_list += [int(i)]\n",
    "    count += 1 \n",
    "sorted_list = sorted(num_list)\n",
    "if count % 2 == 0:\n",
    "    index = len(sorted_list)//2\n",
    "    print((sorted_list[index] + sorted_list[index-1])/2)\n",
    "else:\n",
    "    index = int(len(sorted_list)/2)\n",
    "    print(sorted_list[index])"
   ]
  },
  {
   "cell_type": "code",
   "execution_count": 33,
   "metadata": {},
   "outputs": [
    {
     "name": "stdout",
     "output_type": "stream",
     "text": [
      "1\n"
     ]
    }
   ],
   "source": [
    "# This Python program is tasked with finding the smallest number within a list of numbers, starting from a specified index I to the end of the list. The input consists of a line of comma-separated numbers and a subsequent line with the integer I, indicating the starting index.\n",
    "numbers = input().split(\",\")\n",
    "number = int(input())\n",
    "num_list = []\n",
    "for i in numbers:\n",
    "    num_list += [int(i)] \n",
    "num_list = num_list[:number]\n",
    "sorted_list = sorted(num_list)\n",
    "print(sorted_list[0])"
   ]
  },
  {
   "cell_type": "code",
   "execution_count": 41,
   "metadata": {},
   "outputs": [
    {
     "name": "stdout",
     "output_type": "stream",
     "text": [
      "13\n"
     ]
    }
   ],
   "source": [
    "#Given comma-separated numbers and a number,write a program to print the smallest possible sum with N numbers of the given comma-separated numbers\n",
    "numbers = input().split(\",\")\n",
    "number = int(input())\n",
    "num_list = []\n",
    "for i in numbers:\n",
    "    num_list += [int(i)] \n",
    "sorted_num = sorted(num_list)\n",
    "smallest_num = sorted_num[:number]\n",
    "print(sum(smallest_num))"
   ]
  },
  {
   "cell_type": "code",
   "execution_count": null,
   "metadata": {},
   "outputs": [],
   "source": [
    "def get_sum(numbers):\n",
    "    each_number = int(numbers[0])\n",
    "    \n",
    "    if len(numbers) == 1:\n",
    "        return each_number\n",
    "        \n",
    "    return each_number + get_sum(numbers[1:])\n",
    "    \n",
    "\n",
    "numbers = input().split()\n",
    "\n",
    "sum_of_numbers = get_sum(numbers)\n",
    "print(sum_of_numbers)"
   ]
  },
  {
   "cell_type": "code",
   "execution_count": 1,
   "metadata": {},
   "outputs": [
    {
     "name": "stdout",
     "output_type": "stream",
     "text": [
      "14\n"
     ]
    }
   ],
   "source": [
    "def get_sqrd_val(x): \n",
    "    return (x * x) \n",
    "  \n",
    "def get_sum_of_sqrs(list_a): \n",
    "    sqrs_sum = 0\n",
    "    for i in list_a: \n",
    "        sqrs_sum += get_sqrd_val(i) \n",
    "    return sqrs_sum\n",
    "\n",
    "list_a = [1, 2, 3] \n",
    "sum_of_sqrs = get_sum_of_sqrs(list_a) \n",
    "print(sum_of_sqrs)"
   ]
  },
  {
   "cell_type": "code",
   "execution_count": 2,
   "metadata": {},
   "outputs": [
    {
     "data": {
      "text/plain": [
       "1"
      ]
     },
     "execution_count": 2,
     "metadata": {},
     "output_type": "execute_result"
    }
   ],
   "source": [
    "len('A')"
   ]
  },
  {
   "cell_type": "code",
   "execution_count": null,
   "metadata": {},
   "outputs": [],
   "source": []
  },
  {
   "cell_type": "code",
   "execution_count": 13,
   "metadata": {},
   "outputs": [
    {
     "name": "stdout",
     "output_type": "stream",
     "text": [
      "-24\n"
     ]
    }
   ],
   "source": [
    "x = int(input())\n",
    "n = int(input())\n",
    "sum = 0\n",
    "for i in range(n):\n",
    "    sum += x-(i*2)*(x)\n",
    "print(sum)"
   ]
  },
  {
   "cell_type": "code",
   "execution_count": null,
   "metadata": {},
   "outputs": [],
   "source": []
  }
 ],
 "metadata": {
  "kernelspec": {
   "display_name": "Python 3",
   "language": "python",
   "name": "python3"
  },
  "language_info": {
   "codemirror_mode": {
    "name": "ipython",
    "version": 3
   },
   "file_extension": ".py",
   "mimetype": "text/x-python",
   "name": "python",
   "nbconvert_exporter": "python",
   "pygments_lexer": "ipython3",
   "version": "3.12.2"
  }
 },
 "nbformat": 4,
 "nbformat_minor": 2
}
